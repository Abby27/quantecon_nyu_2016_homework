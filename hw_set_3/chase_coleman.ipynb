{
 "cells": [
  {
   "cell_type": "markdown",
   "metadata": {},
   "source": [
    "# Homework Set 3\n",
    "\n",
    "**Author**: Chase Coleman\n",
    "\n",
    "**NYU ID**: N10827183\n",
    "\n",
    "**Date**: 12 February 2016"
   ]
  },
  {
   "cell_type": "markdown",
   "metadata": {},
   "source": [
    "## Question\n",
    "\n",
    "The file `company_list.csv` in the `hw_set3` directory contains a list of companies, including ticker symbol, name, and market capitalization. Write a program that obtains the daily percentage change in the share price of each of these companies by sending a query to the Yahoo finance API.\n",
    "\n",
    "See\n",
    "\n",
    "[http://www.jarloo.com/yahoo_finance/](http://www.jarloo.com/yahoo_finance/)\n",
    "\n",
    "For some hints on how to do that.\n",
    "\n",
    "Generate a scatter plot of absolute value of percentage change against market capitalization. Are lower cap stocks more volatile according to this measure?\n",
    "\n",
    "The rules of the game are that only these import statements are legal:\n",
    "\n",
    "```python\n",
    "import matplotlib.pyplot as plt\n",
    "import requests\n",
    "import re\n",
    "```\n",
    "\n",
    "Also, the percentage change in prices must be obtained live, when the program is run (assuming a working Internet connection).\n",
    "\n",
    "Submit your work as a Jupyter notebook that contains the program and the resulting figure. You are free to collaborate but should submit your own work."
   ]
  },
  {
   "cell_type": "markdown",
   "metadata": {},
   "source": [
    "## Solution\n",
    "\n",
    "We begin by using the permitted import statements"
   ]
  },
  {
   "cell_type": "code",
   "execution_count": 1,
   "metadata": {
    "collapsed": true
   },
   "outputs": [],
   "source": [
    "import matplotlib.pyplot as plt\n",
    "import requests as r\n",
    "import re\n",
    "\n",
    "%matplotlib inline"
   ]
  },
  {
   "cell_type": "markdown",
   "metadata": {},
   "source": [
    "The first thing we will do is write a function to put all of the company tickers from the file `company_list.csv` into a single list."
   ]
  },
  {
   "cell_type": "code",
   "execution_count": 2,
   "metadata": {
    "collapsed": false
   },
   "outputs": [],
   "source": [
    "def retrieve_company_tickers(fname, tckrloc=0):\n",
    "    \"\"\"\n",
    "    This function retrieves all company tickers from\n",
    "    a file. It requires that company ticker is in the\n",
    "    first column of the file\n",
    "    \n",
    "    Parameters\n",
    "    ----------\n",
    "    fname : string\n",
    "        The name of file (and relative path)\n",
    "    tckrloc : int (default=0)\n",
    "        The column number in which the ticker\n",
    "        name is stored\n",
    "        \n",
    "    Returns\n",
    "    -------\n",
    "    tickerlist : list(strings)\n",
    "        A list of all ticker names\n",
    "    \"\"\"\n",
    "    tickerlist = []\n",
    "    \n",
    "    with open(fname) as f:\n",
    "        for line in f:\n",
    "            # No quotes\n",
    "            line_nq = line.replace('\"', '')\n",
    "            \n",
    "            # Split line at commas\n",
    "            splitline = line_nq.split(',')\n",
    "            \n",
    "            # Company ticker\n",
    "            cticker = splitline[tckrloc]\n",
    "            \n",
    "            # Add ticker to list if it isn't 'Symbol'\n",
    "            if cticker not in (\"symbol\", \"Symbol\"):\n",
    "                tickerlist.append(cticker)\n",
    "            \n",
    "    return tickerlist"
   ]
  },
  {
   "cell_type": "markdown",
   "metadata": {},
   "source": [
    "Our next step will be to write a function which will use the Yahoo API and return several things for a given ticker(s):\n",
    "\n",
    "* Symbol (`s`): This is the symbol for the stock ticker(which we use as an input, but return it anyways)\n",
    "* Opening price (`o`): Price at which the stock opened for the day\n",
    "* Previous closing price (`p`): Price at which the stock closed on previous day\n",
    "* Change Percent Realtime(`k2`): This is the realtime percent change in price for the day\n",
    "* Market Capitalization (`j1`): This is firm's market capitalization\n"
   ]
  },
  {
   "cell_type": "code",
   "execution_count": 3,
   "metadata": {
    "collapsed": false
   },
   "outputs": [],
   "source": [
    "def retrieve_data(ticker):\n",
    "    \"\"\"\n",
    "    Uses the given ticker to retrieve symbol, percentage\n",
    "    change in price (from opening price), and market\n",
    "    capitalization from Yahoo finance\n",
    "    \n",
    "    Parameters\n",
    "    ----------\n",
    "    ticker : String\n",
    "        This is a string of companies that you would like\n",
    "        query the data for. Must be separated by `+`\n",
    "    \n",
    "    Returns\n",
    "    -------\n",
    "    data : Dict\n",
    "        This is a dictionary where the keys are the company\n",
    "        ticker and the value is a dictionary with the\n",
    "        information that is retrieved from Yahoo\n",
    "    \"\"\"\n",
    "    # Set base url (will add parameters to this afterwards)\n",
    "    base_url = \"http://finance.yahoo.com/d/quotes.csv\"\n",
    "    \n",
    "    # Parameters for url\n",
    "    pdict = {}\n",
    "    \n",
    "    # Company/Companies which we will be querying\n",
    "    pdict[\"s\"] = ticker\n",
    "    \n",
    "    # Want symbol/open price/previous close price\n",
    "    #      % change in price/shares outstanding\n",
    "    pdict[\"f\"] = \"sopp2j1j2\"\n",
    "    \n",
    "    # Fetch data from url with given parameters\n",
    "    csv = r.get(base_url, params=pdict)\n",
    "    \n",
    "    # Pass data to another function to get cleaned\n",
    "    data = clean_data(csv)\n",
    "    \n",
    "    return data\n",
    "\n",
    "def clean_data(yahoorequest):\n",
    "    \"\"\"\n",
    "    Cleans data that comes from a Yahoo request\n",
    "    for financial data\n",
    "    \"\"\"\n",
    "    # Create storage dictionary\n",
    "    outdict = {}\n",
    "    \n",
    "    # Elements that we pulled from Yahoo\n",
    "    infokeys = [\"Market Cap\", \"Percent Change\"]\n",
    "    \n",
    "    # Yahoo has odd double quotes everywhere so\n",
    "    # strip all those guys out and split into list\n",
    "    lines = yahoorequest.text.replace('\"', '').split('\\n')[:-1]\n",
    "    \n",
    "    # ... To hell with \"N/A\" and \"N/A\\n\n",
    "    argh = ('N/A', 'N/A\\n')\n",
    "    \n",
    "    for line in lines:\n",
    "        currline = line.split(',')\n",
    "        \n",
    "        # Pull out all info on the line\n",
    "        s, o, p, k2, j1, j2 = currline\n",
    "        \n",
    "        # First try to use what Yahoo has for market cap\n",
    "        if j1 not in argh:\n",
    "            mktcap = convert_market_cap_2_float(j1)\n",
    "        # Next try and compute Market Cap directly\n",
    "        elif (j2 not in argh) and (p not in argh):\n",
    "            mktcap = float(p)*float(j2)\n",
    "        else:\n",
    "            continue\n",
    "        \n",
    "        # Make sure not inf percentage change\n",
    "        if ('inf' not in (k2)) and (k2 not in argh):\n",
    "            perchg = float(k2.strip('+-%'))\n",
    "        else:\n",
    "            continue\n",
    "\n",
    "        outdict[s] = dict(zip(infokeys, [mktcap, perchg]))\n",
    "        \n",
    "    return outdict\n",
    "\n",
    "def convert_market_cap_2_float(mc):\n",
    "    \"\"\"\n",
    "    Converts Yahoo's market caps from strings\n",
    "    to float using M and B\n",
    "    \"\"\"\n",
    "    if mc[-1] in ('M', 'm'):\n",
    "        mcout = float(mc[:-1]) * 1e6\n",
    "    elif mc[-1] in ('B', 'b'):\n",
    "        mcout = float(mc[:-1]) * 1e9\n",
    "    else:\n",
    "        mcout = float(mc)\n",
    "\n",
    "    return mcout"
   ]
  },
  {
   "cell_type": "markdown",
   "metadata": {},
   "source": [
    "Yahoo restricts query's to 200 company names. We will write a function that takes our entire list of company tickers and breaks it up into smaller lists that Yahoo allows us to query with."
   ]
  },
  {
   "cell_type": "code",
   "execution_count": 4,
   "metadata": {
    "collapsed": true
   },
   "outputs": [],
   "source": [
    "def retrieve_all_data(tickers):\n",
    "    \"\"\"\n",
    "    Takes a list of ticker names and query's\n",
    "    Yahoo's financial data base for the\n",
    "    information required for homework 3\n",
    "    \"\"\"\n",
    "    # Number of tickers we have\n",
    "    ntick = len(tickers)\n",
    "    success = []\n",
    "    out = {}\n",
    "    \n",
    "    # Various parameters for iteration\n",
    "    start = 0\n",
    "    step = 175\n",
    "    end = start + step\n",
    "    \n",
    "    while end < ntick:\n",
    "        # Join tickers by \"+\" and then get current data\n",
    "        curr_tickers = '+'.join(tickers[start:end])\n",
    "        littledict = retrieve_data(curr_tickers)\n",
    "        \n",
    "        # Update our final dictionary\n",
    "        out.update(littledict)\n",
    "        \n",
    "        # Update start and end\n",
    "        start = start + step\n",
    "        end = min(end+step, ntick)\n",
    "    \n",
    "    # Create a list of all successful outcomes\n",
    "    success = list(out.keys())\n",
    "\n",
    "    return success, out"
   ]
  },
  {
   "cell_type": "markdown",
   "metadata": {},
   "source": [
    "Now that we have functions to do all of the steps for us, we can simply run these functions on our company list."
   ]
  },
  {
   "cell_type": "code",
   "execution_count": 5,
   "metadata": {
    "collapsed": false
   },
   "outputs": [
    {
     "name": "stdout",
     "output_type": "stream",
     "text": [
      "Successfully retrieved 82.24% of tickers\n"
     ]
    }
   ],
   "source": [
    "# Enter our file path and name\n",
    "fpath = \"../../quantecon_nyu_2016/homework_assignments/hw_set3/\"\n",
    "fname = \"company_list.csv\"\n",
    "\n",
    "# Get all of our tickers\n",
    "alltickers = retrieve_company_tickers(fpath+fname)\n",
    "success, data = retrieve_all_data(alltickers)\n",
    "\n",
    "psuccess = 100 * (len(success) / len(alltickers))\n",
    "print(\"Successfully retrieved {:4.2f}% of tickers\".format(psuccess))"
   ]
  },
  {
   "cell_type": "code",
   "execution_count": 6,
   "metadata": {
    "collapsed": false
   },
   "outputs": [
    {
     "data": {
      "image/png": "[encoded data removed]",
      "text/plain": [
       "<matplotlib.figure.Figure at 0x7f803461d160>"
      ]
     },
     "metadata": {},
     "output_type": "display_data"
    }
   ],
   "source": [
    "def gen_plot(success, data):\n",
    "    \"\"\"\n",
    "    Plots market cap versus percentage change in price\n",
    "    \"\"\"\n",
    "    # Get market cap data\n",
    "    gmc = lambda x: data[x][\"Market Cap\"]\n",
    "    marketcap = list(map(gmc, success))\n",
    "    \n",
    "    # Get percentage change data\n",
    "    gpc = lambda x: data[x][\"Percent Change\"]\n",
    "    perchange = list(map(gpc, success))\n",
    "    \n",
    "    fig, ax = plt.subplots(figsize=(8, 6))\n",
    "    \n",
    "    # Change scale to log log\n",
    "    ax.set_xscale(\"log\")\n",
    "    \n",
    "    # Plot points\n",
    "    ax.scatter(marketcap, perchange, color=\"r\", alpha=0.3)\n",
    "    \n",
    "    # Stylistic stuff\n",
    "    ax.patch.set_facecolor('#ededed')\n",
    "    ax.grid(linestyle='-', linewidth=0.05)\n",
    "    ax.set_xlabel(\"Market Cap\")\n",
    "    ax.set_ylabel(\"Percent Change\")\n",
    "    ax.set_title(\"John's Market Cap v Percentage Change Plot\")\n",
    "    fig.tight_layout()\n",
    "    \n",
    "    return fig\n",
    "\n",
    "fig = gen_plot(success, data)"
   ]
  },
  {
   "cell_type": "code",
   "execution_count": null,
   "metadata": {
    "collapsed": true
   },
   "outputs": [],
   "source": []
  }
 ],
 "metadata": {
  "kernelspec": {
   "display_name": "Python 3",
   "language": "python",
   "name": "python3"
  },
  "language_info": {
   "codemirror_mode": {
    "name": "ipython",
    "version": 3
   },
   "file_extension": ".py",
   "mimetype": "text/x-python",
   "name": "python",
   "nbconvert_exporter": "python",
   "pygments_lexer": "ipython3",
   "version": "3.5.0"
  }
 },
 "nbformat": 4,
 "nbformat_minor": 0
}
