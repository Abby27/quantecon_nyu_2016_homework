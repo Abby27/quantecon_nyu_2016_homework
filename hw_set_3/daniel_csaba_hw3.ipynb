{
 "cells": [
  {
   "cell_type": "code",
   "execution_count": 6,
   "metadata": {
    "collapsed": false
   },
   "outputs": [
    {
     "ename": "TypeError",
     "evalue": "a float is required",
     "output_type": "error",
     "traceback": [
      "\u001b[1;31m---------------------------------------------------------------------------\u001b[0m",
      "\u001b[1;31mTypeError\u001b[0m                                 Traceback (most recent call last)",
      "\u001b[1;32m<ipython-input-6-ddde3d6f85ab>\u001b[0m in \u001b[0;36m<module>\u001b[1;34m()\u001b[0m\n\u001b[0;32m     50\u001b[0m \u001b[1;31m# Take absolute value of the price change\u001b[0m\u001b[1;33m\u001b[0m\u001b[1;33m\u001b[0m\u001b[0m\n\u001b[0;32m     51\u001b[0m \u001b[0mabs_change\u001b[0m \u001b[1;33m=\u001b[0m \u001b[1;33m[\u001b[0m\u001b[0mabs\u001b[0m\u001b[1;33m(\u001b[0m\u001b[0melement\u001b[0m\u001b[1;33m)\u001b[0m \u001b[1;32mfor\u001b[0m \u001b[0melement\u001b[0m \u001b[1;32min\u001b[0m \u001b[0mData_inv\u001b[0m\u001b[1;33m[\u001b[0m\u001b[1;36m3\u001b[0m\u001b[1;33m]\u001b[0m\u001b[1;33m]\u001b[0m\u001b[1;33m\u001b[0m\u001b[0m\n\u001b[1;32m---> 52\u001b[1;33m \u001b[0mmark_cap\u001b[0m \u001b[1;33m=\u001b[0m \u001b[1;33m[\u001b[0m\u001b[0mlog\u001b[0m\u001b[1;33m(\u001b[0m\u001b[0melement\u001b[0m\u001b[1;33m)\u001b[0m \u001b[1;32mfor\u001b[0m \u001b[0melement\u001b[0m \u001b[1;32min\u001b[0m \u001b[0mData_inv\u001b[0m\u001b[1;33m[\u001b[0m\u001b[1;36m2\u001b[0m\u001b[1;33m]\u001b[0m\u001b[1;33m]\u001b[0m\u001b[1;33m\u001b[0m\u001b[0m\n\u001b[0m\u001b[0;32m     53\u001b[0m \u001b[1;33m\u001b[0m\u001b[0m\n\u001b[0;32m     54\u001b[0m \u001b[1;31m# Plot figure\u001b[0m\u001b[1;33m\u001b[0m\u001b[1;33m\u001b[0m\u001b[0m\n",
      "\u001b[1;32m<ipython-input-6-ddde3d6f85ab>\u001b[0m in \u001b[0;36m<listcomp>\u001b[1;34m(.0)\u001b[0m\n\u001b[0;32m     50\u001b[0m \u001b[1;31m# Take absolute value of the price change\u001b[0m\u001b[1;33m\u001b[0m\u001b[1;33m\u001b[0m\u001b[0m\n\u001b[0;32m     51\u001b[0m \u001b[0mabs_change\u001b[0m \u001b[1;33m=\u001b[0m \u001b[1;33m[\u001b[0m\u001b[0mabs\u001b[0m\u001b[1;33m(\u001b[0m\u001b[0melement\u001b[0m\u001b[1;33m)\u001b[0m \u001b[1;32mfor\u001b[0m \u001b[0melement\u001b[0m \u001b[1;32min\u001b[0m \u001b[0mData_inv\u001b[0m\u001b[1;33m[\u001b[0m\u001b[1;36m3\u001b[0m\u001b[1;33m]\u001b[0m\u001b[1;33m]\u001b[0m\u001b[1;33m\u001b[0m\u001b[0m\n\u001b[1;32m---> 52\u001b[1;33m \u001b[0mmark_cap\u001b[0m \u001b[1;33m=\u001b[0m \u001b[1;33m[\u001b[0m\u001b[0mlog\u001b[0m\u001b[1;33m(\u001b[0m\u001b[0melement\u001b[0m\u001b[1;33m)\u001b[0m \u001b[1;32mfor\u001b[0m \u001b[0melement\u001b[0m \u001b[1;32min\u001b[0m \u001b[0mData_inv\u001b[0m\u001b[1;33m[\u001b[0m\u001b[1;36m2\u001b[0m\u001b[1;33m]\u001b[0m\u001b[1;33m]\u001b[0m\u001b[1;33m\u001b[0m\u001b[0m\n\u001b[0m\u001b[0;32m     53\u001b[0m \u001b[1;33m\u001b[0m\u001b[0m\n\u001b[0;32m     54\u001b[0m \u001b[1;31m# Plot figure\u001b[0m\u001b[1;33m\u001b[0m\u001b[1;33m\u001b[0m\u001b[0m\n",
      "\u001b[1;31mTypeError\u001b[0m: a float is required"
     ]
    }
   ],
   "source": [
    "# ==================================================\n",
    "# Homework Set 3\n",
    "# Daniel Csaba, UniID: dc2730\n",
    "# February 25 2016\n",
    "#\n",
    "# Get live data from Yahoo Finance API and\n",
    "# plot daily percentage change in share price\n",
    "# versus market capitalization.\n",
    "# ==================================================\n",
    "\n",
    "%matplotlib inline\n",
    "import matplotlib.pyplot as plt\n",
    "import requests\n",
    "import re\n",
    "from math import log\n",
    "\n",
    "# Open file containing data and create a list with the lines of the file\n",
    "List = open(\"company_list_corrected.csv\").readlines()\n",
    "\n",
    "# Create a 2D array with the company data\n",
    "# For each line creat a list with the following operations\n",
    "# Immediately drop observations whose Mark Cap value is missing\n",
    "# Use RegEx to separate the content of the csv file\n",
    "# Problem: not every item wrapped in quote marks; coma and numbers appear in name as well\n",
    "# Task is to identify relevant patterns characterizing the three values [Sticker, Name, Mark_Cap]\n",
    "\n",
    "Data = [re.findall(r'\\\"(.+?)\\\"', line) + re.findall(r'\\d+[\\.]?\\d+[M|B]?$', line) for line in List if not 'N/A' in line]\n",
    "\n",
    "# Drop labels\n",
    "Labels = Data[0]\n",
    "del Data[0]\n",
    "\n",
    "# Send query for share price change through API\n",
    "# Invert market capitalization to float value & convert M/B to numbers\n",
    "for index, observation in enumerate(Data):\n",
    "    # Request daily precentage change in share price from Yahoo Finance API for each company in list\n",
    "    # Format is '\"+0.00%\"\\n' \n",
    "    r = float(requests.get('http://finance.yahoo.com/d/quotes.csv?s={}&f=p2'.format(Data[index][0])).text.strip('\"%\\n'))\n",
    "    Data[index].append(r)\n",
    "    # Replace M with million\n",
    "    if Data[index][2].endswith('M'):\n",
    "        Data[index][2] = float(Data[index][2].strip('M'))*1.0e6\n",
    "    # Replace B with billion\n",
    "    elif  Data[index][2].endswith('B'):\n",
    "        Data[index][2] = float(Data[index][2].strip('B'))*1.0e9\n",
    "    elif:\n",
    "        Data[index][2] = float(Data[index][2])\n",
    "        \n",
    "        \n",
    "# Invert 2D Array for plotting\n",
    "Data_inv = list(map(list, zip(*Data)))\n",
    "\n",
    "# Take absolute value of the price change\n",
    "abs_change = [abs(element) for element in Data_inv[3]]\n",
    "mark_cap = [log(element) for element in Data_inv[2]]\n",
    "\n",
    "# Plot figure\n",
    "fig, axes = plt.subplots(nrows=1, ncols=2, figsize=(12, 5))\n",
    "axes[0].scatter(mark_cap, abs_change, s=1, c='b', marker='.')\n",
    "#axes[0].set_xlim([0, 1.0e9])\n",
    "axes[0].set_ylim([-4,60])\n",
    "axes[0].set_title('All data')\n",
    "axes[0].set_xlabel('Market Capitalization log scale')\n",
    "axes[0].set_ylabel('Share price change in %')\n",
    "\n",
    "axes[1].scatter(mark_cap, abs_change, s=1, c='b', marker='.')\n",
    "axes[1].set_xlim([0, 28])\n",
    "axes[1].set_ylim([-4,60])\n",
    "axes[1].set_title('To log(\\$ 1 Billion)')\n",
    "axes[1].set_xlabel('Market Capitalization log scale')\n",
    "axes[1].set_ylabel('Share price change in %')\n",
    "plt.show()"
   ]
  },
  {
   "cell_type": "code",
   "execution_count": 16,
   "metadata": {
    "collapsed": false
   },
   "outputs": [],
   "source": [
    "for index, observation in enumerate(Data):\n",
    "    Data[index][2] = float(Data[index][2])\n",
    "    \n",
    "    "
   ]
  },
  {
   "cell_type": "code",
   "execution_count": 17,
   "metadata": {
    "collapsed": false
   },
   "outputs": [],
   "source": [
    "Data_inv = list(map(list, zip(*Data)))"
   ]
  },
  {
   "cell_type": "code",
   "execution_count": 18,
   "metadata": {
    "collapsed": false
   },
   "outputs": [
    {
     "data": {
      "text/plain": [
       "[18130000.0,\n",
       " 38640000.0,\n",
       " 519580000.00000006,\n",
       " 79020000.0,\n",
       " 92930000.0,\n",
       " 792960000.0,\n",
       " 1660000000.0,\n",
       " 858650000.0,\n",
       " 1670000000.0,\n",
       " 226920000.0,\n",
       " 316310000.0,\n",
       " 979210000.0,\n",
       " 206910000.0,\n",
       " 716820000.0,\n",
       " 1160000000.0,\n",
       " 892320000.0,\n",
       " 1600000000.0,\n",
       " 1450000000.0,\n",
       " 81180000.0,\n",
       " 855220.0]"
      ]
     },
     "execution_count": 18,
     "metadata": {},
     "output_type": "execute_result"
    }
   ],
   "source": [
    "Data_inv[2][:20]"
   ]
  },
  {
   "cell_type": "code",
   "execution_count": 15,
   "metadata": {
    "collapsed": false
   },
   "outputs": [
    {
     "data": {
      "text/plain": [
       "['\"ABGB\",\"Abengoa, S.A.\",1.45B\\n',\n",
       " '\"ABEO\",\"Abeona Therapeutics Inc.\",81.18M\\n',\n",
       " '\"ABEOW\",\"Abeona Therapeutics Inc.\",N/A\\n',\n",
       " '\"ABIL\",\"Ability Inc.\",855220.00\\n',\n",
       " '\"ABILW\",\"Ability Inc.\",N/A\\n',\n",
       " '\"ABMD\",\"ABIOMED, Inc.\",3.50B\\n',\n",
       " '\"AXAS\",\"Abraxas Petroleum Corporation\",100.08M\\n']"
      ]
     },
     "execution_count": 15,
     "metadata": {},
     "output_type": "execute_result"
    }
   ],
   "source": [
    "List[21:28]"
   ]
  },
  {
   "cell_type": "code",
   "execution_count": 20,
   "metadata": {
    "collapsed": false
   },
   "outputs": [
    {
     "data": {
      "image/png": "[encoded data removed]",
      "text/plain": [
       "<matplotlib.figure.Figure at 0x7f737ad39ba8>"
      ]
     },
     "metadata": {},
     "output_type": "display_data"
    }
   ],
   "source": [
    "# Take absolute value of the price change\n",
    "abs_change = [abs(element) for element in Data_inv[3]]\n",
    "mark_cap = [log(element) for element in Data_inv[2]]\n",
    "\n",
    "# Plot figure\n",
    "fig, axes = plt.subplots(nrows=1, ncols=2, figsize=(12, 5))\n",
    "axes[0].scatter(mark_cap, abs_change, s=1, c='b', marker='.')\n",
    "#axes[0].set_xlim([0, 1.0e9])\n",
    "axes[0].set_ylim([-4,60])\n",
    "axes[0].set_title('All data')\n",
    "axes[0].set_xlabel('Market Capitalization log scale')\n",
    "axes[0].set_ylabel('Share price change in %')\n",
    "\n",
    "axes[1].scatter(mark_cap, abs_change, s=1, c='b', marker='.')\n",
    "axes[1].set_xlim([10, 28])\n",
    "axes[1].set_ylim([-4,60])\n",
    "axes[1].set_title('To log(\\$ 1 Billion)')\n",
    "axes[1].set_xlabel('Market Capitalization log scale')\n",
    "axes[1].set_ylabel('Share price change in %')\n",
    "plt.show()"
   ]
  },
  {
   "cell_type": "code",
   "execution_count": null,
   "metadata": {
    "collapsed": true
   },
   "outputs": [],
   "source": [
    "[]"
   ]
  }
 ],
 "metadata": {
  "kernelspec": {
   "display_name": "Python 3",
   "language": "python",
   "name": "python3"
  },
  "language_info": {
   "codemirror_mode": {
    "name": "ipython",
    "version": 3
   },
   "file_extension": ".py",
   "mimetype": "text/x-python",
   "name": "python",
   "nbconvert_exporter": "python",
   "pygments_lexer": "ipython3",
   "version": "3.5.1"
  }
 },
 "nbformat": 4,
 "nbformat_minor": 0
}
