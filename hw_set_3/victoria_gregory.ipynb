{
 "cells": [
  {
   "cell_type": "code",
   "execution_count": 1,
   "metadata": {
    "collapsed": false
   },
   "outputs": [
    {
     "data": {
      "image/png": "[encoded data removed]",
      "text/plain": [
       "<matplotlib.figure.Figure at 0x7fde955330b8>"
      ]
     },
     "metadata": {},
     "output_type": "display_data"
    }
   ],
   "source": [
    "%matplotlib inline\n",
    "\n",
    "\"\"\"\n",
    "This program reads in a list of stocks,\n",
    "downloads percentage change in share price from\n",
    "Yahoo finance, and then compares this to the\n",
    "market capitalization.\n",
    "\n",
    "Written by: Victoria Gregory, N14207660\n",
    "Date:       2/23/2016\n",
    "\"\"\"\n",
    "\n",
    "import matplotlib.pyplot as plt\n",
    "import requests\n",
    "import re\n",
    "\n",
    "# initialize some lists for things we'll need\n",
    "capnum = []     # market cap.\n",
    "pct = []        # percent change in price\n",
    "symbols = []    # list of symbols\n",
    "\n",
    "# read in the file, skipping the first line\n",
    "with open('company_list_corrected.csv') as f:\n",
    "    lines = f.readlines()[1:]\n",
    "\n",
    "for line in lines:\n",
    "    # fix weird punctuation instances\n",
    "    line = line.replace(',I',' I')\n",
    "    line = line.replace(', ','')\n",
    "    line = line.replace(',\",','\",')\n",
    "    line = line.replace('\"','')\n",
    "    line = line.replace('\\n','')\n",
    "\n",
    "    # split up the line to get the relevant information\n",
    "    symbol, name, cap = line.split(',')\n",
    "\n",
    "    # fill the list with market cap, if available\n",
    "    basenum = cap[:-1]\n",
    "    units = cap[-1:]\n",
    "    if units=='B':\n",
    "       capnum.append(float(basenum)*1000000000)\n",
    "    elif units=='M':\n",
    "       capnum.append(float(basenum)*1000000)\n",
    "    else:\n",
    "       continue \n",
    "    symbols.append(symbol)\n",
    "\n",
    "\n",
    "# pull data from Yahoo finance, 200 at a time\n",
    "i=0\n",
    "while i<len(symbols):\n",
    "    j=i+200\n",
    "    sym_list = '+'.join(symbols[i:j])\n",
    "\n",
    "    # create the URL string\n",
    "    url = 'http://finance.yahoo.com/d/quotes.csv?s=' + sym_list + '&f=p2'\n",
    "    r=requests.get(url)\n",
    "\n",
    "    # extract the actual numbers from the string\n",
    "    p=re.findall(\"[-]?\\d+[\\.]?\\d*\",r.text)\n",
    "    pct = pct + p\n",
    "    i=j\n",
    "\n",
    "# convert everything to floats\n",
    "pct_f = [float(i) for i in pct]\n",
    "\n",
    "# make scatter plot\n",
    "plt.scatter(capnum,pct_f)\n",
    "plt.xlabel('Market Capitalization')\n",
    "plt.ylabel('Daily Percent Change')\n",
    "plt.show()"
   ]
  },
  {
   "cell_type": "markdown",
   "metadata": {},
   "source": [
    "According to the scatter plot, the companies with lower market capitalization appear to have higher variance in their daily price percentage change."
   ]
  },
  {
   "cell_type": "code",
   "execution_count": null,
   "metadata": {
    "collapsed": true
   },
   "outputs": [],
   "source": []
  }
 ],
 "metadata": {
  "kernelspec": {
   "display_name": "Python 3",
   "language": "python",
   "name": "python3"
  },
  "language_info": {
   "codemirror_mode": {
    "name": "ipython",
    "version": 3
   },
   "file_extension": ".py",
   "mimetype": "text/x-python",
   "name": "python",
   "nbconvert_exporter": "python",
   "pygments_lexer": "ipython3",
   "version": "3.5.1"
  }
 },
 "nbformat": 4,
 "nbformat_minor": 0
}
