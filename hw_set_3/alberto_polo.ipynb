{
 "cells": [
  {
   "cell_type": "code",
   "execution_count": 1,
   "metadata": {
    "collapsed": true
   },
   "outputs": [],
   "source": [
    "# Alberto Polo\n",
    "# NYUID N19683411\n",
    "# Extract list of stocks and analyze relationship between market capitalization and price volatility\n",
    "\n",
    "%matplotlib inline\n",
    "import matplotlib.pyplot as plt\n",
    "import requests"
   ]
  },
  {
   "cell_type": "code",
   "execution_count": 2,
   "metadata": {
    "collapsed": false
   },
   "outputs": [],
   "source": [
    "path = '/home/ap/Data/Documents/NYU/Materials/Quantitative Econ/hw3/'\n",
    "data_list = open(path + 'company_list_corrected.csv', 'r').readlines()\n",
    "varnames = data_list.pop(0)"
   ]
  },
  {
   "cell_type": "code",
   "execution_count": 3,
   "metadata": {
    "collapsed": false
   },
   "outputs": [
    {
     "data": {
      "text/plain": [
       "<matplotlib.text.Text at 0x7fa8391e0940>"
      ]
     },
     "execution_count": 3,
     "metadata": {},
     "output_type": "execute_result"
    },
    {
     "data": {
      "image/png": "[encoded data removed]",
      "text/plain": [
       "<matplotlib.figure.Figure at 0x7fa839a7bfd0>"
      ]
     },
     "metadata": {},
     "output_type": "display_data"
    }
   ],
   "source": [
    "abspchange = []\n",
    "mkcap = []\n",
    "\n",
    "# parse csv file\n",
    "for line in data_list:\n",
    "    \n",
    "    if line.find('N/A') == -1:\n",
    "        \n",
    "        # fix commas and extract data\n",
    "        line = line.replace(\", \",\" \")\n",
    "        line = line.replace(',\",',\",\")\n",
    "        line = line.replace(\",I\",\" I\")      \n",
    "        id, name, cap = line.split(',')\n",
    "        id = id.replace('\"',\"\")\n",
    "\n",
    "        # convert market capitalization in millions\n",
    "        if cap.find(\"B\") != -1:\n",
    "            cap = float(cap.replace(\"B\",\"\"))*1000\n",
    "        elif cap.find(\"M\")!= -1:\n",
    "            cap = float(cap.replace(\"M\",\"\"))\n",
    "        else:\n",
    "            cap = float(cap)/1000000\n",
    "        \n",
    "        # fill in mkcap\n",
    "        mkcap.append(cap)\n",
    "        \n",
    "        # fill in pchange\n",
    "        dest = 'http://finance.yahoo.com/d/quotes.csv?s=' + id + '&f=p2'\n",
    "        pch = requests.get(dest).text\n",
    "        abspchange.append(float(pch.strip('\"%-+\\n'))) # remove -sign to get absolute value\n",
    "\n",
    "# plot mkt capitalization vs. absolute percentage change in price\n",
    "plt.scatter(mkcap, abspchange)\n",
    "plt.xlabel('Market Capitalization (Millions)')\n",
    "plt.ylabel('Daily Change in Share Price (%, Absolute Value)')"
   ]
  },
  {
   "cell_type": "code",
   "execution_count": null,
   "metadata": {
    "collapsed": true
   },
   "outputs": [],
   "source": [
    "# lower capitalization stocks apprear to have higher price volatility according to the daily change in share price"
   ]
  }
 ],
 "metadata": {
  "kernelspec": {
   "display_name": "Python 3",
   "language": "python",
   "name": "python3"
  },
  "language_info": {
   "codemirror_mode": {
    "name": "ipython",
    "version": 3
   },
   "file_extension": ".py",
   "mimetype": "text/x-python",
   "name": "python",
   "nbconvert_exporter": "python",
   "pygments_lexer": "ipython3",
   "version": "3.5.1"
  }
 },
 "nbformat": 4,
 "nbformat_minor": 0
}
