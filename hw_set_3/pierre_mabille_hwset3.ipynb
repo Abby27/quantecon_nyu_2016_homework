{
 "cells": [
  {
   "cell_type": "code",
   "execution_count": 4,
   "metadata": {
    "collapsed": false
   },
   "outputs": [
    {
     "data": {
      "image/png": "[encoded data removed]",
      "text/plain": [
       "<matplotlib.figure.Figure at 0x744ae48>"
      ]
     },
     "metadata": {},
     "output_type": "display_data"
    }
   ],
   "source": [
    "# Pierre Mabille\n",
    "# N10017621\n",
    "# Python program downloading data on stock price changes from Yahoo Finance\n",
    "# and plotting them against market cpaitalizations from given list of companies\n",
    "\n",
    "# plot in the notebook\n",
    "%matplotlib inline \n",
    "# import modules \n",
    "import matplotlib.pyplot as plt # module for graphs\n",
    "import requests # module for urls\n",
    "import re # module for regular expressions\n",
    "\n",
    "# preallocate lists for data extraction from csv (txt) file. will be lists of strings\n",
    "Symbol=[] \n",
    "Name=[] \n",
    "Market_cap0=[]\n",
    "\n",
    "data_file = open('company_list_corrected.txt', 'r')\n",
    "for line in data_file:\n",
    "    line = line.replace('\\n','') # remove line separator \\n from txt file\n",
    "    \n",
    "    s, n, mc = re.split('\",|N/A,N/A', line) # split the line in 3, when separated by '\",' or by 'N/A,N/A'\n",
    "    # append each of these 3 parts to the pre-allocated lists\n",
    "    Symbol.append(s)\n",
    "    Name.append(n)\n",
    "    Market_cap0.append(mc)\n",
    "data_file.close()\n",
    "\n",
    "Market_cap=Market_cap0[1:] # remove headers\n",
    "\n",
    "MC=[] # preallocate list of float to store market cap\n",
    "for mc in Market_cap:\n",
    "    if mc.endswith('M'): # if this string value of Market_cap ends with M, then replace M by 000000\n",
    "        mc=mc.replace('M','000000')\n",
    "        mc1=float(mc)*1e6 # convert the modified string to float\n",
    "    elif mc.endswith('B'): # same for B\n",
    "        mc=mc.replace('B','000000000')\n",
    "        mc1=float(mc)*1e9\n",
    "    elif mc.endswith('N/A'):  # sane for N/A (need nan for conversion to float)\n",
    "        mc=mc.replace('N/A','nan')\n",
    "        mc1=float(mc)\n",
    "    elif mc.endswith('00'):\n",
    "        mc1=float(mc)\n",
    "    MC.append(mc1)\n",
    "    \n",
    "# MC=MC[0:10] # truncate market cap list (faster computation)\n",
    "    \n",
    "Symbol=Symbol[1:]\n",
    "Symbol=[symb.replace('\"','') for symb in Symbol]\n",
    "\n",
    "# Symbol=Symbol[0:10]\n",
    "price_pchange=[]\n",
    "url_pattern='http://finance.yahoo.com/d/quotes.csv?s={}&f=p2'\n",
    "for s in range(len(Symbol)):\n",
    "    url=url_pattern.format(Symbol[s])\n",
    "#     print(url)\n",
    "    r=requests.get(url)\n",
    "#     print(r.text)\n",
    "    a=r.text\n",
    "    a=a.replace('\\n','')\n",
    "    a=a.replace('N/A','nan')\n",
    "    a=a.replace('%','')\n",
    "    a=a.replace('\"','')\n",
    "    s=float(a)\n",
    "    price_pchange.append(s)\n",
    "# print(price_pchange)\n",
    "abs_price_pchange=[abs(p) for p in price_pchange]\n",
    "\n",
    "# plot abs value of perc change in price against market cap\n",
    "fig, ax = plt.subplots()\n",
    "ax.plot(MC,abs_price_pchange,'o')\n",
    "ax.set_title('Volatility and Market Capitalization')\n",
    "ax.set_xlabel('market cap. ($)')\n",
    "ax.set_ylabel('abs. price perc. change (%)')\n",
    "plt.show()\n",
    "\n",
    "# lower cap stocks are more volatile according to this dataset and this measure\n",
    "\n"
   ]
  },
  {
   "cell_type": "code",
   "execution_count": null,
   "metadata": {
    "collapsed": true
   },
   "outputs": [],
   "source": []
  }
 ],
 "metadata": {
  "kernelspec": {
   "display_name": "Python 3",
   "language": "python",
   "name": "python3"
  },
  "language_info": {
   "codemirror_mode": {
    "name": "ipython",
    "version": 3
   },
   "file_extension": ".py",
   "mimetype": "text/x-python",
   "name": "python",
   "nbconvert_exporter": "python",
   "pygments_lexer": "ipython3",
   "version": "3.5.1"
  }
 },
 "nbformat": 4,
 "nbformat_minor": 0
}
