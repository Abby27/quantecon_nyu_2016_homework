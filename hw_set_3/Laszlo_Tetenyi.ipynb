{
 "cells": [
  {
   "cell_type": "markdown",
   "metadata": {},
   "source": [
    "## Heading\n",
    "\n",
    "This is **bold** $\\alpha$"
   ]
  },
  {
   "cell_type": "code",
   "execution_count": 2,
   "metadata": {
    "collapsed": false
   },
   "outputs": [
    {
     "data": {
      "text/plain": [
       "'/home/laszlo'"
      ]
     },
     "execution_count": 2,
     "metadata": {},
     "output_type": "execute_result"
    }
   ],
   "source": [
    "pwd"
   ]
  },
  {
   "cell_type": "code",
   "execution_count": 3,
   "metadata": {
    "collapsed": false
   },
   "outputs": [
    {
     "name": "stdout",
     "output_type": "stream",
     "text": [
      "/home/laszlo/Documents\n"
     ]
    }
   ],
   "source": [
    "cd '/home/laszlo/Documents'"
   ]
  },
  {
   "cell_type": "code",
   "execution_count": 4,
   "metadata": {
    "collapsed": false
   },
   "outputs": [
    {
     "data": {
      "text/plain": [
       "'/home/laszlo/Documents'"
      ]
     },
     "execution_count": 4,
     "metadata": {},
     "output_type": "execute_result"
    }
   ],
   "source": [
    "pwd"
   ]
  },
  {
   "cell_type": "code",
   "execution_count": null,
   "metadata": {
    "collapsed": true
   },
   "outputs": [],
   "source": [
    "# %load download.py\n",
    "import matplotlib.pyplot as plt\n",
    "import requests\n",
    "\n",
    "data_file=open('company_list.csv').readlines()\n",
    "bad_chars = '+$\"%\\n' #Eliminate these characters\n",
    "header= data_file.pop(0) # Remove the header\n",
    "mkc=[]  #initialization\n",
    "symb=[]\n",
    "chg=[]\n",
    "counter=0 # Just to see where the downloading is at\n",
    "for line in data_file:\n",
    "    symbol, name, marketcap = line.split(',') # Split the lines\n",
    "    for c in bad_chars: # Clean the lines\n",
    "       marketcap=marketcap.replace(c,\"\")\n",
    "       symbol=symbol.replace(c,\"\")\n",
    "    marketcap=marketcap.replace(\"n/a\",\"0\") # convention\n",
    "    marketcap=marketcap.replace(\"Ltd.\",\"0\") # convention\n",
    "    marketcap=marketcap.replace(\"Inc.\",\"0\") # convention\n",
    "    if(marketcap.find(\"M\")==-1): #If millions, multiply value by million\n",
    "        if(marketcap.find(\"B\")==-1):\n",
    "            marketcap=float(marketcap)\n",
    "            if(marketcap<1000): \n",
    "                marketcap=marketcap*1000000 #Assume that it is always millions\n",
    "        else:\n",
    "            marketcap=marketcap.replace(\"B\",\"\")\n",
    "            marketcap=float(marketcap)\n",
    "            marketcap=1000000000*marketcap    \n",
    "    else:\n",
    "        marketcap=marketcap.replace(\"M\",\"\")\n",
    "        marketcap=float(marketcap)\n",
    "        marketcap=1000000*marketcap\n",
    "    marketcap=marketcap/1000000   # Everything is in millions\n",
    "    if(marketcap!=0): # Ignore data otherwise\n",
    "        mkc.append(marketcap)\n",
    "        symb.append(symbol)\n",
    "        counter+=1\n",
    "        link='https://finance.yahoo.com/d/quotes.csv?s=%s&f=np2' %symbol\n",
    "        data=requests.get(link)\n",
    "        print(counter)\n",
    "        stringchange=data.text\n",
    "        print( stringchange)\n",
    "        change=stringchange.rpartition(',')[-1] # Tricky -save last part\n",
    "        for c in bad_chars:\n",
    "            change=change.replace(c,\"\")\n",
    "        change=float(change)\n",
    "        chg.append(change)\n",
    "plt.scatter(mkc,chg) #Shows that smaller firms are more volatile\n",
    "plt.show()\n"
   ]
  },
  {
   "cell_type": "code",
   "execution_count": null,
   "metadata": {
    "collapsed": true
   },
   "outputs": [],
   "source": []
  }
 ],
 "metadata": {
  "kernelspec": {
   "display_name": "Python 3",
   "language": "python",
   "name": "python3"
  },
  "language_info": {
   "codemirror_mode": {
    "name": "ipython",
    "version": 3
   },
   "file_extension": ".py",
   "mimetype": "text/x-python",
   "name": "python",
   "nbconvert_exporter": "python",
   "pygments_lexer": "ipython3",
   "version": "3.5.1"
  }
 },
 "nbformat": 4,
 "nbformat_minor": 0
}
