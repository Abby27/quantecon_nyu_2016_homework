{
 "cells": [
  {
   "cell_type": "code",
   "execution_count": 1,
   "metadata": {
    "collapsed": false
   },
   "outputs": [
    {
     "data": {
      "text/plain": [
       "<matplotlib.collections.PathCollection at 0x7f7e46b07588>"
      ]
     },
     "execution_count": 1,
     "metadata": {},
     "output_type": "execute_result"
    },
    {
     "data": {
      "image/png": "[encoded data removed]",
      "text/plain": [
       "<matplotlib.figure.Figure at 0x7f7e65f41da0>"
      ]
     },
     "metadata": {},
     "output_type": "display_data"
    }
   ],
   "source": [
    "# Homework Set 3\n",
    "# Carlos Lizama - N17866309\n",
    "#\n",
    "# Description: My solutions for homework set 3. I first look into the .csv file to see which companies have\n",
    "# available the market capitalization information. The ones that do not are dropped. Then I look for the info in \n",
    "# yahoo finance. I do two inquiries in order to not to crush the website. Finally I obtain the companies for which\n",
    "# mkt cap. and real data is available and plot the scatter plot.\n",
    "\n",
    "import matplotlib.pyplot as plt\n",
    "import requests\n",
    "import re\n",
    "%matplotlib inline\n",
    "\n",
    "url = 'http://finance.yahoo.com/d/quotes.csv'\n",
    "f = open('company_list_corrected.csv')  # open csv with companies. It must be in the pwd.\n",
    "req_info = 'a'    # required info to be obtained from yahoo. k2=Change percent (real time)\n",
    "                  # Note: k2 seems not to be available. The only thing to do is to change k2 for the\n",
    "                  # right code according to the required information. I'm using 'a' only because it seems to be\n",
    "                  # more data available. For the purpose of the course, I think it does not make much difference\n",
    "\n",
    "# these arrays will store info about companies that have info, ie, the ones with N/A are not taken into account.\n",
    "Codes = []\n",
    "MktCaps = []\n",
    "\n",
    "f.__next__()  # skip first line in the file. I know what the headers are.\n",
    "\n",
    "for line in f:\n",
    "    x = line.split('\",')\n",
    "    code = x[0]         # symbol of company in the current line.\n",
    "    mktcap = x[-1]      # mkt cap (string) of the company in current line\n",
    "    \n",
    "    r = re.search('\\d\\.\\d',mktcap) # check whether there is info of capitalization in the .csv file\n",
    "                                   # when there's no info, the observation is dropped. \n",
    "    \n",
    "    # In this part I obtain the market capitalization. Note that it is expressed in millions.\n",
    "    if r:\n",
    "        m = re.search('[MB]',mktcap)  # check if number is expressed in million, billions, etc.\n",
    "        if m:\n",
    "            if m.group(0)=='B':\n",
    "                number = re.split('B',mktcap)\n",
    "                mktcap = float(number[0])*1000\n",
    "            elif m.group(0)=='M':\n",
    "                number = re.split('M',mktcap)\n",
    "                mktcap = float(number[0])\n",
    "        else:\n",
    "            number = re.split(r'\\n',mktcap)\n",
    "            mktcap = float(number[0])/1000\n",
    "        \n",
    "        Codes.append(code[1:])\n",
    "        MktCaps.append(mktcap)\n",
    "    \n",
    "f.close()    \n",
    "\n",
    "n = len(Codes)\n",
    "n2 = n/2              # I will do two inqueries, with only one the website crushes.\n",
    "\n",
    "long_string1 = ''      # create an array with the first half of codes\n",
    "for i in range(int(n2)):\n",
    "    long_string1=long_string1+'+'+Codes[i]\n",
    "\n",
    "long_string1 = long_string1[1:]  # eliminate the first '+' at the beginning.\n",
    "\n",
    "long_string2 = ''      # create an array with the second half of codes\n",
    "for i in range(int(n2)):\n",
    "    long_string2=long_string2+'+'+Codes[int(n2)+i]\n",
    "\n",
    "long_string2 = long_string2[1:]  # eliminate the first '+' at the beginning.\n",
    "\n",
    "\n",
    "# request data from yahoo    \n",
    "req1 = requests.get(url+'?s='+long_string1+'&f='+req_info)\n",
    "req2 = requests.get(url+'?s='+long_string2+'&f='+req_info)\n",
    "\n",
    "# unpack information \n",
    "info1 = re.split(r'\\n',req1.text)\n",
    "del info1[-1]                     # last element is just an empty space since last line ends with '\\n'\n",
    "info2 = re.split(r'\\n',req2.text)\n",
    "del info2[-1]\n",
    "Info = info1 + info2\n",
    "\n",
    "# in these arrays I save the info of the companies which have available info about mktcap and percent change.\n",
    "Codes2 = []\n",
    "MktCap2 = []\n",
    "Percents = []\n",
    "\n",
    "count = 0\n",
    "for info in Info:\n",
    "    m = re.search('\\d\\.\\d',info)\n",
    "    if m:\n",
    "        Percents.append(float(m.group(0)))\n",
    "        Codes2.append(Codes[count])\n",
    "        MktCap2.append(MktCaps[count])\n",
    "        count+=1\n",
    "\n",
    "plt.scatter(MktCap2,Percents)\n",
    "\n",
    "\n"
   ]
  }
 ],
 "metadata": {
  "kernelspec": {
   "display_name": "Python 3",
   "language": "python",
   "name": "python3"
  },
  "language_info": {
   "codemirror_mode": {
    "name": "ipython",
    "version": 3
   },
   "file_extension": ".py",
   "mimetype": "text/x-python",
   "name": "python",
   "nbconvert_exporter": "python",
   "pygments_lexer": "ipython3",
   "version": "3.5.1"
  }
 },
 "nbformat": 4,
 "nbformat_minor": 0
}
