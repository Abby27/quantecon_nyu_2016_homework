{
 "cells": [
  {
   "cell_type": "markdown",
   "metadata": {},
   "source": [
    "# **Homework Set 3**\n",
    "\n",
    "### James Graham, jag912, N11252710\n",
    "\n",
    "This homework set asked us to write a code in Python to download (in realtime) data from the Yahoo Finance API, to pull daily price changes, and match them with the market capitalization information we already had. The code below implements this problem."
   ]
  },
  {
   "cell_type": "code",
   "execution_count": 3,
   "metadata": {
    "collapsed": false
   },
   "outputs": [
    {
     "data": {
      "image/png": "[encoded data removed]",
      "text/plain": [
       "<matplotlib.figure.Figure at 0x7f3e4ac2fc18>"
      ]
     },
     "metadata": {},
     "output_type": "display_data"
    }
   ],
   "source": [
    "\n",
    "\n",
    "\n",
    "#------------------------------------\n",
    "# Homework Set 3\n",
    "#\n",
    "# James Graham, jag912, N11252710\n",
    "#\n",
    "# This file downloads stock market data from the Yahoo Finance API, \n",
    "# and compares daily price changes to market capitalization\n",
    "#\n",
    "#------------------------------------\n",
    "%matplotlib inline\n",
    "\n",
    "\n",
    "\n",
    "import matplotlib.pyplot as plt\n",
    "import requests\n",
    "import re\n",
    "\n",
    "\n",
    "mktcap_list  = []\n",
    "pchange  = []\n",
    "codes_list = []\n",
    "\n",
    "with open('company_list_corrected.csv') as f:\n",
    "    lines = f.readlines()[1:]\n",
    "\n",
    "# Tidy text for parsing into 'codes','names','mktcap'\n",
    "for line in lines:\n",
    "    line = line.replace('\"',\"\")\n",
    "    line = line.replace(', ',\" \")\n",
    "    line = line.replace(',,',\",\")\n",
    "    line = line.replace(',Inc.', \" Inc\")\n",
    "\n",
    "    # Only parse data that has an mktcap value\n",
    "    if line.find('N/A') == -1:\n",
    "        codes, name, mktcap = line.split(',')\n",
    "\n",
    "        # Convert mktcap values to same units\n",
    "        if \"B\" in mktcap:\n",
    "            mktcap = mktcap.replace('B','')\n",
    "            mktcap = float(mktcap)\n",
    "            mktcap = mktcap*1000\n",
    "        elif \"M\" in mktcap:\n",
    "            mktcap = mktcap.replace('M','')\n",
    "            mktcap = float(mktcap)\n",
    "            mktcap = mktcap\n",
    "\n",
    "        # Add mktcap and codes to lists\n",
    "        mktcap_list.append(mktcap)\n",
    "        codes_list.append(codes)\n",
    "\n",
    "# Pull data from Yahoo finance, 200=maximum number of calls in single pull request\n",
    "j=0\n",
    "i=0\n",
    "while i<len(codes_list):\n",
    "    j=i+200\n",
    "    codes_list_block = '+'.join(codes_list[i:j])\n",
    "\n",
    "    # create the URL string\n",
    "    url = 'http://finance.yahoo.com/d/quotes.csv?s=' + codes_list_block + '&f=p2'\n",
    "    webdata=requests.get(url)\n",
    "\n",
    "    # extract the actual numbers from the string\n",
    "    p=re.findall(\"[-]?\\d+[\\.]?\\d*\",webdata.text)\n",
    "    pchange = pchange + p\n",
    "    i=j\n",
    "i=0\n",
    "\n",
    "# convert percentage change list to floats\n",
    "pchange_list = [float(i) for i in pchange]\n",
    "\n",
    "# plotting\n",
    "fig = plt.figure()\n",
    "plt.scatter(mktcap_list,pchange_list)\n",
    "\n",
    "plt.xlabel('Market Capitalization ($m)', fontsize=18)\n",
    "plt.ylabel('Daily share price change(%)', fontsize=16)\n",
    "axes = plt.gca()\n",
    "axes.set_xlim([-10000,1200000])\n",
    "plt.title('Figure 1: Market Cap. vs. Daily price change')\n",
    "\n",
    "plt.show()\n",
    "\n",
    "\n",
    "# close the open csv file\n",
    "f.close()\n"
   ]
  },
  {
   "cell_type": "markdown",
   "metadata": {},
   "source": [
    "# ** Are stocks with lower market capitalization more volatile? **\n",
    "\n",
    "According to data downloaded at the time of writing and displayed in Figure 1, yes. As market capitalization decreases, the range of daily share price changes increases from $[-10,10]$ to $[-30, 50]$. I do not know of a good reason for this. Perhaps higher market capitalization firms are traded more frequently so that their share prices are more stable, while lower market capitalziation firms are traded infrequently so that trades are associated with large price changes.   "
   ]
  },
  {
   "cell_type": "code",
   "execution_count": null,
   "metadata": {
    "collapsed": true
   },
   "outputs": [],
   "source": []
  }
 ],
 "metadata": {
  "kernelspec": {
   "display_name": "Python 3",
   "language": "python",
   "name": "python3"
  },
  "language_info": {
   "codemirror_mode": {
    "name": "ipython",
    "version": 3
   },
   "file_extension": ".py",
   "mimetype": "text/x-python",
   "name": "python",
   "nbconvert_exporter": "python",
   "pygments_lexer": "ipython3",
   "version": "3.5.1"
  }
 },
 "nbformat": 4,
 "nbformat_minor": 0
}
