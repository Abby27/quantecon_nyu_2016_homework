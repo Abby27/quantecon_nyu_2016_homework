{
 "cells": [
  {
   "cell_type": "markdown",
   "metadata": {},
   "source": [
    "## Homework 3 for ECON-GA 3002, Section 12\n",
    "\n",
    "Arnav Sood, N11193569, `asood@nyu.edu` \n",
    "\n",
    "**Overview:** Given a CSV of companies by exchange ticker, company name, and market capitalization, this notebook plots stock volatility against market capitalization. Volatility is given as daily percent change in stock price, obtained by querying the Yahoo Finance API.\n",
    "\n",
    "**Inelegances**: \n",
    "    - Everything. Everything here is ugly, but it works, so I guess there's some beauty in that.\n",
    "    \n",
    "Credit is due to StackExchange, especially for things like list comprehensions.    "
   ]
  },
  {
   "cell_type": "code",
   "execution_count": 35,
   "metadata": {
    "collapsed": true
   },
   "outputs": [],
   "source": [
    "# First, since we're only allowed three import statements, we might as well use them.\n",
    "import requests as rq\n",
    "import re\n",
    "import matplotlib.pyplot as plt"
   ]
  },
  {
   "cell_type": "code",
   "execution_count": 27,
   "metadata": {
    "collapsed": false
   },
   "outputs": [
    {
     "name": "stdout",
     "output_type": "stream",
     "text": [
      "<_io.TextIOWrapper name='/Users/arnavsood/quantecon/quantecon_nyu_2016/homework_assignments/hw_set3/company_list_corrected.csv' mode='r' encoding='UTF-8'>\n"
     ]
    }
   ],
   "source": [
    "# Now, open up the CSV file, which we downloaded. We're going to use the corrected one for now\n",
    "path = '/Users/arnavsood/quantecon/quantecon_nyu_2016/homework_assignments/hw_set3/company_list_corrected.csv'\n",
    "f = open(path,'r')\n",
    "print(f)"
   ]
  },
  {
   "cell_type": "code",
   "execution_count": 28,
   "metadata": {
    "collapsed": true
   },
   "outputs": [],
   "source": [
    "# Array the lines. We can close f since we're done with it.\n",
    "lines = f.read().split(\"\\n\")\n",
    "f.close()\n",
    "\n",
    "# Set up lines as lists\n",
    "data = [0]*(len(lines)-1)\n",
    "for i in range(len(lines)-1):\n",
    "    data[i] = lines[i].split(',')\n",
    "    \n",
    "# This gives us a slight anomaly for companies with \", Inc.\" in their names, but we'll handle that later. It's not important, since we don't use the names anyway.\n",
    "    \n",
    "# Remove entries with missing data (i.e., 'N/A' market cap).\n",
    "data = [entry for entry in data if entry[2] != 'N/A']\n",
    "for entry in data:\n",
    "    if len(entry) == 4 and entry[3] == 'N/A':\n",
    "        data.remove(entry)\n",
    "data.remove(data[0])\n",
    "    \n",
    "# Set up data receptacles.\n",
    "syms = [\"foo\"]*len(data)\n",
    "caps = [0.00]*len(data)\n",
    "vols = [0.00]*len(data)\n",
    "\n",
    "# Grab the tickers.\n",
    "ticks = re.compile('[A-Z]+')\n",
    "for i in range(0,len(data)):\n",
    "    syms[i] = ticks.findall(data[i][0])[0]\n",
    "    \n",
    "# Group them by 200.\n",
    "tickGroups = [syms[n:n+200] for n in range(0, len(syms), 200)]\n",
    "    \n",
    "# Grab the volatilities.\n",
    "base = 'http://finance.yahoo.com/d/quotes.csv?s='\n",
    "tickstr = base\n",
    "results = [0]*14\n",
    "\n",
    "for i in range(len(tickGroups)):\n",
    "    for j in range(0,len(tickGroups[i])):\n",
    "        if j+1 != len(tickGroups[i]):\n",
    "            tickstr += tickGroups[i][j]+\"+\"\n",
    "        else:\n",
    "            tickstr += tickGroups[i][j]+\"&f=p2\"\n",
    "            results[i] = rq.get(tickstr)\n",
    "            tickstr = base"
   ]
  },
  {
   "cell_type": "code",
   "execution_count": 29,
   "metadata": {
    "collapsed": false,
    "scrolled": false
   },
   "outputs": [
    {
     "name": "stdout",
     "output_type": "stream",
     "text": [
      "[<Response [200]>, <Response [200]>, <Response [200]>, <Response [200]>, <Response [200]>, <Response [200]>, <Response [200]>, <Response [200]>, <Response [200]>, <Response [200]>, <Response [200]>, <Response [200]>, <Response [200]>, <Response [200]>]\n"
     ]
    }
   ],
   "source": [
    "# Inspect results.\n",
    "print(results)"
   ]
  },
  {
   "cell_type": "code",
   "execution_count": 30,
   "metadata": {
    "collapsed": false
   },
   "outputs": [],
   "source": [
    "# Parse through gathered data.\n",
    "nums = re.compile('\\+\\d+\\.\\d+|\\-\\d+\\.\\d+')\n",
    "for i in range(len(results)):\n",
    "    y = results[i].text.split(\"\\n\")\n",
    "    # A manual correction, because of a returned '' at some point.\n",
    "    if i == 13:\n",
    "        del y[71]\n",
    "    for j in range(len(y)):\n",
    "        vols[200*i + j] = nums.findall(y[j])\n",
    "        \n",
    "for i in range(len(vols)):\n",
    "    vols[i] = float(vols[i][0])"
   ]
  },
  {
   "cell_type": "code",
   "execution_count": 31,
   "metadata": {
    "collapsed": false
   },
   "outputs": [
    {
     "name": "stdout",
     "output_type": "stream",
     "text": [
      "[0.47, 0.62, 0.0, -1.29, 0.36, -1.619, 1.7, -4.6, 0.0]\n"
     ]
    }
   ],
   "source": [
    "# Inspect volatilities.\n",
    "print(vols[1:10])"
   ]
  },
  {
   "cell_type": "code",
   "execution_count": 32,
   "metadata": {
    "collapsed": false
   },
   "outputs": [],
   "source": [
    "# Parse market caps. The ugly way.\n",
    "for i in range(len(data)):\n",
    "    if len(data[i]) == 3:\n",
    "        cap = data[i][2]\n",
    "        if cap[len(cap)-1] == 'M':\n",
    "            caps[i] = float(cap[0:len(cap)-1])*1000000\n",
    "        elif cap[len(cap)-1] == 'B':\n",
    "            caps[i] = float(cap[0:len(cap)-1])*1000000000\n",
    "    elif len(data[i]) == 4:\n",
    "        cap = data[i][3]\n",
    "        if cap[len(cap)-1] == 'M':\n",
    "            caps[i] = float(cap[0:len(cap)-1])*1000000\n",
    "        elif cap[len(cap)-1] == 'B':\n",
    "            caps[i] = float(cap[0:len(cap)-1])*1000000000"
   ]
  },
  {
   "cell_type": "code",
   "execution_count": 36,
   "metadata": {
    "collapsed": false
   },
   "outputs": [],
   "source": [
    "# Plot.\n",
    "absvols = [abs(entry) for entry in vols]\n",
    "plt.scatter(absvols,caps)\n",
    "plt.xlabel('Absolute Volatility, Daily % Change')\n",
    "plt.ylabel('Market Cap, USD')\n",
    "plt.show()"
   ]
  },
  {
   "cell_type": "markdown",
   "metadata": {},
   "source": [
    "![title](figure_1.png)"
   ]
  }
 ],
 "metadata": {
  "kernelspec": {
   "display_name": "Python 3",
   "language": "python",
   "name": "python3"
  },
  "language_info": {
   "codemirror_mode": {
    "name": "ipython",
    "version": 3
   },
   "file_extension": ".py",
   "mimetype": "text/x-python",
   "name": "python",
   "nbconvert_exporter": "python",
   "pygments_lexer": "ipython3",
   "version": "3.5.1"
  }
 },
 "nbformat": 4,
 "nbformat_minor": 0
}
