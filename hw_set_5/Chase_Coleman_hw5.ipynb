{
 "cells": [
  {
   "cell_type": "markdown",
   "metadata": {},
   "source": [
    "# Comp Econ Homework Set 5\n",
    "\n",
    "**Author**: Chase Coleman\n",
    "\n",
    "**NYU ID**: N10879183\n",
    "\n",
    "**Due Date**: 7 March 2016"
   ]
  },
  {
   "cell_type": "markdown",
   "metadata": {},
   "source": [
    "## Question\n",
    "\n",
    "Repeat exactly the exercise in homework set 4, but now in Julia. To estimate the bias at each $(\\alpha, n)$ pair, take the average over 10,000 simulations.\n",
    "\n",
    "Using `IJulia`, include your code in a Jupyter notebook that displays the resulting figure int he browser, as well as the time elapsed. In measuring the time elapsed, include only the time it takes to generate all the data. You don't need to include the time it takes to generate the figure.\n",
    "\n",
    "Try to optimize your code."
   ]
  },
  {
   "cell_type": "markdown",
   "metadata": {},
   "source": [
    "## Answer\n",
    "\n",
    "We will take the same approach as in homework 4 and not store any of the simulations by computing the regression coefficient as the simulation is run. This prevents the majority of memory allocation. The regression equation we can use for one dimensional regression is\n",
    "\n",
    "$$\\hat{\\alpha} = \\frac{\\sum_i x_i y_i - E[x] E[y]}{\\sum x_i^2 - n E[x]^2}$$\n",
    "\n",
    "We are supposed to compute the bias for each value of $T = \\{50, 100, 150, \\dots, 500\\}$. If we are smart about our algorithm, we can actually get away with only doing the simulation for the 500 periods and storing the intermediate regressions as we go.\n",
    "\n",
    "The takeaway from this notebook is that the best way to speed up code is to build a better mouse trap."
   ]
  },
  {
   "cell_type": "code",
   "execution_count": 2,
   "metadata": {
    "collapsed": true
   },
   "outputs": [],
   "source": [
    "using Benchmarks\n",
    "using PlotlyJS"
   ]
  },
  {
   "cell_type": "markdown",
   "metadata": {},
   "source": [
    "We will leverage Julia's parallel computing, so we will start 4 additional processors on our computer."
   ]
  },
  {
   "cell_type": "code",
   "execution_count": 3,
   "metadata": {
    "collapsed": false
   },
   "outputs": [
    {
     "data": {
      "text/plain": [
       "4-element Array{Int64,1}:\n",
       " 2\n",
       " 3\n",
       " 4\n",
       " 5"
      ]
     },
     "execution_count": 3,
     "metadata": {},
     "output_type": "execute_result"
    }
   ],
   "source": [
    "addprocs(4)"
   ]
  },
  {
   "cell_type": "markdown",
   "metadata": {},
   "source": [
    "First we will create a simple AR(1) type which will allow us to simulate cleanly. We will also write a function which takes $\\sum_{i=1}^t x_i y_i$, $\\sum_{i=1}^t x_i$, $\\sum_{i=1}^t y_i$, $\\sum_{i=1}^t x_i^2$, and $t$ as inputs and returns the regression coefficient as presented above."
   ]
  },
  {
   "cell_type": "code",
   "execution_count": 4,
   "metadata": {
    "collapsed": false
   },
   "outputs": [],
   "source": [
    "@everywhere begin\n",
    "\n",
    "immutable AR1\n",
    "    α::Float64\n",
    "    β::Float64\n",
    "    σ::Float64\n",
    "end\n",
    "\n",
    "@inline Base.step(ar::AR1, x::Float64) = ar.β + ar.α*x + ar.σ*randn()\n",
    "@inline Base.step(ar::AR1, x::Vector{Float64}, n) =\n",
    "    ar.β + ar.α*x + ar.σ*randn(n)\n",
    "\n",
    "@inline comp_coeff(xiyi, xi, yi, xixi, t) = \n",
    "    (xiyi - (1/t)*xi*yi) / (xixi - (1/t)*xi*xi)\n",
    "end"
   ]
  },
  {
   "cell_type": "markdown",
   "metadata": {},
   "source": [
    "We then set all of the parameter values that we will need"
   ]
  },
  {
   "cell_type": "code",
   "execution_count": 12,
   "metadata": {
    "collapsed": false
   },
   "outputs": [
    {
     "data": {
      "text/plain": [
       "4-element Array{AR1,1}:\n",
       " AR1(0.6,0.0,0.1)\n",
       " AR1(0.7,0.0,0.1)\n",
       " AR1(0.8,0.0,0.1)\n",
       " AR1(0.9,0.0,0.1)"
      ]
     },
     "execution_count": 12,
     "metadata": {},
     "output_type": "execute_result"
    }
   ],
   "source": [
    "αvals = [0.6, 0.7, 0.8, 0.9]\n",
    "Tvals = 50:50:500\n",
    "β, σ, N = 0.0, 0.1, 10000\n",
    "\n",
    "myar1 = [AR1(α, β, σ) for α in αvals]"
   ]
  },
  {
   "cell_type": "markdown",
   "metadata": {},
   "source": [
    "Using these pieces we can estimate the bias for each value of $T$ in a single function by simulating for the maximum value of $T$ and computing the other coefficients along the way."
   ]
  },
  {
   "cell_type": "code",
   "execution_count": 6,
   "metadata": {
    "collapsed": false
   },
   "outputs": [],
   "source": [
    "@everywhere begin\n",
    "\n",
    "function single_estimate(ar::AR1, Tvals::StepRange{Int}, maxT::Int)\n",
    "    # Initialize storage for coefficients\n",
    "    fillval = 1\n",
    "    nTvals = length(Tvals)\n",
    "    αhat = Array(Float64, nTvals)\n",
    "    \n",
    "    # Initialize variables for coefficient computation\n",
    "    xiyi = 0.0\n",
    "    xi = 0.0\n",
    "    yi = 0.0\n",
    "    xixi = 0.0\n",
    "\n",
    "    # Initialize AR(1) state\n",
    "    x = 0.0\n",
    "    y = x\n",
    "\n",
    "    for t in 1:maxT\n",
    "        # One step of AR(1)\n",
    "        x = step(ar, y)\n",
    "        \n",
    "        # Update coefficient vars\n",
    "        xiyi += x*y\n",
    "        xi += x\n",
    "        yi += y\n",
    "        xixi += x*x\n",
    "        \n",
    "        # Update previous value\n",
    "        y = x\n",
    "        if t in Tvals\n",
    "            αhat[fillval] = comp_coeff(xiyi, xi, yi, xixi, t)\n",
    "            fillval += 1\n",
    "        end\n",
    "    end\n",
    "    return (αhat - ar.α)\n",
    "end\n",
    "    \n",
    "end"
   ]
  },
  {
   "cell_type": "markdown",
   "metadata": {},
   "source": [
    "The next function will run our bias function $N$ times. Notice we take advantage of the `@parallel (+)` functionality to sum up all of our biases of the estimate (remember `single_estimate` computes the coefficient for all `T` values)."
   ]
  },
  {
   "cell_type": "code",
   "execution_count": 7,
   "metadata": {
    "collapsed": false
   },
   "outputs": [
    {
     "data": {
      "text/plain": [
       "compute_bias (generic function with 1 method)"
      ]
     },
     "execution_count": 7,
     "metadata": {},
     "output_type": "execute_result"
    }
   ],
   "source": [
    "function compute_bias(ar::AR1, Tvals::StepRange{Int}, N::Int)\n",
    "    # Leave room to place bias values\n",
    "    nT = length(Tvals)\n",
    "\n",
    "    # Compute bias N times\n",
    "    maxT = maximum(Tvals)\n",
    "    biases = @parallel (+) for i in 1:N\n",
    "        single_estimate(ar, Tvals, maxT)\n",
    "    end\n",
    "    \n",
    "    return biases/N\n",
    "end"
   ]
  },
  {
   "cell_type": "code",
   "execution_count": 17,
   "metadata": {
    "collapsed": false
   },
   "outputs": [
    {
     "data": {
      "text/plain": [
       "main (generic function with 1 method)"
      ]
     },
     "execution_count": 17,
     "metadata": {},
     "output_type": "execute_result"
    }
   ],
   "source": [
    "function main(allar1s::Array{AR1}, Tvals::StepRange{Int}, N::Int)\n",
    "    # Get information and allocate for biases\n",
    "    nT = length(Tvals)\n",
    "    nα = length(allar1s)\n",
    "    biases = Array(Float64, nT, nα)\n",
    "    \n",
    "    for (iar1, ar1) in enumerate(allar1s)\n",
    "        biases[:, iar1] = compute_bias(ar1, Tvals, N)\n",
    "    end\n",
    "    \n",
    "    return biases\n",
    "end\n",
    "        "
   ]
  },
  {
   "cell_type": "markdown",
   "metadata": {},
   "source": [
    "We can see what a large effect the better mouse trap had by benchmarking our function. It takes approximately 0.3 seconds."
   ]
  },
  {
   "cell_type": "code",
   "execution_count": 19,
   "metadata": {
    "collapsed": false
   },
   "outputs": [
    {
     "data": {
      "text/plain": [
       "================ Benchmark Results ========================\n",
       "     Time per evaluation: 311.90 ms [278.91 ms, 344.89 ms]\n",
       "Proportion of time in GC: 0.02% [0.00%, 0.15%]\n",
       "        Memory allocated: 1.45 mb\n",
       "   Number of allocations: 19234 allocations\n",
       "       Number of samples: 29\n",
       "   Number of evaluations: 29\n",
       " Time spent benchmarking: 9.56 s\n"
      ]
     },
     "execution_count": 19,
     "metadata": {},
     "output_type": "execute_result"
    }
   ],
   "source": [
    "@benchmark main(myar1, Tvals, N)"
   ]
  },
  {
   "cell_type": "markdown",
   "metadata": {},
   "source": [
    "We can now compute and plot the biases generated by our `main` function"
   ]
  },
  {
   "cell_type": "code",
   "execution_count": 30,
   "metadata": {
    "collapsed": false
   },
   "outputs": [
    {
     "data": {
      "text/html": [
       "<div id=\"b0bf67c2-5ea5-447a-a3db-36a3808477c5\"></div>\n",
       "\n",
       "<script>\n",
       "   thediv = document.getElementById('b0bf67c2-5ea5-447a-a3db-36a3808477c5');\n",
       "var data = [{\"type\":\"scatter\",\"y\":[-0.0699629317468814,-0.034013366453775805,-0.022391646367823027,-0.016685088460519682,-0.013950379776484329,-0.011711737863019486,-0.01006820752558966,-0.00865531837096168,-0.007658382326047582,-0.0067463699344057345],\"name\":\"α = 0.6\",\"x\":[50,100,150,200,250,300,350,400,450,500]},{\"type\":\"scatter\",\"y\":[-0.07975730283683909,-0.03902743944896759,-0.025964770040490425,-0.019094185534121788,-0.015151165700524152,-0.01246616362735656,-0.010432392975816322,-0.009356313010095428,-0.008163023703038296,-0.007303033223058818],\"name\":\"α = 0.7\",\"x\":[50,100,150,200,250,300,350,400,450,500]},{\"type\":\"scatter\",\"y\":[-0.09027851924771985,-0.044962111084148985,-0.02938786991009649,-0.021631971174797704,-0.01710523304231467,-0.014214056495608845,-0.012024930439129847,-0.010548299886903107,-0.0092484163010455,-0.008408586420651414],\"name\":\"α = 0.8\",\"x\":[50,100,150,200,250,300,350,400,450,500]},{\"type\":\"scatter\",\"y\":[-0.1030730980542139,-0.04989837192965765,-0.032828030306049166,-0.02439411598589319,-0.019675222737733963,-0.016254190237676387,-0.01381857202688035,-0.012065097181718328,-0.010611531677951326,-0.00944453562133413],\"name\":\"α = 0.9\",\"x\":[50,100,150,200,250,300,350,400,450,500]}]\n",
       "var layout = {\"yaxis\":{\"title\":\"Bias\"},\"xaxis\":{\"title\":\"Value of T\"},\"title\":\"Downward Bias Plot\",\"margin\":{\"r\":50,\"l\":50,\"b\":50,\"t\":60}}\n",
       "\n",
       "Plotly.plot(thediv, data,  layout, {showLink: false});\n",
       "\n",
       " </script>\n"
      ]
     },
     "execution_count": 30,
     "metadata": {},
     "output_type": "execute_result"
    }
   ],
   "source": [
    "biases = main(myar1, Tvals, N)\n",
    "\n",
    "t1 = scatter(;x=Tvals, y=biases[:, 1], name=\"α = $(myar1[1].α)\")\n",
    "t2 = scatter(;x=Tvals, y=biases[:, 2], name=\"α = $(myar1[2].α)\")\n",
    "t3 = scatter(;x=Tvals, y=biases[:, 3], name=\"α = $(myar1[3].α)\")\n",
    "t4 = scatter(;x=Tvals, y=biases[:, 4], name=\"α = $(myar1[4].α)\")\n",
    "\n",
    "l = Layout(;title=\"Downward Bias Plot\",\n",
    "            xaxis_title=\"Value of T\",\n",
    "            yaxis_title=\"Bias\")\n",
    "\n",
    "plot([t1, t2, t3, t4], l)\n"
   ]
  },
  {
   "cell_type": "code",
   "execution_count": null,
   "metadata": {
    "collapsed": true
   },
   "outputs": [],
   "source": []
  }
 ],
 "metadata": {
  "kernelspec": {
   "display_name": "Julia 0.4.1",
   "language": "julia",
   "name": "julia-0.4"
  },
  "language_info": {
   "file_extension": ".jl",
   "mimetype": "application/julia",
   "name": "julia",
   "version": "0.4.1"
  }
 },
 "nbformat": 4,
 "nbformat_minor": 0
}
