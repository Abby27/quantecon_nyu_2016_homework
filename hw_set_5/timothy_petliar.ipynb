{
 "cells": [
  {
   "cell_type": "markdown",
   "metadata": {},
   "source": [
    "# HW5\n",
    "# Timothy Petliar\n",
    "# NYU ID: N12592901"
   ]
  },
  {
   "cell_type": "markdown",
   "metadata": {},
   "source": [
    "The objective of this assignment is use Julia to demonstrate that the ordinary least square estimate for an Ar(1) is downard biased on averaged. The estimate for (alpha, n), where alpha is one of 5 parameters and n s one of 10 samples sizes, is computed 10,000 times."
   ]
  },
  {
   "cell_type": "code",
   "execution_count": 60,
   "metadata": {
    "collapsed": false
   },
   "outputs": [
    {
     "data": {
      "text/plain": [
       "1000"
      ]
     },
     "execution_count": 60,
     "metadata": {},
     "output_type": "execute_result"
    }
   ],
   "source": [
    "time()\n",
    "using PlotlyJS\n",
    "\n",
    "alpha=[0.5, 0.6, 0.7, 0.8, 0.9]\n",
    "beta=ones(1,5)\n",
    "sigma=ones(1,5)\n",
    "trials=1000"
   ]
  },
  {
   "cell_type": "markdown",
   "metadata": {},
   "source": [
    "The above code is just the intial values and is is fairly obvious\n"
   ]
  },
  {
   "cell_type": "code",
   "execution_count": 46,
   "metadata": {
    "collapsed": true
   },
   "outputs": [],
   "source": [
    "@everywhere function process_data(sm_x, sm_y ,sm_x_sqrd , sm_x_y, k, a)\n",
    "    mean_x=sm_x/(k-1)\n",
    "    mean_y=sm_y/(k-1)\n",
    "    alpha_est_bias=(sm_x_y-(k-1)*mean_x*mean_y)/(sm_x_sqrd-(k-1)*mean_x*mean_x)-a\n",
    "    return alpha_est_bias\n",
    "end"
   ]
  },
  {
   "cell_type": "markdown",
   "metadata": {},
   "source": [
    "This function will use some inputs computed from the AR1 to actually compute the bias\n"
   ]
  },
  {
   "cell_type": "code",
   "execution_count": 47,
   "metadata": {
    "collapsed": true
   },
   "outputs": [],
   "source": [
    "@everywhere function ar1_ols_data(a,b,s)\n",
    "   \n",
    "    sm_x=0 # sum of x_t\n",
    "    sm_y=0 #sum of x_t+1\n",
    "    sm_x_sqrd=0 \n",
    "    sm_x_y=0 # sum of x_t*x_t+1\n",
    "    y=b/(1-a) #starting value\n",
    "    results=[]\n",
    "    for k=1:500  \n",
    "        x=y\n",
    "        sm_x+=x\n",
    "        sm_x_sqrd+=x^2\n",
    "        y=b+a*y+s*randn()\n",
    "        sm_y+=y\n",
    "        sm_x_y+=x*y\n",
    "        if (k in collect(50:50:500))==true  #Samle sizes less than 500 are computed along the way\n",
    "            result=process_data(sm_x, sm_y, sm_x_sqrd,sm_x_y,k, a)\n",
    "            convert(Float64,result)\n",
    "            i=convert(Int, k/50)\n",
    "            \n",
    "            push!(results, result)\n",
    "        end\n",
    "    end\n",
    "    return results\n",
    "       \n",
    "end"
   ]
  },
  {
   "cell_type": "markdown",
   "metadata": {},
   "source": [
    "The function above simulatesthe AR(1) for one set of parameters and computed values relevant to the ols calculation. The relevant values are then passed to Process_Data, returns the bias. An array is returned containing biases for each sample size"
   ]
  },
  {
   "cell_type": "code",
   "execution_count": 49,
   "metadata": {
    "collapsed": true
   },
   "outputs": [],
   "source": [
    "@everywhere function repeated_trials(a,b,s,n) #For each set of parameters, simulated 10,000 runs\n",
    "    sm_results=zeros(10)\n",
    "    for i=1:n\n",
    "        results=ar1_ols_data(a,b,s)\n",
    "        sm_results+=results\n",
    "    end\n",
    "    avg_bias=sm_results/n\n",
    "    return  # computes and return the average of the ols estimated for all sample sizes, but only set of parameters\n",
    "end"
   ]
  },
  {
   "cell_type": "code",
   "execution_count": 63,
   "metadata": {
    "collapsed": true
   },
   "outputs": [],
   "source": [
    "@everywhere function different_params(alpha, beta, sigma, trials)\n",
    "    global alpha_1;\n",
    "    global alpha_2    \n",
    "    global alpha_3\n",
    "    global alpha_4\n",
    "    global alpha_5\n",
    "    t=trials\n",
    "    alpha_1=repeated_trials(alpha[1], beta[1], sigma[1],t)\n",
    "    alpha_2=repeated_trials(alpha[2], beta[2], sigma[2],t)\n",
    "    alpha_3=repeated_trials(alpha[3], beta[3], sigma[3],t)\n",
    "    alpha_4=repeated_trials(alpha[4], beta[4], sigma[4],t)\n",
    "    alpha_5=repeated_trials(alpha[5], beta[5], sigma[5],t)\n",
    "    print(alpha_1)\n",
    "    return 0\n",
    "end\n",
    "\n",
    " "
   ]
  },
  {
   "cell_type": "markdown",
   "metadata": {},
   "source": [
    "When the functon above is called, it computed the average for all sets of parameters, by passing to the other functions. \n",
    "Each set of parameters is computed separetly and is as separate array, which is easier to work with for plotting. The variables are global, to avoid having to messily return multiple values in some sort of matrix. I think that writing in this form may also allow simple parallel computing.\n",
    "\n",
    "\n"
   ]
  },
  {
   "cell_type": "code",
   "execution_count": 71,
   "metadata": {
    "collapsed": false
   },
   "outputs": [
    {
     "name": "stdout",
     "output_type": "stream",
     "text": [
      "time elapsed=5"
     ]
    },
    {
     "data": {
      "text/html": [
       "<div id=\"b80a7c64-3ff8-43c8-a1f3-019c821a8058\"></div>\n",
       "\n",
       "<script>\n",
       "   thediv = document.getElementById('b80a7c64-3ff8-43c8-a1f3-019c821a8058');\n",
       "var data = [{\"type\":\"scatter\",\"y\":[-0.09106362426275427,-0.04201154248759044,-0.0265574852132879,-0.019908982208068,-0.015903960011117078,-0.013429107124504383,-0.011730567545992691,-0.010240969810065587,-0.009167679319741192,-0.008348897577574248],\"name\":\"alpha=0.5\",\"x\":[50,100,150,200,250,300,350,400,450,500],\"mode\":\"lines\"},{\"type\":\"scatter\",\"y\":[-0.11329682549180166,-0.04948637741240015,-0.032581841135715044,-0.024172111694631494,-0.019554026348914125,-0.016288272215366165,-0.013653386797433671,-0.011882064734168902,-0.010241957420547516,-0.009371368354541335],\"name\":\"alpha=0.6\",\"x\":[50,100,150,200,250,300,350,400,450,500],\"mode\":\"lines\"},{\"type\":\"scatter\",\"y\":[-0.142048113689499,-0.056423893256749375,-0.035728650254885544,-0.025968872694201922,-0.02058947950299159,-0.017018495022598844,-0.014448397258734156,-0.012228198146578106,-0.010956293906490902,-0.009788184746432534],\"name\":\"alpha=0.7\",\"x\":[50,100,150,200,250,300,350,400,450,500],\"mode\":\"lines\"},{\"type\":\"scatter\",\"y\":[-0.2373808038142924,-0.06972867938053585,-0.041227187392200014,-0.02990586217296638,-0.023276965227761983,-0.01887263651402513,-0.01608827932248422,-0.013879290206856661,-0.012243490041459122,-0.010944858060385192],\"name\":\"alpha=0.8\",\"x\":[50,100,150,200,250,300,350,400,450,500],\"mode\":\"lines\"},{\"type\":\"scatter\",\"y\":[-0.5463224843851674,-0.12977864855976626,-0.05772080869896146,-0.037840177529821876,-0.02778323345076372,-0.02224300262428905,-0.01883862234910566,-0.01612800259924259,-0.014043757556126465,-0.01245244628489077],\"name\":\"alpha=0.9\",\"x\":[50,100,150,200,250,300,350,400,450,500],\"mode\":\"lines\"}]\n",
       "var layout = {\"yaxis\":{\"title\":\"Average Bias\"},\"xaxis\":{\"title\":\"Sample size\"},\"title\":\"OLS Estimate Bias\",\"margin\":{\"r\":50,\"l\":50,\"b\":50,\"t\":60}}\n",
       "\n",
       "Plotly.plot(thediv, data,  layout, {showLink: false});\n",
       "\n",
       " </script>\n"
      ]
     },
     "execution_count": 71,
     "metadata": {},
     "output_type": "execute_result"
    },
    {
     "name": "stdout",
     "output_type": "stream",
     "text": [
      ".460968017578125\n"
     ]
    }
   ],
   "source": [
    "using PlotlyJS\n",
    "t0=time()\n",
    "alpha=[0.5, 0.6, 0.7, 0.8, 0.9]\n",
    "beta=ones(1,5)\n",
    "sigma=ones(1,5)\n",
    "trials=10000\n",
    "\n",
    "\n",
    "@everywhere function process_data(sm_x, sm_y ,sm_x_sqrd , sm_x_y, k, a)\n",
    "    mean_x=sm_x/(k-1)\n",
    "    mean_y=sm_y/(k-1)\n",
    "    alpha_est_bias=(sm_x_y-(k-1)*mean_x*mean_y)/(sm_x_sqrd-(k-1)*mean_x*mean_x)-a\n",
    "    return alpha_est_bias\n",
    "end\n",
    "\n",
    "@everywhere function ar1_ols_data(a,b,s)\n",
    "   \n",
    "    sm_x=0\n",
    "    sm_y=0\n",
    "    sm_x_sqrd=0\n",
    "    sm_x_y=0\n",
    "    y=b/(1-a)\n",
    "    results=[]\n",
    "    for k=1:500\n",
    "        x=y\n",
    "        sm_x+=x\n",
    "        sm_x_sqrd+=x^2\n",
    "        y=b+a*y+s*randn()\n",
    "        sm_y+=y\n",
    "        sm_x_y+=x*y\n",
    "         if (k in collect(50:50:500))==true\n",
    "            result=process_data(sm_x, sm_y, sm_x_sqrd,sm_x_y,k, a)\n",
    "            convert(Float64,result)\n",
    "            i=convert(Int, k/50)\n",
    "            \n",
    "            push!(results, result)\n",
    "        end\n",
    "    end\n",
    "    return results\n",
    "       \n",
    "end\n",
    "\n",
    "@everywhere function repeated_trials(a,b,s,n)\n",
    "    sm_results=zeros(10)\n",
    "    for i=1:n\n",
    "        results=ar1_ols_data(a,b,s)\n",
    "        sm_results+=results\n",
    "    end\n",
    "    avg_bias=sm_results/n\n",
    "    return avg_bias\n",
    "end\n",
    "\n",
    "@everywhere function different_params(alpha, beta, sigma, trials)\n",
    "    global alpha_1;\n",
    "    global alpha_2    \n",
    "    global alpha_3\n",
    "    global alpha_4\n",
    "    global alpha_5\n",
    "    t=trials\n",
    "    alpha_1=repeated_trials(alpha[1], beta[1], sigma[1],t)\n",
    "    alpha_2=repeated_trials(alpha[2], beta[2], sigma[2],t)\n",
    "    alpha_3=repeated_trials(alpha[3], beta[3], sigma[3],t)\n",
    "    alpha_4=repeated_trials(alpha[4], beta[4], sigma[4],t)\n",
    "    alpha_5=repeated_trials(alpha[5], beta[5], sigma[5],t)\n",
    "    return 0\n",
    "end\n",
    " \n",
    "        \n",
    "different_params(alpha, beta,sigma, trials)\n",
    "elapsed=time()-t0\n",
    "println(\"time elapsed=\", elapsed)\n",
    "function make_plot()\n",
    "    x_points=collect(50:50:500)\n",
    "    trace1 = scatter(;x=x_points, y=alpha_1,mode=\"lines\", name=\"alpha=0.5\")\n",
    "    trace2 = scatter(;x=x_points, y=alpha_2,mode=\"lines\", name=\"alpha=0.6\")\n",
    "    trace3 = scatter(;x=x_points, y=alpha_3, mode=\"lines\",name=\"alpha=0.7\")\n",
    "    trace4 = scatter(;x=x_points, y=alpha_4, mode=\"lines\",name=\"alpha=0.8\")\n",
    "    trace5 = scatter(;x=x_points, y=alpha_5, mode=\"lines\", name=\"alpha=0.9\")\n",
    "    \n",
    "    plt_params = Layout(;title=\"OLS Estimate Bias\",\n",
    "    xaxis_title=\"Sample size\",\n",
    "    yaxis_title=\"Average Bias\")\n",
    "    \n",
    "    plot([trace1, trace2, trace3, trace4, trace5], plt_params)\n",
    "    \n",
    "end\n",
    "\n",
    "make_plot()"
   ]
  },
  {
   "cell_type": "markdown",
   "metadata": {},
   "source": [
    "For some strange reason, my Jupyter does not see previous cells, so I'm forced to run the whole chunk of code. As you can see, it took approximetly 5 seconds(It's cut off by the plot). to do all the calculations, which does not seem terrible. In fact, it's pretty similar to the run time I had for the program written in C. The actual results look really good. The ols estimate is both downward biased and increasing in accuracy for all parmater values, as is expected."
   ]
  }
 ],
 "metadata": {
  "kernelspec": {
   "display_name": "Julia 0.4.3",
   "language": "julia",
   "name": "julia-0.4"
  },
  "language_info": {
   "file_extension": ".jl",
   "mimetype": "application/julia",
   "name": "julia",
   "version": "0.4.3"
  }
 },
 "nbformat": 4,
 "nbformat_minor": 0
}
