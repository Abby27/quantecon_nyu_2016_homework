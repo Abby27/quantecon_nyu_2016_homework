{
 "cells": [
  {
   "cell_type": "markdown",
   "metadata": {},
   "source": [
    "### Homework 4\n",
    "Felipe Alves - N14713445"
   ]
  },
  {
   "cell_type": "markdown",
   "metadata": {},
   "source": [
    "#### Question \n",
    "Show the downward bias of the OLS estimate of $\\alpha$ in the AR1 process\n",
    "\n",
    "$$ X_{t+1} = \\beta + \\alpha X_{t} + \\sigma W_{t+1}, \\quad \\{W_t\\} \\sim \\mathcal{N}(0,1) $$\n",
    "\n",
    "for sample sizes $n=50,100,150, \\ldots, 500$. "
   ]
  },
  {
   "cell_type": "markdown",
   "metadata": {},
   "source": [
    "Going to paralelize the code to make it run faster"
   ]
  },
  {
   "cell_type": "code",
   "execution_count": 1,
   "metadata": {
    "collapsed": false
   },
   "outputs": [],
   "source": [
    "addprocs(6)\n",
    "@everywhere begin\n",
    "\n",
    "type AR1\n",
    "    β::Float64\n",
    "    α::Float64\n",
    "    σ::Float64\n",
    "end\n",
    "    \n",
    "function ar1_sim!(y::Vector{Float64},n::Int64,ar::AR1)\n",
    "    β, α, σ = ar.β, ar.α, ar.σ\n",
    "    y[1] = β/(1-α)\n",
    "    for t=1:n\n",
    "        y[t+1] = β + α * y[t] + σ * randn()\n",
    "    end\n",
    "    return Void \n",
    "end\n",
    "\n",
    "function ols{T}(x::Vector{T},y::Vector{T})\n",
    "\n",
    "    n    = length(x)\n",
    "    X    = [ones(n) x]\n",
    "    βhat = ((X'*X) \\ (X'*y))[2]\n",
    "end\n",
    "\n",
    "function ols{T}(X::Matrix{T},y::Vector{T})\n",
    "\n",
    "    βhat = ((X'*X) \\ (X'*y))[2]\n",
    "end\n",
    "\n",
    "    \n",
    "end"
   ]
  },
  {
   "cell_type": "markdown",
   "metadata": {},
   "source": [
    "### Some Testing"
   ]
  },
  {
   "cell_type": "code",
   "execution_count": 2,
   "metadata": {
    "collapsed": false
   },
   "outputs": [],
   "source": [
    "ar = AR1(.0,.5,1.0)\n",
    "n = 10^6\n",
    "y = zeros(n+1);"
   ]
  },
  {
   "cell_type": "code",
   "execution_count": 6,
   "metadata": {
    "collapsed": false
   },
   "outputs": [
    {
     "name": "stdout",
     "output_type": "stream",
     "text": [
      "  "
     ]
    },
    {
     "data": {
      "text/plain": [
       "Void"
      ]
     },
     "execution_count": 6,
     "metadata": {},
     "output_type": "execute_result"
    },
    {
     "name": "stdout",
     "output_type": "stream",
     "text": [
      "0.011330 seconds (4 allocations: 160 bytes)\n"
     ]
    }
   ],
   "source": [
    "@time ar1_sim!(y,n,ar)"
   ]
  },
  {
   "cell_type": "code",
   "execution_count": 7,
   "metadata": {
    "collapsed": false
   },
   "outputs": [
    {
     "name": "stdout",
     "output_type": "stream",
     "text": [
      "  "
     ]
    },
    {
     "data": {
      "text/plain": [
       "0.5007419816761053"
      ]
     },
     "execution_count": 7,
     "metadata": {},
     "output_type": "execute_result"
    },
    {
     "name": "stdout",
     "output_type": "stream",
     "text": [
      "0.030415 seconds (31 allocations: 38.148 MB, 13.34% gc time)\n"
     ]
    }
   ],
   "source": [
    "@time  ols(y[1:end-1],y[2:end])"
   ]
  },
  {
   "cell_type": "code",
   "execution_count": 8,
   "metadata": {
    "collapsed": false
   },
   "outputs": [
    {
     "name": "stdout",
     "output_type": "stream",
     "text": [
      "  "
     ]
    },
    {
     "data": {
      "text/plain": [
       "0.5007419816761053"
      ]
     },
     "execution_count": 8,
     "metadata": {},
     "output_type": "execute_result"
    },
    {
     "name": "stdout",
     "output_type": "stream",
     "text": [
      "0.007165 seconds (22 allocations: 7.630 MB)\n"
     ]
    }
   ],
   "source": [
    "X = [ones(n) y[1:end-1]]\n",
    "@time  ols(X,y[2:end])"
   ]
  },
  {
   "cell_type": "code",
   "execution_count": 9,
   "metadata": {
    "collapsed": false
   },
   "outputs": [
    {
     "data": {
      "text/plain": [
       "main1 (generic function with 2 methods)"
      ]
     },
     "execution_count": 9,
     "metadata": {},
     "output_type": "execute_result"
    }
   ],
   "source": [
    "#Non parallel function \n",
    "\n",
    "function main1(Eα̂,N,α,Nsim = 10000)    \n",
    "    \n",
    "    for i in eachindex(α) \n",
    "        ar1 = AR1(.0,α[i],1.0)\n",
    "\n",
    "        for nind in eachindex(N)\n",
    "            n = N[nind]\n",
    "            X = Array(Float64,n,2)\n",
    "            fill!(X,1.0)\n",
    "            y = Array(Float64,(n+1))\n",
    "            αhat = .0\n",
    "            for rep = 1:Nsim\n",
    "                ar1_sim!(y,n,ar1)\n",
    "                X[:,2] = y[1:end-1]\n",
    "                αhat += ols(X,y[2:end])\n",
    "            end            \n",
    "            Eα̂[nind,i] = αhat/Nsim\n",
    "        end\n",
    "    end\n",
    "\n",
    "    return Void\n",
    "end"
   ]
  },
  {
   "cell_type": "code",
   "execution_count": 10,
   "metadata": {
    "collapsed": false
   },
   "outputs": [
    {
     "data": {
      "text/plain": [
       "main2 (generic function with 2 methods)"
      ]
     },
     "execution_count": 10,
     "metadata": {},
     "output_type": "execute_result"
    }
   ],
   "source": [
    "#parallel function\n",
    "function main2(Eα̂,N,α,Nsim = 10000)    \n",
    "    \n",
    "@sync @parallel for i in eachindex(α)\n",
    "        \n",
    "        ar1 = AR1(.0,α[i],1.0)\n",
    "\n",
    "        for nind in eachindex(N)\n",
    "            n = N[nind]\n",
    "            y = Array(Float64,(n+1))\n",
    "            αhat = .0\n",
    "            for rep = 1:Nsim\n",
    "                ar1_sim!(y,n,ar1)\n",
    "                αhat += ols(y[1:end-1],y[2:end])\n",
    "            end            \n",
    "            Eα̂[nind,i] = αhat/Nsim\n",
    "        end\n",
    "    end\n",
    "\n",
    "    return Void\n",
    "end"
   ]
  },
  {
   "cell_type": "code",
   "execution_count": 15,
   "metadata": {
    "collapsed": false
   },
   "outputs": [
    {
     "name": "stdout",
     "output_type": "stream",
     "text": [
      "4.490780 seconds (13.80 k allocations: 1.037 MB)\n",
      "  "
     ]
    },
    {
     "data": {
      "text/plain": [
       "Void"
      ]
     },
     "execution_count": 15,
     "metadata": {},
     "output_type": "execute_result"
    }
   ],
   "source": [
    "N = 50:50:500\n",
    "α = [.5,.6,.7,.8,.9]\n",
    "Eα̂ = zeros(length(N),length(α))\n",
    "\n",
    "@time main1(Eα̂,N,α)"
   ]
  },
  {
   "cell_type": "code",
   "execution_count": 18,
   "metadata": {
    "collapsed": false
   },
   "outputs": [
    {
     "name": "stdout",
     "output_type": "stream",
     "text": [
      "  "
     ]
    },
    {
     "data": {
      "text/plain": [
       "Void"
      ]
     },
     "execution_count": 18,
     "metadata": {},
     "output_type": "execute_result"
    },
    {
     "name": "stdout",
     "output_type": "stream",
     "text": [
      "1.942254 seconds (13.75 k allocations: 1.039 MB)\n"
     ]
    }
   ],
   "source": [
    "Eα̂ = SharedArray(Float64,(length(N),length(α)))\n",
    "\n",
    "@time main2(Eα̂,N,α)"
   ]
  },
  {
   "cell_type": "markdown",
   "metadata": {},
   "source": [
    "### Plot"
   ]
  },
  {
   "cell_type": "code",
   "execution_count": 20,
   "metadata": {
    "collapsed": false
   },
   "outputs": [
    {
     "data": {
      "image/png": "[encoded data removed]",
      "text/plain": [
       "PyPlot.Figure(PyObject <matplotlib.figure.Figure object at 0x3187253c8>)"
      ]
     },
     "metadata": {},
     "output_type": "display_data"
    }
   ],
   "source": [
    "using PyPlot\n",
    "\n",
    "fig, ax = subplots(figsize = (8,6))\n",
    "for (i,alp) in enumerate(α)    \n",
    "    ax[:plot](collect(N), Eα̂[:,i]-alp, label = string(L\"$\\alpha =$\",\"$alp\"), lw = 2, alpha = 0.7)    \n",
    "end\n",
    "ax[:legend](loc= \"lower right\", fontsize = 11)\n",
    "ax[:set_xlabel](\"Sample Size\")\n",
    "ax[:set_ylabel](\"Bias\")\n",
    "fig[:show]()\n"
   ]
  }
 ],
 "metadata": {
  "kernelspec": {
   "display_name": "Julia 0.4.3",
   "language": "julia",
   "name": "julia-0.4"
  },
  "language_info": {
   "file_extension": ".jl",
   "mimetype": "application/julia",
   "name": "julia",
   "version": "0.4.3"
  }
 },
 "nbformat": 4,
 "nbformat_minor": 0
}
