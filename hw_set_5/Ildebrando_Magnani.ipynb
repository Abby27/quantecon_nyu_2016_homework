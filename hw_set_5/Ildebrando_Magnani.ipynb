{
 "cells": [
  {
   "cell_type": "markdown",
   "metadata": {},
   "source": [
    "## Ildebrando Magnani\n",
    "\n",
    "im975\n",
    "\n",
    "Homework #5\n",
    "\n",
    "This program shows the downward bias in the OLS estimate of α in the AR(1) process. \n",
    "\n",
    "The estimation is performed for different pairs of \"true\" alphas and sample sizes.\n",
    "\n",
    "I've been having problems with Julia, as the confusion of this code shows. \n",
    "\n",
    "\n",
    "\n",
    "\n",
    "\n"
   ]
  },
  {
   "cell_type": "markdown",
   "metadata": {},
   "source": [
    "We generate a function that runs AR(1) simulation. \n",
    "It returns 2 arrays with \"lagged\" and \"non-lagged\" observations."
   ]
  },
  {
   "cell_type": "code",
   "execution_count": 47,
   "metadata": {
    "collapsed": false
   },
   "outputs": [
    {
     "data": {
      "text/plain": [
       "ar1_gen (generic function with 2 methods)"
      ]
     },
     "execution_count": 47,
     "metadata": {},
     "output_type": "execute_result"
    }
   ],
   "source": [
    "using Distributions: Normal\n",
    "srand(15) #seed selection\n",
    "\n",
    "\n",
    "function ar1_gen(number_of_obs::Int64, alpha::Float64, beta::Float64, s::Float64)\n",
    "    \n",
    "    x = zeros(simulation_length)\n",
    "    x[1] = beta / (1 - alpha)\n",
    "    w = rand(Normal(0.0, 1.0))\n",
    "    \n",
    "    for t in 1:number_of_obs\n",
    "        x[t+1] = beta + alpha * x[t] + s * w[t+1]\n",
    "    end\n",
    "    \n",
    "    x_lagged_obs = x[1:simulation_length-1]\n",
    "    x_obs = x[2:simulation_length]\n",
    "    return x_lagged_obs, x_obs\n",
    "\n",
    "end\n",
    "\n",
    "\n"
   ]
  },
  {
   "cell_type": "markdown",
   "metadata": {},
   "source": [
    "To make a cleaner code, I try to break up the estimation of alpha and the computation of the biases into 2 different functions.\n",
    "\n",
    "Just below we have the function that estimates the alpha parameter."
   ]
  },
  {
   "cell_type": "code",
   "execution_count": 48,
   "metadata": {
    "collapsed": false
   },
   "outputs": [
    {
     "data": {
      "text/plain": [
       "alpha_estimation (generic function with 2 methods)"
      ]
     },
     "execution_count": 48,
     "metadata": {},
     "output_type": "execute_result"
    }
   ],
   "source": [
    "function alpha_estimation(repetition::Int64)\n",
    "    \n",
    "    for i in 1:repetition\n",
    "        xlag, x = ar1_gen(sim_N[n], a, 1, 1)\n",
    "        xlag_2 = xlag ^ 2\n",
    "        x_2 = x^2\n",
    "        xlag_times_x = xlag * x\n",
    "        xlag_times_x_bar = mean(xlag_times_x)\n",
    "        xlag_bar = mean(xlag)\n",
    "        x_bar = mean(xbar)\n",
    "        xlag_2_bar = mean(xlag_2)\n",
    "        xlag_bar_2 = xlag_bar ^ 2\n",
    "        cov = xlag_times_x_bar - (xlag_bar * x_bar)\n",
    "        var = var = xlag_2_bar - xlag_bar_2\n",
    "        alpha_est = cov / var\n",
    "        append!(alpha_estimates, alpha_est)\n",
    "    end\n",
    "    return alpha_estimates\n",
    "\n",
    "end\n",
    "    "
   ]
  },
  {
   "cell_type": "markdown",
   "metadata": {},
   "source": [
    "I now define 2 arrays that contain different \"true alpha\" values and different numbers of AR(1) observations.\n",
    "\n",
    "Then, I create a function that should compute the biases for each (alpha_vals, sim_N) touple."
   ]
  },
  {
   "cell_type": "code",
   "execution_count": 49,
   "metadata": {
    "collapsed": false
   },
   "outputs": [
    {
     "data": {
      "text/plain": [
       "bias_compute (generic function with 2 methods)"
      ]
     },
     "execution_count": 49,
     "metadata": {},
     "output_type": "execute_result"
    }
   ],
   "source": [
    "alpha_vals = linspace(0.5, 0.9, 5)\n",
    "sim_N = linspace(50, 500, 10)\n",
    "biases = zeros(50)\n",
    "experiment_repetition = 10000\n",
    "\n",
    "function bias_compute(N::Int64, alphas::Float64)\n",
    "    \n",
    "@time   for x in 1:length(alpha_vals)\n",
    "        a = x \n",
    "        for n in 1:length(sim_N)\n",
    "            alpha_estimates = zeros(Float64)\n",
    "            alpha_estimates = alpha_estimation(experiment_repetition)  \n",
    "            bias = mean(alpha_estimates) - a \n",
    "            append!(biases, bias)\n",
    "        end\n",
    "    end\n",
    "    return biases\n",
    "\n",
    "end\n"
   ]
  },
  {
   "cell_type": "code",
   "execution_count": 50,
   "metadata": {
    "collapsed": false
   },
   "outputs": [
    {
     "ename": "LoadError",
     "evalue": "LoadError: MethodError: `bias_compute` has no method matching bias_compute(::LinSpace{Float64}, ::LinSpace{Float64})\nwhile loading In[50], in expression starting on line 1",
     "output_type": "error",
     "traceback": [
      "LoadError: MethodError: `bias_compute` has no method matching bias_compute(::LinSpace{Float64}, ::LinSpace{Float64})\nwhile loading In[50], in expression starting on line 1",
      ""
     ]
    }
   ],
   "source": [
    "bias_compute(sim_N, alpha_vals)"
   ]
  },
  {
   "cell_type": "markdown",
   "metadata": {},
   "source": [
    "I replicate the code from last homework to plot the results"
   ]
  },
  {
   "cell_type": "code",
   "execution_count": 51,
   "metadata": {
    "collapsed": false
   },
   "outputs": [
    {
     "ename": "LoadError",
     "evalue": "LoadError: type PyObject has no field subplots\nwhile loading In[51], in expression starting on line 11",
     "output_type": "error",
     "traceback": [
      "LoadError: type PyObject has no field subplots\nwhile loading In[51], in expression starting on line 11",
      ""
     ]
    }
   ],
   "source": [
    "using PyPlot\n",
    "\n",
    "# \"Unpack\" the values of the biases for different values of true alpha\n",
    "a5 = biases[1:10]\n",
    "a6 = biases[11:20]\n",
    "a7 = biases[21:30]\n",
    "a8 = biases[31:40]\n",
    "a9 = biases[41:50]\n",
    "\n",
    "# Plot the results\n",
    "fig, ax = plt.subplots(figsize=(8, 6))\n",
    "x = np.linspace(50, 500, 10)\n",
    "plt.plot(x, a5, color = 'red', linewidth=1, label = 'alpha = 0.5', alpha=0.8)\n",
    "plt.plot(x, a6, color = 'green', linewidth=1, label = 'alpha = 0.6', alpha=0.8)\n",
    "plt.plot(x, a7, color = 'yellow', linewidth=1, label = 'alpha = 0.7', alpha=0.8)\n",
    "plt.plot(x, a8, color = 'black', linewidth=1, label = 'alpha = 0.8', alpha=0.8)\n",
    "plt.plot(x, a9, color = 'brown', linewidth=1, label = 'alpha = 0.9', alpha=0.8)\n",
    "plt.xlabel('Sample Size')\n",
    "plt.ylabel('Bias of OLS estimator alpha')\n",
    "ax.legend(loc='lower right')\n",
    "plt.show()"
   ]
  },
  {
   "cell_type": "markdown",
   "metadata": {},
   "source": [
    "## I apologize for the mess\n"
   ]
  },
  {
   "cell_type": "code",
   "execution_count": null,
   "metadata": {
    "collapsed": true
   },
   "outputs": [],
   "source": []
  }
 ],
 "metadata": {
  "kernelspec": {
   "display_name": "Julia 0.4.3",
   "language": "julia",
   "name": "julia-0.4"
  },
  "language_info": {
   "file_extension": ".jl",
   "mimetype": "application/julia",
   "name": "julia",
   "version": "0.4.3"
  }
 },
 "nbformat": 4,
 "nbformat_minor": 0
}
