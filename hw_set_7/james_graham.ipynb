{
 "cells": [
  {
   "cell_type": "markdown",
   "metadata": {},
   "source": [
    "# Homework 7: contraction mappings\n",
    "\n",
    "## Exercise 1.\n",
    "This notebook implements an iterative procedure for contraction mapping over a pricing function for an asset pricing problem. We want to solve for the pricing function $p(\\cdot)$ in the problem:\n",
    "\n",
    "\\begin{align}\n",
    "p(x) = \\beta  \\sum_{y \\in S}[d(y) + p(y)] q_i(x,y)\n",
    "\\end{align}\n",
    "\n",
    "We use the Theorem from Lucas (1978), which seems to be an application of the contraction mapping theorem. \n",
    "\n",
    "Before we begin, first note that we can stack the dividend as a function of the state space, $d(x)$, as a column vector: $d = [1, 0, 0]'$. This way, our price function can also be described by a vector $p = [p_1, p_2, p_3]'$ where $p_i$ describes the price of the asset in state $i$.\n",
    "\n",
    "Using Python, first we import some useful functions.  "
   ]
  },
  {
   "cell_type": "code",
   "execution_count": 1,
   "metadata": {
    "collapsed": true
   },
   "outputs": [],
   "source": [
    "import numpy as np\n",
    "from numpy.linalg import norm"
   ]
  },
  {
   "cell_type": "markdown",
   "metadata": {},
   "source": [
    "Now, set up the parameters of the model: the discount factor $\\beta$, the vector of dividends $d$ given the state, and the transition matrices $q_1, q_2$ (built from the probabilities $q_1(x,y), q_2(x,y)$. We also set the maximum number of "
   ]
  },
  {
   "cell_type": "code",
   "execution_count": 2,
   "metadata": {
    "collapsed": false
   },
   "outputs": [],
   "source": [
    "beta = 0.98\n",
    "d = np.array([1,0,0])\n",
    "d.shape = 3,1\n",
    "q1 = np.array([[0.971, 0.029, 0.00],[0.145, 0.778, 0.077],[0.00, 0.508, 0.492]])\n",
    "q2 = np.array([[0.871, 0.029, 0.1],[0.145, 0.778, 0.077],[0.00, 0.508, 0.492]])\n",
    "\n",
    "p0 = np.array([1,1,1])\n",
    "p0.shape = 3,1\n",
    "p0\n",
    "\n",
    "maxiter = 10000\n",
    "tol = 1e-5"
   ]
  },
  {
   "cell_type": "markdown",
   "metadata": {},
   "source": [
    "Now create the function that for any given price function (/vector) returns the contraction applied to the function: $Tp$. Note that here I am pre-assigning the parameter $\\beta$, the dividend vector $d$, and the transition probability matrix $q$ to the function `contract`. This way I need only use one input -- the current guess for the pricing vector -- each time I call the function `contract`."
   ]
  },
  {
   "cell_type": "code",
   "execution_count": 3,
   "metadata": {
    "collapsed": true
   },
   "outputs": [],
   "source": [
    "def create_contract(beta, d, q):\n",
    "    def contract(p):\n",
    "        out = beta*q@(d + p)\n",
    "        return out\n",
    "    return contract\n",
    "\n",
    "contract1 = create_contract(beta,d,q1)\n",
    "contract2 = create_contract(beta,d,q2)"
   ]
  },
  {
   "cell_type": "markdown",
   "metadata": {},
   "source": [
    "Create a function `iterate` that takes as inputs: an initial guess $p0$, a maximum number of iterations $K$, a norm tolerance $Ttol$, and a contraction function (parameterized by $\\beta$, $d$, and $q$, as above). `iterate` iterates on the contraction mapping, and returns the pricing function solution."
   ]
  },
  {
   "cell_type": "code",
   "execution_count": 4,
   "metadata": {
    "collapsed": false
   },
   "outputs": [],
   "source": [
    "def create_iterate(p0,maxiter,tol):\n",
    "    def iterate(contract):\n",
    "        Told = contract(p0)\n",
    "        for k in range(maxiter):\n",
    "            Tnew = contract(Told)\n",
    "            if norm(Tnew - Told, np.inf) < tol:\n",
    "                print('Converged in %i iterations\\n' % k)\n",
    "                break    \n",
    "            Told = Tnew\n",
    "        return Tnew\n",
    "    return iterate\n",
    "    \n",
    "iterate = create_iterate(p0,maxiter,tol)"
   ]
  },
  {
   "cell_type": "markdown",
   "metadata": {},
   "source": [
    "Now perform the contraction iteration procedure for the first transition probability matrix, $q_1$:"
   ]
  },
  {
   "cell_type": "code",
   "execution_count": 5,
   "metadata": {
    "collapsed": false
   },
   "outputs": [
    {
     "name": "stdout",
     "output_type": "stream",
     "text": [
      "Converged in 557 iterations\n",
      "\n"
     ]
    },
    {
     "data": {
      "text/plain": [
       "array([[ 40.75929094],\n",
       "       [ 35.96039902],\n",
       "       [ 34.57151895]])"
      ]
     },
     "execution_count": 5,
     "metadata": {},
     "output_type": "execute_result"
    }
   ],
   "source": [
    "p1 = iterate(contract1)\n",
    "p1"
   ]
  },
  {
   "cell_type": "markdown",
   "metadata": {},
   "source": [
    "Now perform the contraction iteration procedure for the second transition probability matrix, $q_2$:"
   ]
  },
  {
   "cell_type": "code",
   "execution_count": 6,
   "metadata": {
    "collapsed": false
   },
   "outputs": [
    {
     "name": "stdout",
     "output_type": "stream",
     "text": [
      "Converged in 527 iterations\n",
      "\n"
     ]
    },
    {
     "data": {
      "text/plain": [
       "array([[ 23.50065386],\n",
       "       [ 21.09835023],\n",
       "       [ 20.28347185]])"
      ]
     },
     "execution_count": 6,
     "metadata": {},
     "output_type": "execute_result"
    }
   ],
   "source": [
    "p2 = iterate(contract2)\n",
    "p2"
   ]
  },
  {
   "cell_type": "markdown",
   "metadata": {},
   "source": [
    "Notice that the pricing function solution returns larger prices in every state of the world under the probability transition matrix $q_1$ than under $q_2$. This is because in the second case, there is a positive probability of transitioning from the Normal Growth (NG) state to the Severe Recession (SR) state. Once in the SR state, there is a zero dividend, but also zero probability of transitioning back to the NG state with a dividend of one. Once in this SR state, you must first transition through the Medium Recession state (with probability 0.508), and then transition into the NG state (with probability 0.145) to get back to earning non-zero dividends.\n",
    "\n",
    "Thus, the probability of entering a state of persistently zero dividends (from any state) is higher under $q_2$ than under $q_1$. For this reason, the price of the asset is lower in all states.\n",
    "\n",
    "Note, too, that this occurs under risk-neutral preferences. Thus the change in price reflects the change in expected values only. With risk-averse preferences, instead, the fall in asset prices would be much larger. \n",
    "\n",
    "## Exercise 2.\n",
    "\n",
    "Now we want to solve the heterogeneous beliefs problem, where the pricing function is given by\n",
    "\n",
    "\\begin{align}\n",
    "p(x) = \\beta \\underset{i \\in \\{1,2\\}}{\\max} \\left\\{ \\sum_{y \\in S}[d(y) + p(y)] q_i(x,y)   \\right\\}\n",
    "\\end{align}\n",
    "\n",
    "We first have to show that the equation has a unique solution in $b \\mathbb{R}^S$, which we can do simply by showing that the linear operator $Tp$ satisfies the assumptions of Theorem 0.1. Namely, that $T: b \\mathbb{R}^S \\rightarrow b \\mathbb{R}^S $ and that $T$ is a contraction. \n",
    "\n",
    "First, we show that the $T$ operator is bounded:\n",
    "\\begin{align}\n",
    "\\lvert Tp(x) \\rvert & = \\beta \\left\\lvert \\underset{i \\in \\{1,2\\}}{\\max} \\sum_{y \\in S}[d(y) + p(y)] q_i(x,y)   \\right\\rvert \\\\\n",
    "& \\leq \\beta \\underset{i \\in \\{1,2\\}}{\\max} \\left\\lvert \\sum_{y \\in S}[d(y) + p(y)] q_i(x,y)  \\right\\rvert \\\\\n",
    "& \\leq \\beta \\underset{i \\in \\{1,2\\}}{\\max} \\sum_{y \\in S} \\left\\lvert d(y) + p(y) \\right\\rvert q_i(x,y) \\\\\n",
    "& \\leq \\beta \\underset{i \\in \\{1,2\\}}{\\max} \\sum_{y \\in S} ( \\| d \\|_{\\infty} + \\| p \\|_{\\infty} ) q_i(x,y) \\\\\n",
    "& = \\beta (\\| d \\|_{\\infty} + \\| p \\|_{\\infty} ) \n",
    "\\end{align}\n",
    "where the final equality follows from the fact that for both agents, probabilities must sum to one. Notice that this is a contstant bound for all $x$ (a uniform bound), and so $\\|Tp\\|_{\\infty} < \\infty $ and so $T: b \\mathbb{R}^S \\rightarrow b \\mathbb{R}^S $.\n",
    "\n",
    "Second, we show that $T$ is a contraction:\n",
    "\\begin{align}\n",
    "\\lvert Tp(x) - Tp'(x) \\rvert & = \\beta \\left\\lvert \\underset{i \\in \\{1,2\\}}{\\max} \\sum_{y \\in S}[d(y) + p(y)] q_i(x,y) - \\underset{i \\in \\{1,2\\}}{\\max} \\sum_{y \\in S}[d(y) + p'(y)] q_i(x,y)   \\right\\rvert \\\\\n",
    "& \\leq \\beta \\underset{i \\in \\{1,2\\}}{\\max} \\left\\lvert  \\sum_{y \\in S}[d(y) + p(y)] q_i(x,y) - \\sum_{y \\in S}[d(y) + p'(y)] q_i(x,y)   \\right\\rvert \\\\\n",
    "& = \\beta \\underset{i \\in \\{1,2\\}}{\\max} \\left\\lvert  \\sum_{y \\in S}[p(y) - p'(y)] q_i(x,y)   \\right\\rvert \\\\\n",
    "& \\leq \\beta \\underset{i \\in \\{1,2\\}}{\\max}  \\sum_{y \\in S} \\left\\lvert p(y) - p'(y) \\right\\rvert q_i(x,y) \\\\\n",
    "& \\leq \\beta \\underset{i \\in \\{1,2\\}}{\\max}  \\sum_{y \\in S} \\| p - p' \\|_{\\infty}  q_i(x,y) \\\\\n",
    "& = \\beta \\| p - p' \\|_{\\infty}\n",
    "\\end{align}\n",
    "Again where the final equality follows from the fact that for both agents, probabilities must sum to one. And again, since the bound is for any $x$, we have that \n",
    "\\begin{align}\n",
    "\\| Tp - Tp' \\|_{\\infty} \\leq \\beta \\| p - p' \\|_{\\infty}\n",
    "\\end{align}\n",
    "And so $T$ is a contraction on $(b \\mathbb{R}^S,d_{\\infty})$. Thus, the theorem applies, and our pricing function under heterogeneous beliefs has a unique solution. "
   ]
  },
  {
   "cell_type": "markdown",
   "metadata": {},
   "source": [
    "### Exercise 3.\n",
    "\n",
    "Now we want to solve the problem when the pricing function reflects the fact that the marginal investor in a given state $x$ is the one with the highest probability weighted valuation of the asset. The pricing function is given by\n",
    "\n",
    "\\begin{align}\n",
    "p(x) = \\beta \\underset{i \\in \\{1,2\\}}{\\max} \\left\\{ \\sum_{y \\in S}[d(y) + p(y)] q_i(x,y)   \\right\\}\n",
    "\\end{align}\n",
    "\n",
    "We simply have to adjust the above code to take account of the maximum."
   ]
  },
  {
   "cell_type": "code",
   "execution_count": 7,
   "metadata": {
    "collapsed": true
   },
   "outputs": [],
   "source": [
    "def iterate_het(p0,maxiter,tol,contract1,contract2):\n",
    "    Told = np.maximum(contract1(p0),contract2(p0))\n",
    "    for k in range(maxiter):\n",
    "        Tnew = np.maximum(contract1(Told),contract2(Told))\n",
    "        if norm(Tnew - Told, np.inf) < tol:\n",
    "            print('Converged in %i iterations\\n' % k)\n",
    "            break    \n",
    "        Told = Tnew\n",
    "    return Tnew"
   ]
  },
  {
   "cell_type": "code",
   "execution_count": 8,
   "metadata": {
    "collapsed": false
   },
   "outputs": [
    {
     "name": "stdout",
     "output_type": "stream",
     "text": [
      "Converged in 557 iterations\n",
      "\n"
     ]
    },
    {
     "data": {
      "text/plain": [
       "array([[ 40.75929094],\n",
       "       [ 35.96039902],\n",
       "       [ 34.57151895]])"
      ]
     },
     "execution_count": 8,
     "metadata": {},
     "output_type": "execute_result"
    }
   ],
   "source": [
    "phet = iterate_het(p0,maxiter,tol,contract1,contract2)\n",
    "phet"
   ]
  },
  {
   "cell_type": "markdown",
   "metadata": {},
   "source": [
    "The agent with the larger probability belief on remaining in state NG (agent 1) puts more value on the asset in every state, and so is the marginal agent with respect to pricing the asset. As such, the pricing function under heterogeneous agents is the same as the pricing function under agent 1's beliefs alone. "
   ]
  },
  {
   "cell_type": "markdown",
   "metadata": {
    "collapsed": true
   },
   "source": [
    "## Extra credit question\n",
    "\n",
    "We are asked to prove the hint we used in the proof in exercise 2. Namely, show that:\n",
    "\\begin{align}\n",
    "\\left\\lvert \\underset{i}{\\max} a_i - \\underset{i}{\\max} b_i \\right\\rvert \\leq \\underset{i}{\\max} \\left\\lvert a_i - b_i \\right\\rvert\n",
    "\\end{align}\n",
    "\n",
    "A proof proceeds as follows: \n",
    "\\begin{align}\n",
    "\\underset{i}{\\max} \\left\\lvert a_i - b_i \\right\\rvert & \\geq  \\left\\lvert \\underset{i}{\\max} \\left( a_i - b_i \\right) \\right\\rvert \\\\\n",
    "& \\geq \\left\\lvert \\underset{i}{\\max} \\left( a_i - \\left( \\underset{j}{\\max} b_j \\right) \\right) \\right\\rvert \\\\\n",
    "& \\geq \\left\\lvert \\underset{i}{\\max} a_i - \\underset{i}{\\max} b_i \\right\\rvert\n",
    "\\end{align}\n",
    "\n",
    "Where the final inequality follows from the fact that $ ( \\underset{j}{\\max} b_j ) $ is a constant relative to the outer maximum's index, and so can be taken outside of the outer maximum. I think the same argument follows with an arbitrary index set $i$, and so the same proof should follow but replacing max with sup. \n"
   ]
  },
  {
   "cell_type": "code",
   "execution_count": null,
   "metadata": {
    "collapsed": true
   },
   "outputs": [],
   "source": []
  },
  {
   "cell_type": "code",
   "execution_count": null,
   "metadata": {
    "collapsed": true
   },
   "outputs": [],
   "source": []
  }
 ],
 "metadata": {
  "kernelspec": {
   "display_name": "Python 3",
   "language": "python",
   "name": "python3"
  },
  "language_info": {
   "codemirror_mode": {
    "name": "ipython",
    "version": 3
   },
   "file_extension": ".py",
   "mimetype": "text/x-python",
   "name": "python",
   "nbconvert_exporter": "python",
   "pygments_lexer": "ipython3",
   "version": "3.5.1"
  }
 },
 "nbformat": 4,
 "nbformat_minor": 0
}
