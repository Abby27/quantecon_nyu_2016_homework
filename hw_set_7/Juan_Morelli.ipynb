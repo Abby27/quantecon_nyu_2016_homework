{
 "cells": [
  {
   "cell_type": "markdown",
   "metadata": {},
   "source": [
    "# Homework #7\n",
    "### Juan Martin Morelli (N12699038)\n",
    "### NYU Stern"
   ]
  },
  {
   "cell_type": "markdown",
   "metadata": {},
   "source": [
    "#### Exercise 1: Homogenous Beliefs\n",
    "\n",
    "We are going to work with risk-neutral asset pricing with dividends given by $D_{t}=d(x_{t})$, where the state process $\\{X_{t}\\}$ takes values from the countable state set $S$.\n",
    "\n",
    "The transition probabibility is given by\n",
    "\\begin{equation}\n",
    "q(x,y)\\equiv P\\{X_{t+1}=y|X_{t}=x\\}\\text{  with  }x,y\\in S\n",
    "\\end{equation}\n",
    "\n",
    "The equilibrium price is given by the functional equation:\n",
    "\\begin{equation}\n",
    "p(x)=\\beta\\sum_{y\\in S}[d(y)+p(y)]q(x,y)\n",
    "\\end{equation}\n",
    "where $\\beta\\in(0,1)$ and $d$ is any function from $S$ to $(0,\\infty)$.\n",
    "\n",
    "The following blocks specify a Julia script for a value function iteration that solves for the equilibrium price (risk neutral) of the asset.\n",
    "\n",
    "I first create a general type that will define a general structure for risk neutral asset pricing. I will restrict this type to be only for a discrete Markov process, but that could be modified. In principle, under this code, dividends could be a function of the state.\n",
    "\n",
    "Note that we could have a multidimensional state space (i.e. several variables) but the way I am going to design the script is as if we have a vector of states. Then, we would have to consider the joint states as one entry of the vector. For example, if we have two state variables (a vector of values for each state variable), the kronecker product of the vectors would give me a new vector of joint states. In this way, I can reduce the dimensions of the problem, and the transition probability matrix is just two-dimensional."
   ]
  },
  {
   "cell_type": "code",
   "execution_count": 3,
   "metadata": {
    "collapsed": false
   },
   "outputs": [],
   "source": [
    "type Asset_Price\n",
    "    β::Float64 # risk neutral agent's discount factor\n",
    "    q::Array{Float64,2} # Transition probability matrix.\n",
    "    dfun::Function # Generic Function for Dividends\n",
    "    tol::Float64 # Tolerance Level\n",
    "    maxit::Int # Maximum iterations\n",
    "    price::Array{Float64,2} # Prices (it is a value function)\n",
    "end "
   ]
  },
  {
   "cell_type": "markdown",
   "metadata": {},
   "source": [
    "Define a function for the dividends process:"
   ]
  },
  {
   "cell_type": "code",
   "execution_count": 4,
   "metadata": {
    "collapsed": false
   },
   "outputs": [
    {
     "data": {
      "text/plain": [
       "dfun (generic function with 1 method)"
      ]
     },
     "execution_count": 4,
     "metadata": {},
     "output_type": "execute_result"
    }
   ],
   "source": [
    "function dfun(ap::Asset_Price)\n",
    "    dvals = [1.0 0.0 0.0]'\n",
    "    return dvals\n",
    "end"
   ]
  },
  {
   "cell_type": "markdown",
   "metadata": {},
   "source": [
    "The following function \"Tprice\" takes as input the possible values for next period's dividends and prices, and computes the current price of the asset. It is a one step iteration, which updates the value on the type that changed."
   ]
  },
  {
   "cell_type": "code",
   "execution_count": 5,
   "metadata": {
    "collapsed": false
   },
   "outputs": [
    {
     "data": {
      "text/plain": [
       "Tprice! (generic function with 1 method)"
      ]
     },
     "execution_count": 5,
     "metadata": {},
     "output_type": "execute_result"
    }
   ],
   "source": [
    "function Tprice!(ap::Asset_Price,dvals::Array{Float64,2})\n",
    "    ap.price = ap.β*ap.q*(dvals+ap.price)\n",
    "    Void\n",
    "end"
   ]
  },
  {
   "cell_type": "markdown",
   "metadata": {},
   "source": [
    "Now I define the \"iter\" function. It iterates over the previous one step update. Once again, it updates the vlue on the type."
   ]
  },
  {
   "cell_type": "code",
   "execution_count": 6,
   "metadata": {
    "collapsed": false
   },
   "outputs": [
    {
     "data": {
      "text/plain": [
       "iter! (generic function with 1 method)"
      ]
     },
     "execution_count": 6,
     "metadata": {},
     "output_type": "execute_result"
    }
   ],
   "source": [
    "function iter!(ap::Asset_Price)\n",
    "    resid = 1.0\n",
    "    iteration = 0\n",
    "    dvals = ap.dfun(ap)\n",
    "    while resid>ap.tol\n",
    "        p0 = ap.price\n",
    "        if iteration>ap.maxit\n",
    "            break\n",
    "        else\n",
    "            Tprice!(ap,dvals)\n",
    "            resid = norm(ap.price-p0)\n",
    "        end\n",
    "    end\n",
    "    Void\n",
    "end"
   ]
  },
  {
   "cell_type": "markdown",
   "metadata": {},
   "source": [
    "Now I define the main function which takes as input the matrix of probabilities, since it is the only thing that changes:"
   ]
  },
  {
   "cell_type": "code",
   "execution_count": 7,
   "metadata": {
    "collapsed": false
   },
   "outputs": [
    {
     "data": {
      "text/plain": [
       "main (generic function with 1 method)"
      ]
     },
     "execution_count": 7,
     "metadata": {},
     "output_type": "execute_result"
    }
   ],
   "source": [
    "function main(q::Array{Float64,2})\n",
    "    β=.98\n",
    "    tol = 1.0e-10\n",
    "    maxit = 10000    \n",
    "    P0 = ones(3,1)    \n",
    "    ap = Asset_Price(β,q,dfun,tol,maxit,P0)\n",
    "\n",
    "    iter!(ap)\n",
    "    return ap.price\n",
    "end"
   ]
  },
  {
   "cell_type": "markdown",
   "metadata": {},
   "source": [
    "Finally, I define the probability matrices and call the main function:"
   ]
  },
  {
   "cell_type": "code",
   "execution_count": 8,
   "metadata": {
    "collapsed": false
   },
   "outputs": [
    {
     "name": "stdout",
     "output_type": "stream",
     "text": [
      "The prices are:  \n",
      "[40.76 23.5\n",
      " 35.96 21.1\n",
      " 34.57 20.28]\n",
      "\n",
      "The unconditional probabilities are:\n",
      "[0.813 0.45\n",
      " 0.163 0.401\n",
      " 0.025 0.149]"
     ]
    }
   ],
   "source": [
    "q1 = [[.971,.145,.0] [.029,.778,.508] [.0,.077,.492]]\n",
    "q2 = [[.871,.145,.0] [.029,.778,.508] [.1,.077,.492]]\n",
    "\n",
    "p1 = main(q1)\n",
    "p2 = main(q2)\n",
    "\n",
    "P = [p1 p2]\n",
    "\n",
    "# Compute Unconditional Probabilities\n",
    "# I use traspose of q to get left eigenvectors\n",
    "# I checked that the first eigenvalue was the unity one (the one we need)\n",
    "\n",
    "A,B = eig(q1')\n",
    "Π1 = B[:,1]/sum(B[:,1])\n",
    "\n",
    "A,B = eig(q2')\n",
    "Π2 = B[:,1]/sum(B[:,1])\n",
    "\n",
    "Π = [Π1 Π2]\n",
    "\n",
    "print(\"The prices are:\")\n",
    "print(\"  \n",
    "\")\n",
    "print(round(P,2))\n",
    "print(\"\n",
    "\n",
    "\")\n",
    "print(\"The unconditional probabilities are:\")\n",
    "print(\"\n",
    "\")\n",
    "print(round(Π,3))"
   ]
  },
  {
   "cell_type": "markdown",
   "metadata": {},
   "source": [
    "*Intuition:*\n",
    "Note that in the second case we have a positive probability for severe recession, conditional on being on a state of normal growth. Hence, conditional on being on the NG state, it is now much more likely that next period the asset will pay zero dividends (0.129 vs 0.029). Furthermore, the unconditional probability of receiving zero dividends increased from 0.188 to 0.55. That is why prices fell so much."
   ]
  },
  {
   "cell_type": "markdown",
   "metadata": {},
   "source": [
    "#### Exercise 2: Heterogenous Beliefs (Analytical)\n",
    "\n",
    "\n",
    "Now the equilibrium condition is modified to:\n",
    "\\begin{equation}\n",
    "p(x)=\\beta\\max_{i\\in\\{1,2\\}}\\left\\{\\sum_{y\\in S}[d(y)+p(y)]q_{i}(x,y)\\right\\}\\text{  with  }x\\in S\n",
    "\\end{equation}\n",
    "\n",
    "Equation (3) is just the fixed point from:\n",
    "\\begin{equation}\n",
    "Tp(x)=\\beta\\max_{i\\in\\{1,2\\}}\\left\\{\\sum_{y\\in S}[d(y)+p(y)]q_{i}(x,y)\\right\\}\\text{  with  }x\\in S\n",
    "\\end{equation}\n",
    "\n",
    "\n",
    "**Fact (1)**: $\\left|\\max_{i}a_{i}|\\leq\\max_{i}|a_{i}\\right|$\n",
    "\n",
    "To show that the Bellman equation has a unique solution in $b\\mathbb{R}^{S}$, I extend the previous proof. So, first I show that T maps $b\\mathbb{R}^{S}$ into itself:\n",
    "\n",
    "\\begin{equation}\n",
    "\\begin{split}\n",
    "|Tp(x)|&=\\beta\\left|\\max_{i\\in\\{1,2\\}}\\left\\{\\sum_{y\\in S}[d(y)+p(y)]q_{i}(x,y)\\right\\}\\right| \\\\\n",
    "& \\leq\\beta\\max_{i\\in\\{1,2\\}}\\left|\\left\\{\\sum_{y\\in S}[d(y)+p(y)]q_{i}(x,y)\\right\\}\\right| \\\\\n",
    "&\\leq\\beta\\left(\\lVert d\\rVert_{\\infty}+\\lVert p\\rVert_{\\infty}\\right)\n",
    "\\end{split}\n",
    "\\end{equation}\n",
    "\n",
    "where from line one to two I used Fact (1) and form line two to three I skept steps that are exactly the same as seen in exercise 1. Since this bound is uniform over all $x$, taking the supremum on the LHS yields $ \\lVert Tp(x) \\rVert _{\\infty}<\\infty$, so it is bounded.\n",
    "\n",
    "Now  I show that it is a uniform contraction:\n",
    "\n",
    "\\begin{equation}\n",
    "\\begin{split}\n",
    "\\left|Tp(x)-Tp'(x)\\right|=&\\beta\\left|\\max_{i\\in\\{1,2\\}}\\left\\{\\sum_{y\\in S}[p(y)-p'(y)]q_{i}(x,y)\\right\\}\\right| \\\\\n",
    "&\\leq\\beta\\sum_{y\\in S}\\max_{i\\in\\{1,2\\}}\\left|p(y)-p'(y)\\right|q_{i}(x,y) \\\\\n",
    "&\\leq\\beta\\left\\|p-p'\\right\\|_{\\infty}\n",
    "\\end{split}\n",
    "\\end{equation}\n",
    "\n",
    "where the step from the first to the second line came from Fact (1) and the hint in the assignment.\n",
    "Since $x\\in S$ was arbitrary, we get:\n",
    "\\begin{equation}\n",
    "\\left\\|Tp-Tp'\\right\\|_{\\infty}\\leq\\beta\\left\\|p-p'\\right\\|_{\\infty}\n",
    "\\end{equation}\n",
    "\n",
    "\n",
    "\n",
    "***Annex: extra proof.***\n",
    "I will now show the hint: $\\left|\\sup_{i}a_{i}-\\sup_{i}b_{i}\\right|\\leq\\sup_{i}\\left|a_{i}-b_{i}\\right|$.\n",
    "\n",
    "It is based on the proof that $\\left|\\left\\|x-y\\right\\|\\right|\\leq\\left\\|x-y\\right\\|$. I assume that the supremum are finite.\n",
    "\n",
    "\n",
    "$a_{i}=\\left[a_{i}-b_{i}\\right]+b_{i}\\leq\\sup_{i}\\left(a_{i}-b_{i}\\right)+\\sup_{i}\\left(b_{i}\\right)$.\n",
    "\n",
    "\n",
    "Since this is for an arbitrary $a_{i}$, it is true that \n",
    "\n",
    "$\\sup_{i}\\left(a_{i}\\right)-\\sup_{i}\\left(b_{i}\\right)\\leq\\sup_{i}\\left(a_{i}-b_{i}\\right)\\leq\\sup_{i}\\left|a_{i}-b_{i}\\right|$\n",
    "\n",
    "\n",
    "\n",
    "Similarly,\n",
    "\n",
    "$\\sup_{i}\\left(b_{i}\\right)-\\sup_{i}\\left(a_{i}\\right)\\leq\\sup_{i}\\left(b_{i}-a_{i}\\right)\\leq\\sup_{i}\\left|a_{i}-b_{i}\\right|$\n",
    "\n",
    "Hence,\n",
    "\n",
    "\n",
    "$\\left|\\sup_{i}\\left(a_{i}\\right)-\\sup_{i}\\left(b_{i}\\right)\\right|\\leq\\sup_{i}\\left|a_{i}-b_{i}\\right|$"
   ]
  },
  {
   "cell_type": "markdown",
   "metadata": {},
   "source": [
    "#### Exercise 3: Heteregenous beliefs (Computational)\n",
    "\n",
    "For this part I just have to add a \"max\" operator in the previous code. Thus, I will not explain it part by part but rather insert all in one cell. Here I jsut do it for 2 agents, but it would be nice to have a general code for several agents."
   ]
  },
  {
   "cell_type": "code",
   "execution_count": 2,
   "metadata": {
    "collapsed": false
   },
   "outputs": [
    {
     "data": {
      "text/plain": [
       "3x1 Array{Float64,2}:\n",
       " 40.7598\n",
       " 35.9609\n",
       " 34.572 "
      ]
     },
     "execution_count": 2,
     "metadata": {},
     "output_type": "execute_result"
    }
   ],
   "source": [
    "type Asset_Price_Heterogenous\n",
    "    β::Float64 # risk neutral agent's discount factor\n",
    "    q1::Array{Float64,2} # Transition probability matrix of agent 1.\n",
    "    q2::Array{Float64,2} # Transition probability matrix of agent 2.\n",
    "    dfun_Heterogenous::Function # Generic Function for Dividends\n",
    "    tol::Float64 # Tolerance Level\n",
    "    maxit::Int # Maximum iterations\n",
    "    price::Array{Float64,2} # Prices (it is a value function)\n",
    "end \n",
    "\n",
    "\n",
    "function dfun_Heterogenous(aph::Asset_Price_Heterogenous)\n",
    "    dvals = [1.0 0.0 0.0]'\n",
    "    return dvals\n",
    "end\n",
    "\n",
    "\n",
    "function Tprice_Heterogenous!(aph::Asset_Price_Heterogenous,dvals::Array{Float64,2})\n",
    "    aph.price = aph.β*max(aph.q1*(dvals+aph.price),aph.q2*(dvals+aph.price))\n",
    "    Void\n",
    "end\n",
    "\n",
    "\n",
    "function iter_Heterogenous!(aph::Asset_Price_Heterogenous)\n",
    "    resid = 1.0\n",
    "    iteration = 0\n",
    "    dvals = aph.dfun_Heterogenous(aph)\n",
    "    while resid>aph.tol\n",
    "        p0 = aph.price\n",
    "        if iteration>aph.maxit\n",
    "            break\n",
    "        else\n",
    "            Tprice_Heterogenous!(aph,dvals)\n",
    "            resid = norm(aph.price-p0)\n",
    "        end\n",
    "    end\n",
    "    Void\n",
    "end\n",
    "\n",
    "\n",
    "function main_Heterogenous(q1::Array{Float64,2},q2::Array{Float64,2})\n",
    "    β=.98\n",
    "    tol = 1.0e-10\n",
    "    maxit = 10000    \n",
    "    P0 = ones(3,1)    \n",
    "    aph = Asset_Price_Heterogenous(β,q1,q2,dfun_Heterogenous,tol,maxit,P0)\n",
    "\n",
    "    iter_Heterogenous!(aph)\n",
    "    return aph.price\n",
    "end\n",
    "\n",
    "\n",
    "q1 = [[.971,.145,.0] [.029,.778,.508] [.0,.077,.492]]\n",
    "q2 = [[.871,.145,.0] [.029,.778,.508] [.1,.077,.492]]\n",
    "\n",
    "p_Heterogenous = main_Heterogenous(q1,q2)\n"
   ]
  },
  {
   "cell_type": "markdown",
   "metadata": {},
   "source": [
    "So, in the end the price of the asset will be given by the agent which is more optimistic, since he has a higher valuation for it. The asset pays the dividend in a state where the first agent finds more probable to occur."
   ]
  },
  {
   "cell_type": "code",
   "execution_count": null,
   "metadata": {
    "collapsed": true
   },
   "outputs": [],
   "source": []
  }
 ],
 "metadata": {
  "kernelspec": {
   "display_name": "Julia 0.4.0",
   "language": "julia",
   "name": "julia-0.4"
  },
  "language_info": {
   "file_extension": ".jl",
   "mimetype": "application/julia",
   "name": "julia",
   "version": "0.4.0"
  }
 },
 "nbformat": 4,
 "nbformat_minor": 0
}
