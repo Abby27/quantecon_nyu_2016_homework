{
 "cells": [
  {
   "cell_type": "markdown",
   "metadata": {},
   "source": [
    "### Homework 8 for Computational Economics, ECON-GA 3002\n",
    "\n",
    "**{Name, NYUID, Email}**: Arnav Sood, N11193569, asood@nyu.edu"
   ]
  },
  {
   "cell_type": "markdown",
   "metadata": {},
   "source": [
    "#### Exercise 1:\n",
    "\n",
    "> If $S$ is a discrete set, show that if the set of distributions on $S$, $\\mathbb{P}(S)$, is compact in $S$, then $S$ is finite.\n",
    "\n",
    "**Proof**: Argue contrapositively: that is, show $|S| = |\\mathbb{N}| = \\aleph_{0} \\implies \\mathbb{P}(S)$ not compact. Compactness requires that every sequence in a subset converges to a point in that subset. Let $K$ be the set of delta distributions $(1, 0, 0, ...), (0, 1, 0, ...)$, and so on. These form a subset of $S$, but clearly do not converge, as the $l_1$  norm of their difference is always 2. Therefore, $\\mathbb{P}(S)$ compact shows $S$ finite for discrete $S$.\n"
   ]
  },
  {
   "cell_type": "markdown",
   "metadata": {
    "collapsed": true
   },
   "source": [
    "#### Exercise 2:\n",
    "\n",
    "> Show that the deterministic Markov chain given by $X_{t+1} = X_t + 1$ has no stationary distribution.\n",
    "\n",
    "**Proof:** We can uniquely identify each state $\\gamma \\in \\mathbb{Z}$ with a probability distribution $p_{\\gamma} \\in \\mathbb{P}(S)$. This is because $p_{\\gamma}$ is the dirac distibrution which assigns mass 1 to $\\gamma + 1$ and weight 0 everywhere else, and $\\gamma + 1$ is uniquely identified with $\\gamma$. So, a stationary distribution which maps to itself would correspond to a state $\\gamma$ which maps to itself, which would require $\\gamma + 1 = \\gamma$, which is a contradiction. Therefore, no stationary distribution exists."
   ]
  },
  {
   "cell_type": "markdown",
   "metadata": {},
   "source": [
    "#### Exercise 3:\n",
    "\n",
    "> Consider a Markov process given by the following dynamics. Select an integer $Q$, and an integer $0 \\leq q \\leq Q$. At time $t$, a store's inventory $X_t$ is some integer. The store then orders inventory $Q - X_t$ subject to a threshold rule: if $X_t \\leq q$ the store orders $Q - X_t$, and if not the store orders nothing. The store is then subject to a stochastic demand, IID with $\\text{Pr}[D = d]$ given by $\\frac{1}{2}^{d+1}$ for $d \\in \\{0, 1, ...\\}$. The store meets the demand as best it can without exceeding its current stock. The remainder, zero or nonzero, forms the next period's inventory $X_{t+1}$. \n",
    "\n",
    "> Show that the above is globally stable $\\forall Q, 0 \\leq q \\leq Q$.\n",
    "\n",
    "**Proof**: Take any finite $Q$. Setting $0 \\leq q \\leq Q$ yields a finite state space of cardinality $Q+1$. The associated Markov chain is irreducible, as given any initial state $\\gamma$, there is positive probability on the event of selling all one's inventory, then selling some $Q-\\epsilon$ for arbitrary $\\epsilon \\in \\{0, 1, ..., Q\\}$.\n",
    "\n",
    "It is also aperiodic, as any state is accessible from itself in any number of steps greater than 3. The associated probability is, at least, the probability associated with selling everything, then not selling anything until time $k-1$, until you sell $Q-\\gamma$ for initial state $\\gamma$, giving you inventory $\\gamma$ at time $k$.\n",
    "\n",
    "Since the Markov chain associated with $Q, q$ is aperiodic and irreducible on a finite state space, we know it is globally stable.\n"
   ]
  },
  {
   "cell_type": "markdown",
   "metadata": {},
   "source": [
    "#### Exercise 4\n",
    "\n",
    "> Let $\\psi$ be the stationary distribution corresponding to $(Q, q) = (5, 2)$. Using QuantEcon's $\\texttt{MarkovChain}$ class, compute $\\psi$."
   ]
  },
  {
   "cell_type": "markdown",
   "metadata": {},
   "source": [
    "> Import dependencies and define primitives. We take care to use `const` wherever possible, and write type-stable functions."
   ]
  },
  {
   "cell_type": "code",
   "execution_count": 1,
   "metadata": {
    "collapsed": false
   },
   "outputs": [
    {
     "data": {
      "text/plain": [
       "6x6 Array{Float64,2}:\n",
       " 0.0  0.0  0.0  0.0  0.0  0.0\n",
       " 0.0  0.0  0.0  0.0  0.0  0.0\n",
       " 0.0  0.0  0.0  0.0  0.0  0.0\n",
       " 0.0  0.0  0.0  0.0  0.0  0.0\n",
       " 0.0  0.0  0.0  0.0  0.0  0.0\n",
       " 0.0  0.0  0.0  0.0  0.0  0.0"
      ]
     },
     "execution_count": 1,
     "metadata": {},
     "output_type": "execute_result"
    }
   ],
   "source": [
    "using QuantEcon\n",
    "const q = 2\n",
    "const Q = 5\n",
    "global P = zeros(Q+1,Q+1)"
   ]
  },
  {
   "cell_type": "markdown",
   "metadata": {},
   "source": [
    "> Write a function to compute the transition probability $p(x,y)$ for all $x$, and nonzero $y$. The reason that we restrict to nonzero $y$ is that the 0 inventory case corresponds to an infinite number of states (i.e., all $d > Q$), and so we compute that probability by subtracting those that we can explicitly compute from 1."
   ]
  },
  {
   "cell_type": "code",
   "execution_count": 2,
   "metadata": {
    "collapsed": false
   },
   "outputs": [
    {
     "data": {
      "text/plain": [
       "transitionProbability (generic function with 1 method)"
      ]
     },
     "execution_count": 2,
     "metadata": {},
     "output_type": "execute_result"
    }
   ],
   "source": [
    "function transitionProbability(x,y)\n",
    "    if x <= q\n",
    "        return (0.5)^(Q-y+1)\n",
    "    elseif (x > q) & (y <= x)\n",
    "        return (0.5)^(x-y+1)\n",
    "    else \n",
    "        return 0\n",
    "    end\n",
    "end"
   ]
  },
  {
   "cell_type": "markdown",
   "metadata": {},
   "source": [
    "> We write a function to generate the stochastic kernel, given our transition function."
   ]
  },
  {
   "cell_type": "code",
   "execution_count": 3,
   "metadata": {
    "collapsed": false
   },
   "outputs": [
    {
     "data": {
      "text/plain": [
       "getStochasticMatrix (generic function with 1 method)"
      ]
     },
     "execution_count": 3,
     "metadata": {},
     "output_type": "execute_result"
    }
   ],
   "source": [
    "function getStochasticMatrix(P)\n",
    "    for row in 1:Q+1\n",
    "        for column in 2:Q+1\n",
    "            P[row,column] = transitionProbability(row-1,column-1)\n",
    "        end\n",
    "    end\n",
    "    \n",
    "    for row in 1:Q+1\n",
    "        P[row,1] = 1 - sum(P[row,:])\n",
    "    end\n",
    "    \n",
    "    return P\n",
    "end"
   ]
  },
  {
   "cell_type": "markdown",
   "metadata": {},
   "source": [
    "> Generate our stochastic matrix, wrap it in a `MarkovChain` object, and then compute the stationary distribution."
   ]
  },
  {
   "cell_type": "code",
   "execution_count": 4,
   "metadata": {
    "collapsed": false
   },
   "outputs": [
    {
     "name": "stdout",
     "output_type": "stream",
     "text": [
      "The stochastic kernel is:[0.03125 0.03125 0.0625 0.125 0.25 0.5\n",
      " 0.03125 0.03125 0.0625 0.125 0.25 0.5\n",
      " 0.03125 0.03125 0.0625 0.125 0.25 0.5\n",
      " 0.125 0.125 0.25 0.5 0.0 0.0\n",
      " 0.0625 0.0625 0.125 0.25 0.5 0.0\n",
      " 0.03125 0.03125 0.0625 0.125 0.25 0.5]\n",
      "The stationary distribution is:[0.0625,0.0625,0.125,0.25,0.25,0.25]\n"
     ]
    }
   ],
   "source": [
    "stochasticKernel = getStochasticMatrix(P)\n",
    "inventoryChain = MarkovChain(stochasticKernel)\n",
    "println(\"The stochastic kernel is:\", stochasticKernel)\n",
    "println(\"The stationary distribution is:\", mc_compute_stationary(inventoryChain))"
   ]
  },
  {
   "cell_type": "markdown",
   "metadata": {},
   "source": [
    "#### Exercise 5\n",
    "\n",
    "> Compute the stationary distribution from above, but use an explicit iteration on the $l_1$ norm instead of a package from QuantEcon."
   ]
  },
  {
   "cell_type": "markdown",
   "metadata": {},
   "source": [
    "> Define an initial distribution, here the uniform one. Because we intend to use this variable name again, this one will be distinguished by exercise. \n",
    "\n",
    "> The transpose is to give us a row vector, and the rational type from Julia lets us configure things properly for an arbitrary $Q$."
   ]
  },
  {
   "cell_type": "code",
   "execution_count": 5,
   "metadata": {
    "collapsed": false
   },
   "outputs": [
    {
     "data": {
      "text/plain": [
       "1x6 Array{Float64,2}:\n",
       " 0.166667  0.166667  0.166667  0.166667  0.166667  0.166667"
      ]
     },
     "execution_count": 5,
     "metadata": {},
     "output_type": "execute_result"
    }
   ],
   "source": [
    "const initialDist_ex5 = (zeros(Q+1)+1//(Q+1))'"
   ]
  },
  {
   "cell_type": "markdown",
   "metadata": {},
   "source": [
    "> Write a function to compute the $l_1$ distance of two distributions."
   ]
  },
  {
   "cell_type": "code",
   "execution_count": 6,
   "metadata": {
    "collapsed": false
   },
   "outputs": [
    {
     "data": {
      "text/plain": [
       "computeNorm (generic function with 1 method)"
      ]
     },
     "execution_count": 6,
     "metadata": {},
     "output_type": "execute_result"
    }
   ],
   "source": [
    "function computeNorm(dist1,dist2)\n",
    "    newDist = abs(dist1-dist2)\n",
    "    l1 = sum(newDist)\n",
    "    return l1\n",
    "end"
   ]
  },
  {
   "cell_type": "markdown",
   "metadata": {},
   "source": [
    "> Write a loop to iterate on the $l_1$ norm up to $10^{-4}$. We also define some constants to be used inside the loop."
   ]
  },
  {
   "cell_type": "code",
   "execution_count": 7,
   "metadata": {
    "collapsed": false
   },
   "outputs": [],
   "source": [
    "currentDist = initialDist_ex5\n",
    "diffNorm = computeNorm(currentDist*P, currentDist)\n",
    "\n",
    "while diffNorm > 0.0001\n",
    "    nextDist = currentDist*P\n",
    "    diffNorm = computeNorm(nextDist,currentDist)\n",
    "    currentDist = nextDist\n",
    "end"
   ]
  },
  {
   "cell_type": "markdown",
   "metadata": {},
   "source": [
    "> Print the iterated distribution."
   ]
  },
  {
   "cell_type": "code",
   "execution_count": 8,
   "metadata": {
    "collapsed": false
   },
   "outputs": [
    {
     "name": "stdout",
     "output_type": "stream",
     "text": [
      "The stationary distribution is: [0.06250251395006973 0.06250251395006973 0.12500502790013945 0.2500100558002789 0.24998949468135828 0.24999039371808365]\n"
     ]
    }
   ],
   "source": [
    "println(\"The stationary distribution is: \", currentDist)"
   ]
  },
  {
   "cell_type": "markdown",
   "metadata": {},
   "source": [
    "> We can confirm that this looks quite close to the analytically true distribution. "
   ]
  }
 ],
 "metadata": {
  "kernelspec": {
   "display_name": "Julia 0.4.3",
   "language": "julia",
   "name": "julia-0.4"
  },
  "language_info": {
   "file_extension": ".jl",
   "mimetype": "application/julia",
   "name": "julia",
   "version": "0.4.3"
  }
 },
 "nbformat": 4,
 "nbformat_minor": 0
}
