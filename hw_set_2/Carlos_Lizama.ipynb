{
 "cells": [
  {
   "cell_type": "code",
   "execution_count": 170,
   "metadata": {
    "collapsed": false
   },
   "outputs": [],
   "source": [
    "# Homework Set 2\n",
    "# Carlos Lizama - N17866309\n",
    "#\n",
    "# In this code I solve for the equilibrium price given supply and demand function\n",
    "# and for different parameters using the bisection method.  \n",
    "\n",
    "\n",
    "\n",
    "from math import exp\n",
    "\n",
    "def demand(price):\n",
    "    global a, epsilon\n",
    "    return a*price**(-epsilon)\n",
    "\n",
    "def supply(price):\n",
    "    global b\n",
    "    return exp(b*price)-1"
   ]
  },
  {
   "cell_type": "code",
   "execution_count": 172,
   "metadata": {
    "collapsed": false
   },
   "outputs": [],
   "source": [
    "def bisection():\n",
    "    global a, b, epsilon\n",
    "    plow, phigh= .1, 10.0\n",
    "    maxiter, tol = 30, 1e-6\n",
    "\n",
    "    for i in range(maxiter):\n",
    "        pcur = (plow+phigh)/2\n",
    "        yd = demand(pcur)\n",
    "        ys = supply(pcur)\n",
    "        excesssupply = ys-yd\n",
    "        if excesssupply > 0:\n",
    "            phigh = pcur\n",
    "        else:\n",
    "            plow = pcur\n",
    "\n",
    "        diff = abs(phigh - plow)\n",
    "\n",
    "        if diff < tol:\n",
    "            break\n",
    "\n",
    "    return (phigh + plow)/2"
   ]
  },
  {
   "cell_type": "code",
   "execution_count": 181,
   "metadata": {
    "collapsed": false
   },
   "outputs": [
    {
     "name": "stdout",
     "output_type": "stream",
     "text": [
      "Case 1\n",
      "The equilibrium price is 2.9334108501672738\n",
      "(Check) The excess supply is -8.852568844641695e-09\n",
      "Case 2\n",
      "The equilibrium price is 4.029893872141837\n",
      "(Check) The excess supply is 2.657736469791061e-08\n",
      "Case 3\n",
      "The equilibrium price is 2.0149467378854746\n",
      "(Check) The excess supply is -8.154527325610061e-08\n",
      "Case 4\n",
      "The equilibrium price is 2.079785385727882\n",
      "(Check) The excess supply is -1.2223660555976679e-08\n"
     ]
    }
   ],
   "source": [
    "avec = [1, 2, 1, 1]\n",
    "bvec = [.1, .1, .2, .1]\n",
    "epsilonvec = [1, 1, 1, 2]\n",
    "\n",
    "for i in range(4):\n",
    "    a, b, epsilon = avec[i], bvec[i], epsilonvec[i]\n",
    "    pstar = bisection()\n",
    "    print(\"Case\",i+1)\n",
    "    print(\"The equilibrium price is\", pstar)\n",
    "    print(\"(Check) The excess supply is\", supply(pstar)-demand(pstar))"
   ]
  },
  {
   "cell_type": "code",
   "execution_count": null,
   "metadata": {
    "collapsed": true
   },
   "outputs": [],
   "source": []
  }
 ],
 "metadata": {
  "kernelspec": {
   "display_name": "Python 3",
   "language": "python",
   "name": "python3"
  },
  "language_info": {
   "codemirror_mode": {
    "name": "ipython",
    "version": 3
   },
   "file_extension": ".py",
   "mimetype": "text/x-python",
   "name": "python",
   "nbconvert_exporter": "python",
   "pygments_lexer": "ipython3",
   "version": "3.5.1"
  }
 },
 "nbformat": 4,
 "nbformat_minor": 0
}
