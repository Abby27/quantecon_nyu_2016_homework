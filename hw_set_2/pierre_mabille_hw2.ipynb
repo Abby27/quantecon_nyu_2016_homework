{
 "cells": [
  {
   "cell_type": "code",
   "execution_count": 1,
   "metadata": {
    "collapsed": false
   },
   "outputs": [
    {
     "name": "stdout",
     "output_type": "stream",
     "text": [
      "2.9334108501672738\n",
      "4.029893872141837\n",
      "2.0149467378854746\n",
      "2.079785385727882\n"
     ]
    }
   ],
   "source": [
    "# Pierre Mabille\n",
    "# N10017621\n",
    "# comp econ homework set 2. Feb 18, 2016\n",
    "#\n",
    "# solve for equilibrium price by bissection method in a simple demand and supply system \n",
    "# defines a function that computes the eq price and print results for various parametrizations\n",
    "\n",
    "from math import exp\n",
    "\n",
    "def eq_price(x):\n",
    "    a,b,epsilon=x\n",
    "\n",
    "    mxiter = 30\n",
    "    toler = 1.0e-6\n",
    "\n",
    "    plow = 0.1\n",
    "    phigh = 10.0\n",
    "\n",
    "    niter = mxiter\n",
    "\n",
    "    yd = lambda price: a*(price**(-epsilon))\n",
    "    ys = lambda price: exp(b*price) - 1\n",
    "\n",
    "    for i in range(mxiter):\n",
    "        pcur = (plow + phigh)/2\n",
    "\n",
    "        excesssupply = ys(pcur) - yd(pcur)\n",
    "\n",
    "        if excesssupply > 0:\n",
    "            phigh = pcur\n",
    "        else:\n",
    "            plow = pcur\n",
    "\n",
    "        diff = abs(phigh - plow)\n",
    "\n",
    "        if diff <= toler:\n",
    "            niter = i\n",
    "            break\n",
    "\n",
    "    pclear = (plow + phigh)/2\n",
    "    ydemand = yd(pcur)\n",
    "    ysupply = ys(pcur)\n",
    "    excesssupply = ysupply - ydemand\n",
    "\n",
    "    return pclear\n",
    "   \n",
    "\n",
    "xeval=[(1,.1,1),(2,.1,1),(1,.2,1),(1,.1,2)]\n",
    "\n",
    "for x in xeval:\n",
    "    print(eq_price(x))"
   ]
  },
  {
   "cell_type": "code",
   "execution_count": null,
   "metadata": {
    "collapsed": true
   },
   "outputs": [],
   "source": []
  }
 ],
 "metadata": {
  "kernelspec": {
   "display_name": "Python 3",
   "language": "python",
   "name": "python3"
  },
  "language_info": {
   "codemirror_mode": {
    "name": "ipython",
    "version": 3
   },
   "file_extension": ".py",
   "mimetype": "text/x-python",
   "name": "python",
   "nbconvert_exporter": "python",
   "pygments_lexer": "ipython3",
   "version": "3.5.1"
  }
 },
 "nbformat": 4,
 "nbformat_minor": 0
}
