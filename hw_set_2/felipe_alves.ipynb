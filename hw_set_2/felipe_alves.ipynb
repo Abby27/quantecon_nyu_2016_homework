{
 "cells": [
  {
   "cell_type": "markdown",
   "metadata": {},
   "source": [
    "#### Homework 2 - Felipe Alves (N14713445)\n",
    "\n",
    "Apply [bisection algorithm](https://en.wikipedia.org/wiki/Bisection_method) to find equilibrium $(p^*,q^*)$ of the following demand/supply schedule\n",
    "\n",
    "$$ q^d(p) = ap^{-\\epsilon}  \\tag*{(Demand)}$$  \n",
    "$$ q^s(p) = \\exp{(bp)}-1 \\tag*{(Supply)} $$\n"
   ]
  },
  {
   "cell_type": "code",
   "execution_count": 1,
   "metadata": {
    "collapsed": false
   },
   "outputs": [],
   "source": [
    "from numpy import exp,log\n",
    "\n",
    "\n",
    "def find_eq(a,b,ϵ, verbose=False):\n",
    "    \"\"\"\n",
    "    Computes the equilibrium price and quatity of the demand supply schedule\n",
    "    \n",
    "        qᵈ(p) = a * p^(-ϵ)\n",
    "        qˢ(p) = exp(b * p) - 1\n",
    "\n",
    "    using bisection algorithm.\n",
    "    \"\"\"\n",
    "    \n",
    "    # == define demand and supply funcitons == #\n",
    "    qd = lambda p: a*p**(-ϵ)\n",
    "    qs = lambda p: exp(b*p)-1\n",
    "\n",
    "    pbound = 0.1, 10.0\n",
    "    tol = 1e-6\n",
    "    diff = 1\n",
    "    i = 0\n",
    "    yᴱ = 1.0\n",
    "    \n",
    "    if verbose: print(\"iter     p     Qs     Qd     QE \\n\") \n",
    "    while diff>tol or yᴱ>0.01: \n",
    "        i+=1\n",
    "        p = 0.5*(pbound[0] + pbound[1])\n",
    "\n",
    "        yᴱ = qs(p) - qd(p)\n",
    "        pbound = (p,pbound[1]) if yᴱ<0 else (pbound[0],p)\n",
    "        \n",
    "        diff = abs(pbound[0]-pbound[1])\n",
    "        \n",
    "        if i==100:\n",
    "            return 0.,0.\n",
    "\n",
    "        #== Print output ==#         \n",
    "        out = \"{0:2d}  | {1:6.3f} {2:6.3f} {3:6.3f} {4:6.3f}\".format(i,p,qs(p),qd(p),yᴱ)\n",
    "        if verbose: print(out)\n",
    "\n",
    "    p = 0.5*(pbound[0] + pbound[1])\n",
    "    q = qs(p)\n",
    "    \n",
    "    return p,q"
   ]
  },
  {
   "cell_type": "code",
   "execution_count": 2,
   "metadata": {
    "collapsed": false
   },
   "outputs": [
    {
     "name": "stdout",
     "output_type": "stream",
     "text": [
      "iter     p     Qs     Qd     QE \n",
      "\n",
      " 1  |  5.050  0.657  0.396  0.261\n",
      " 2  |  2.575  0.294  0.777 -0.483\n",
      " 3  |  3.812  0.464  0.525 -0.060\n",
      " 4  |  4.431  0.558  0.451  0.106\n",
      " 5  |  4.122  0.510  0.485  0.025\n",
      " 6  |  3.967  0.487  0.504 -0.017\n",
      " 7  |  4.045  0.498  0.494  0.004\n",
      " 8  |  4.006  0.493  0.499 -0.007\n",
      " 9  |  4.025  0.496  0.497 -0.001\n",
      "10  |  4.035  0.497  0.496  0.001\n",
      "11  |  4.030  0.496  0.496  0.000\n",
      "12  |  4.028  0.496  0.497 -0.001\n",
      "13  |  4.029  0.496  0.496 -0.000\n",
      "14  |  4.029  0.496  0.496 -0.000\n",
      "15  |  4.030  0.496  0.496 -0.000\n",
      "16  |  4.030  0.496  0.496 -0.000\n",
      "17  |  4.030  0.496  0.496  0.000\n",
      "18  |  4.030  0.496  0.496  0.000\n",
      "19  |  4.030  0.496  0.496  0.000\n",
      "20  |  4.030  0.496  0.496 -0.000\n",
      "21  |  4.030  0.496  0.496 -0.000\n",
      "22  |  4.030  0.496  0.496  0.000\n",
      "23  |  4.030  0.496  0.496 -0.000\n",
      "24  |  4.030  0.496  0.496  0.000\n"
     ]
    }
   ],
   "source": [
    "# param = 1, .1, 1\n",
    "param = 2, .1, 1\n",
    "# param = 1, .2, 1\n",
    "# param = 1, .1, 2\n",
    "\n",
    "pstar, qstar =  find_eq(*param, True)"
   ]
  },
  {
   "cell_type": "code",
   "execution_count": 3,
   "metadata": {
    "collapsed": false
   },
   "outputs": [
    {
     "name": "stdout",
     "output_type": "stream",
     "text": [
      "Help on function find_eq in module __main__:\n",
      "\n",
      "find_eq(a, b, ε, verbose=False)\n",
      "    Computes the equilibrium price and quatity of the demand supply schedule\n",
      "    \n",
      "        qᵈ(p) = a * p^(-ϵ)\n",
      "        qˢ(p) = exp(b * p) - 1\n",
      "    \n",
      "    using bisection algorithm.\n",
      "\n"
     ]
    }
   ],
   "source": [
    "help(find_eq)"
   ]
  },
  {
   "cell_type": "code",
   "execution_count": null,
   "metadata": {
    "collapsed": true
   },
   "outputs": [],
   "source": []
  }
 ],
 "metadata": {
  "kernelspec": {
   "display_name": "Python 3",
   "language": "python",
   "name": "python3"
  },
  "language_info": {
   "codemirror_mode": {
    "name": "ipython",
    "version": 3
   },
   "file_extension": ".py",
   "mimetype": "text/x-python",
   "name": "python",
   "nbconvert_exporter": "python",
   "pygments_lexer": "ipython3",
   "version": "3.5.1"
  }
 },
 "nbformat": 4,
 "nbformat_minor": 0
}
