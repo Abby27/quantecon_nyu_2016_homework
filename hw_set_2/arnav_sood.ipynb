{
 "cells": [
  {
   "cell_type": "markdown",
   "metadata": {},
   "source": [
    "## Homework 2 for ECON-GA 3002, Section 12.\n",
    "\n",
    "Arnav Sood, N11193569, `asood@nyu.edu`\n",
    "\n",
    "This notebook walks through the calculation of an equilibrium price, given supply and demand functions. \n",
    "\n",
    "For root-finding, it uses a second-order Householder's method (Halley's method), since the functions are nice."
   ]
  },
  {
   "cell_type": "code",
   "execution_count": 168,
   "metadata": {
    "collapsed": true
   },
   "outputs": [],
   "source": [
    "# Grab what we need \n",
    "from math import exp\n",
    "import random"
   ]
  },
  {
   "cell_type": "markdown",
   "metadata": {},
   "source": [
    "The way that Halley's method works is by a recursion of form:\n",
    "\\begin{equation}\n",
    "x_{n+1} = x_{n} - \\frac{2f(x_n)f'(x_n)}{2[f'(x_n)]^2 - f(x_n)f''(x_n)}\n",
    "\\end{equation}"
   ]
  },
  {
   "cell_type": "code",
   "execution_count": 169,
   "metadata": {
    "collapsed": false
   },
   "outputs": [],
   "source": [
    "# Write the global function\n",
    "def eqprice(a, b, epsilon):\n",
    "    \n",
    "    # Define the relevant functions\n",
    "    ys = lambda price: exp(b*price) - 1\n",
    "    yd = lambda price: a*pow(price,-epsilon)\n",
    "    \n",
    "    # Define the derivative of the excess demand function, for root-finding\n",
    "    d1 = lambda price: a*(-epsilon)*pow(price, -epsilon-1) - b*exp(b*price)\n",
    "    d2 = lambda price: a*(-epsilon)*(-epsilon-1)*pow(price, -epsilon-2) - pow(b,2)*exp(b*price)\n",
    "    xsd = lambda price: yd(price) - ys(price)\n",
    "    update = lambda x0: x0 - (2*xsd(x0)*d1(x0))/(2*pow(d1(x0),2) - xsd(x0)*d2(x0))\n",
    "    maxiter = 30\n",
    "    toler = 1.0e-6\n",
    "    # Pick a random integer price guess between 1 and 10. We want more flexibility here, and we can afford the randomness because of the increased efficiency.\n",
    "    x0 = random.randint(1,10)\n",
    "    x1 = 0\n",
    "    niter = maxiter\n",
    "    for i in range(1,maxiter):\n",
    "        x1 = update(x0)\n",
    "        if abs(xsd(x1)) < toler:\n",
    "            niter = i\n",
    "            break\n",
    "        else:\n",
    "            x0 = x1      \n",
    "    print(\"For parameters (a, b, epsilon) = (\",a, b, epsilon,\") the equilibrium price is\", x1, \"after\", niter, \"iterations.\")\n",
    "    print(\"For this run, equilibrium demand is \", yd(x1), \" and supply is \", ys(x1))"
   ]
  },
  {
   "cell_type": "code",
   "execution_count": 170,
   "metadata": {
    "collapsed": false
   },
   "outputs": [
    {
     "name": "stdout",
     "output_type": "stream",
     "text": [
      "For parameters (a, b, epsilon) = ( 1 0.1 1 ) the equilibrium price is 2.933410885534702 after 3 iterations.\n",
      "For this run, equilibrium demand is  0.34090007810744183  and supply is  0.34090007810744183\n",
      "For parameters (a, b, epsilon) = ( 2 0.1 1 ) the equilibrium price is 4.029893833559745 after 2 iterations.\n",
      "For this run, equilibrium demand is  0.4962909899374025  and supply is  0.4962910059902874\n",
      "For parameters (a, b, epsilon) = ( 1 0.2 1 ) the equilibrium price is 2.0149468873875387 after 3 iterations.\n",
      "For this run, equilibrium demand is  0.49629099717687397  and supply is  0.4962909971943903\n",
      "For parameters (a, b, epsilon) = ( 1 0.2 2 ) the equilibrium price is 1.6178501407395771 after 2 iterations.\n",
      "For this run, equilibrium demand is  0.38205282730237333  and supply is  0.38205293548675057\n"
     ]
    }
   ],
   "source": [
    "# Test it for the right cases.\n",
    "eqprice(1,0.1,1)\n",
    "eqprice(2,0.1,1)\n",
    "eqprice(1,0.2,1)\n",
    "eqprice(1,0.2,2)"
   ]
  },
  {
   "cell_type": "code",
   "execution_count": null,
   "metadata": {
    "collapsed": true
   },
   "outputs": [],
   "source": []
  }
 ],
 "metadata": {
  "kernelspec": {
   "display_name": "Python 3",
   "language": "python",
   "name": "python3"
  },
  "language_info": {
   "codemirror_mode": {
    "name": "ipython",
    "version": 3
   },
   "file_extension": ".py",
   "mimetype": "text/x-python",
   "name": "python",
   "nbconvert_exporter": "python",
   "pygments_lexer": "ipython3",
   "version": "3.5.1"
  }
 },
 "nbformat": 4,
 "nbformat_minor": 0
}
