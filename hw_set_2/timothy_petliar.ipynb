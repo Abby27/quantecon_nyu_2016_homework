{
 "cells": [
  {
   "cell_type": "code",
   "execution_count": 1,
   "metadata": {
    "collapsed": false
   },
   "outputs": [
    {
     "name": "stdout",
     "output_type": "stream",
     "text": [
      "For (a,b,epsilon)= (1.0, 0.1, 1.0) , Equilibrium Price= 2.933410555124282 , number of iterations =  24 \n",
      "\n",
      "For (a,b,epsilon)= (2.0, 0.1, 1.0) , Equilibrium Price= 4.029893724620342 , number of iterations =  26 \n",
      "\n",
      "For (a,b,epsilon)= (1.0, 0.2, 1.0) , Equilibrium Price= 2.014946442842483 , number of iterations =  24 \n",
      "\n",
      "For (a,b,epsilon)= (1.0, 0.1, 2.0) , Equilibrium Price= 2.0797850906848905 , number of iterations =  24 \n",
      "\n"
     ]
    }
   ],
   "source": [
    "# The code below gives an estimate for the equilibrium price for a market given two simples spply and demand functions \n",
    "#using bisections for four seperate parameters.\n",
    "\n",
    "#The code is essentially the same as the orginal Matlab code, with some minor modifications for Python and four returning four \n",
    "#seperate results in one run.\n",
    "\n",
    "\n",
    "from numpy import expm1 #According to documentation expm1 is a version of exp(x)-1 that is more accurate for small values\n",
    "\n",
    "\n",
    "def supply(price):\n",
    "    \n",
    "    global b;\n",
    "    ys=expm1(b*price)\n",
    "    return ys \n",
    "def demand(price):\n",
    "    global a , epsilon;\n",
    "    yd=a*(price**(-epsilon));\n",
    "    return yd\n",
    "def main():\n",
    "    global a , b, epsilon\n",
    "    a_params=[1,2,1,1] #we store the four sets of paramets in a list\n",
    "    b_params=[0.1, 0.1, 0.2, 0.1]\n",
    "    epsilon_params=[1,1,1,2]\n",
    "    p_clear=[]\n",
    "    maxinter=30\n",
    "    toler=1.0e-6\n",
    "    \n",
    "    for k in range(0,4): #range only used k from to 3, resulting in seperate runs for each set of parameter\n",
    "        a=float(a_params[k]) #a_params[k] is a one element list that must be converted to a float\n",
    "        b=float(b_params[k])\n",
    "        epsilon=float(epsilon_params[k])\n",
    "        plow=0.1\n",
    "        phigh=10.0\n",
    "        ninter=maxinter \n",
    "    \n",
    "        for i in range(1,maxinter):\n",
    "            \n",
    "        \n",
    "            pcurr=(plow+phigh)/2\n",
    "        \n",
    "            yd=demand(pcurr)\n",
    "            ys=supply(pcurr)\n",
    "            excesssupply=ys-yd\n",
    "        \n",
    "            if (excesssupply > 0):\n",
    "                phigh = pcurr;\n",
    "            else:\n",
    "                plow = pcurr;\n",
    "            \n",
    "            \n",
    "                diff = abs(phigh - plow);\n",
    "                if (diff <= toler):\n",
    "                    ninter = i; #printed to demonstrate max steps not exceeded before desired tolerance achieved.\n",
    "                    break\n",
    "            pclear = (plow + phigh)/2; \n",
    "            yd = demand(pcurr); #extra values resulting for our approximate solver that I decided not to print\n",
    "            ys=  (pcurr);\n",
    "            excesssupply = ys - yd;\n",
    "        \n",
    "        \n",
    "        print(\"For (a,b,epsilon)=\",(a,b,epsilon),\",\",\"Equilibrium Price=\",pclear,\", number of iterations = \" , ninter,\"\\n\")\n",
    "main()   \n",
    "     \n",
    "            \n",
    "            \n",
    "        \n",
    "        \n",
    "        \n",
    "        \n",
    "        \n",
    "    \n",
    "    \n",
    "    \n",
    "    \n",
    "    \n",
    "    \n",
    " \n",
    " \n",
    "    \n",
    "    \n",
    "\n",
    "    "
   ]
  },
  {
   "cell_type": "code",
   "execution_count": null,
   "metadata": {
    "collapsed": true
   },
   "outputs": [],
   "source": []
  }
 ],
 "metadata": {
  "kernelspec": {
   "display_name": "Python 3",
   "language": "python",
   "name": "python3"
  },
  "language_info": {
   "codemirror_mode": {
    "name": "ipython",
    "version": 3
   },
   "file_extension": ".py",
   "mimetype": "text/x-python",
   "name": "python",
   "nbconvert_exporter": "python",
   "pygments_lexer": "ipython3",
   "version": "3.5.1"
  }
 },
 "nbformat": 4,
 "nbformat_minor": 0
}
