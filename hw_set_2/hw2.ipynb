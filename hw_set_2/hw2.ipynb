{
 "cells": [
  {
   "cell_type": "code",
   "execution_count": 3,
   "metadata": {
    "collapsed": false
   },
   "outputs": [
    {
     "name": "stdout",
     "output_type": "stream",
     "text": [
      "For (a,b,epsilon)= (1.0, 0.1, 1.0) , Equilibrium Price= 2.933410555124282 \n",
      "\n",
      "For (a,b,epsilon)= (2.0, 0.1, 1.0) , Equilibrium Price= 4.029893724620342 \n",
      "\n",
      "For (a,b,epsilon)= (1.0, 0.2, 1.0) , Equilibrium Price= 2.014946442842483 \n",
      "\n",
      "For (a,b,epsilon)= (1.0, 0.1, 2.0) , Equilibrium Price= 2.0797850906848905 \n",
      "\n"
     ]
    }
   ],
   "source": [
    "from numpy import expm1\n",
    "\n",
    "\n",
    "def supply(price):\n",
    "    \n",
    "    global b;\n",
    "    ys=expm1(b*price)\n",
    "    return ys \n",
    "def demand(price):\n",
    "    global a , epsilon;\n",
    "    yd=a*(price**(-epsilon));\n",
    "    return yd\n",
    "def main():\n",
    "    global a , b, epsilon\n",
    "    a_params=[1,2,1,1]\n",
    "    b_params=[0.1, 0.1, 0.2, 0.1]\n",
    "    epsilon_params=[1,1,1,2]\n",
    "    p_clear=[]\n",
    "    maxinter=30\n",
    "    toler=1.0e-6\n",
    "    \n",
    "    for k in range(0,4):\n",
    "        a=float(a_params[k])\n",
    "        b=float(b_params[k])\n",
    "        epsilon=float(epsilon_params[k])\n",
    "        plow=0.1\n",
    "        phigh=10.0\n",
    "        ninter=maxinter\n",
    "    \n",
    "        for i in range(1,maxinter):\n",
    "            \n",
    "        \n",
    "            pcurr=(plow+phigh)/2\n",
    "        \n",
    "            yd=demand(pcurr)\n",
    "            ys=supply(pcurr)\n",
    "            excesssupply=ys-yd\n",
    "        \n",
    "            if (excesssupply > 0):\n",
    "                phigh = pcurr;\n",
    "            else:\n",
    "                plow = pcurr;\n",
    "            \n",
    "            \n",
    "                diff = abs(phigh - plow);\n",
    "                if (diff <= toler):\n",
    "                    ninter = i;\n",
    "                    break\n",
    "            pclear = (plow + phigh)/2;\n",
    "            yd = demand(pcurr);\n",
    "            ys=  (pcurr);\n",
    "            excesssupply = ys - yd;\n",
    "        \n",
    "        \n",
    "        print(\"For (a,b,epsilon)=\",(a,b,epsilon),\",\",\"Equilibrium Price=\",pclear,\"\\n\")\n",
    "main()   \n",
    "     \n",
    "            \n",
    "            \n",
    "        \n",
    "        \n",
    "        \n",
    "        \n",
    "        \n",
    "    \n",
    "    \n",
    "    \n",
    "    \n",
    "    \n",
    "    \n",
    " \n",
    " \n",
    "    \n",
    "    \n",
    "\n",
    "    "
   ]
  },
  {
   "cell_type": "code",
   "execution_count": null,
   "metadata": {
    "collapsed": true
   },
   "outputs": [],
   "source": []
  }
 ],
 "metadata": {
  "kernelspec": {
   "display_name": "Python 3",
   "language": "python",
   "name": "python3"
  },
  "language_info": {
   "codemirror_mode": {
    "name": "ipython",
    "version": 3
   },
   "file_extension": ".py",
   "mimetype": "text/x-python",
   "name": "python",
   "nbconvert_exporter": "python",
   "pygments_lexer": "ipython3",
   "version": "3.5.1"
  }
 },
 "nbformat": 4,
 "nbformat_minor": 0
}
