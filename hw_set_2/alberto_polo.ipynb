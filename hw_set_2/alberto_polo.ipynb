{
 "cells": [
  {
   "cell_type": "code",
   "execution_count": 49,
   "metadata": {
    "collapsed": false
   },
   "outputs": [],
   "source": [
    "# Alberto Polo\n",
    "# NYUID N19683411\n",
    "# Solve for equilibrium price and quantity of a simple market\n",
    "\n",
    "import numpy as np\n",
    "\n",
    "# compute supply given price and params\n",
    "def supply(price, b):\n",
    "    return np.exp(b*price) - 1\n",
    "\n",
    "# compute demand given price and params\n",
    "def demand(price, a, epsilon):\n",
    "    return a*(price**(-epsilon))\n",
    "\n",
    "def solve(a, b, epsilon):\n",
    "\n",
    "# set algorithm parameters\n",
    "    mxiter = 50\n",
    "    toler = 1.0e-8\n",
    "    plow = 0.1\n",
    "    phigh = 10.0\n",
    "    niter = mxiter\n",
    "\n",
    "    # bisect on excess supply\n",
    "    for i in range(mxiter):\n",
    "\n",
    "        pcur = (plow + phigh)/2\n",
    "        \n",
    "        # compute excess supply\n",
    "        excesssupply = supply(pcur, b) - demand(pcur, a, epsilon)\n",
    "         \n",
    "        if excesssupply > 0.0:\n",
    "            phigh = pcur # look for a lower price if supply > demand\n",
    "        else:\n",
    "            plow = pcur # opposite\n",
    "        \n",
    "        diff = abs(phigh - plow)\n",
    "\n",
    "        if diff <= toler:\n",
    "            niter = i\n",
    "            break\n",
    "            \n",
    "    pclear = (plow + phigh)/2\n",
    "    yd = demand(pcur, a, epsilon)\n",
    "    ys = supply(pcur, b)\n",
    "    excesssupply = ys - yd\n",
    "    print(\"a = %1.1f, b = %1.1f, epsilon = %1.1f, Supply = %1.4f, Excess Supply = %1.4e, Clearing Price = %1.4f\" % (a, b, epsilon, ys, excesssupply, pclear))\n",
    "    print(\"Iter = %d\" % (niter))\n",
    "    print(\"--------\")\n",
    "    return;"
   ]
  },
  {
   "cell_type": "code",
   "execution_count": 50,
   "metadata": {
    "collapsed": false
   },
   "outputs": [
    {
     "name": "stdout",
     "output_type": "stream",
     "text": [
      "a = 1.0, b = 0.1, epsilon = 1.0, Supply = 0.3409, Excess Supply = -1.9291e-09, Clearing Price = 2.9334\n",
      "Iter = 29\n",
      "--------\n",
      "a = 2.0, b = 0.1, epsilon = 1.0, Supply = 0.4963, Excess Supply = -1.0884e-09, Clearing Price = 4.0299\n",
      "Iter = 29\n",
      "--------\n",
      "a = 1.0, b = 0.2, epsilon = 1.0, Supply = 0.4963, Excess Supply = 3.9671e-09, Clearing Price = 2.0149\n",
      "Iter = 29\n",
      "--------\n",
      "a = 1.0, b = 0.1, epsilon = 2.0, Supply = 0.2312, Excess Supply = -2.6688e-09, Clearing Price = 2.0798\n",
      "Iter = 29\n",
      "--------\n"
     ]
    }
   ],
   "source": [
    "solve(1, 0.1, 1)\n",
    "solve(2, 0.1, 1)\n",
    "solve(1, 0.2, 1)\n",
    "solve(1, 0.1, 2)"
   ]
  }
 ],
 "metadata": {
  "kernelspec": {
   "display_name": "Python 3",
   "language": "python",
   "name": "python3"
  },
  "language_info": {
   "codemirror_mode": {
    "name": "ipython",
    "version": 3
   },
   "file_extension": ".py",
   "mimetype": "text/x-python",
   "name": "python",
   "nbconvert_exporter": "python",
   "pygments_lexer": "ipython3",
   "version": "3.5.1"
  }
 },
 "nbformat": 4,
 "nbformat_minor": 0
}
