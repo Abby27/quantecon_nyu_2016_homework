{
 "cells": [
  {
   "cell_type": "code",
   "execution_count": 7,
   "metadata": {
    "collapsed": false
   },
   "outputs": [
    {
     "data": {
      "text/plain": [
       "' \\n Homework Set 2\\n Ruixue Gong, N17593858\\n \\n write a Python that takes (a,b,epsilon) as its arguments\\n and returns the equilibrium price\\n \\n'"
      ]
     },
     "execution_count": 7,
     "metadata": {},
     "output_type": "execute_result"
    }
   ],
   "source": [
    "''' \n",
    " Homework Set 2\n",
    " Ruixue Gong, N17593858\n",
    " \n",
    " write a Python that takes (a,b,epsilon) as its arguments\n",
    " and returns the equilibrium price\n",
    " \n",
    "'''"
   ]
  },
  {
   "cell_type": "code",
   "execution_count": 8,
   "metadata": {
    "collapsed": false
   },
   "outputs": [],
   "source": [
    "import numpy as np\n",
    "\n",
    "def equilibrium(a,b,epsilon):\n",
    "    #Define demand function\n",
    "    def demand(price):\n",
    "        \n",
    "        yd=a*(price**(-epsilon))\n",
    "    \n",
    "        return yd\n",
    "\n",
    "    #define supply function\n",
    "    def supply(price):\n",
    "        \n",
    "        ys=np.exp(b*price)-1\n",
    "    \n",
    "        return ys\n",
    "    \n",
    "    #Use bisection to compute equilibrium price and quantity\n",
    "    \n",
    "    #define params\n",
    "    mxiter = 30\n",
    "    toler = 1.0e-6\n",
    "    plow = 0.1\n",
    "    phigh = 10.0\n",
    "    \n",
    "    niter=mxiter\n",
    "\n",
    "    for i in range(mxiter): \n",
    "        \n",
    "        pcur = (plow + phigh)/2\n",
    "        yd = demand(pcur)\n",
    "        ys = supply(pcur)\n",
    "        excesssupply = ys - yd\n",
    "    \n",
    "        if excesssupply > 0: \n",
    "            phigh = pcur\n",
    "        else:\n",
    "            plow = pcur\n",
    "\n",
    "        diff = abs(phigh - plow)\n",
    "\n",
    " \n",
    "        if diff <= toler:\n",
    "            niter = i\n",
    "            break\n",
    "            \n",
    "    pclear = (plow + phigh)/2\n",
    "    yd = demand(pcur)\n",
    "    ys = supply(pcur)\n",
    "    excesssupply = ys - yd\n",
    "\n",
    "    print(\"The equilirium price is\", pclear)\n",
    "    print(\"Demand quantity:\", yd)\n",
    "    print(\"Supply quantity:\", ys)\n",
    "    print(\"The excess supply is\", excesssupply)\n"
   ]
  },
  {
   "cell_type": "code",
   "execution_count": 9,
   "metadata": {
    "collapsed": false
   },
   "outputs": [
    {
     "name": "stdout",
     "output_type": "stream",
     "text": [
      "When (a,b,c)=(1,0.1,1), the result is: \n",
      "\n",
      "The equilirium price is 2.9334108501672738\n",
      "Demand quantity: 0.3409001165053871\n",
      "Supply quantity: 0.340900033803\n",
      "The excess supply is -8.27026802597e-08\n",
      "\n",
      "When (a,b,c)=(2,0.1,1), the result is: \n",
      "\n",
      "The equilirium price is 4.029893872141837\n",
      "Demand quantity: 0.49629094885068514\n",
      "Supply quantity: 0.49629105591\n",
      "The excess supply is 1.07059624166e-07\n",
      "\n",
      "When (a,b,c)=(1,0.2,1), the result is: \n",
      "\n",
      "The equilirium price is 2.0149467378854746\n",
      "Demand quantity: 0.4962911066704587\n",
      "Supply quantity: 0.496290864161\n",
      "The excess supply is -2.4250981534e-07\n",
      "\n",
      "When (a,b,c)=(1,0.1,2), the result is: \n",
      "\n",
      "The equilirium price is 2.079785385727882\n",
      "Demand quantity: 0.23118682405760163\n",
      "Supply quantity: 0.231186709915\n",
      "The excess supply is -1.14142313851e-07\n"
     ]
    }
   ],
   "source": [
    "print(\"When (a,b,c)=(1,0.1,1), the result is: \")\n",
    "print(\"\")\n",
    "equilibrium(1,0.1,1)\n",
    "    \n",
    "print(\"\")\n",
    "print(\"When (a,b,c)=(2,0.1,1), the result is: \")\n",
    "print(\"\")\n",
    "equilibrium(2,0.1,1)\n",
    "\n",
    "print(\"\")\n",
    "print(\"When (a,b,c)=(1,0.2,1), the result is: \")\n",
    "print(\"\")\n",
    "equilibrium(1,0.2,1)\n",
    "\n",
    "\n",
    "print(\"\")\n",
    "print(\"When (a,b,c)=(1,0.1,2), the result is: \")\n",
    "print(\"\")\n",
    "equilibrium(1,0.1,2)   "
   ]
  },
  {
   "cell_type": "code",
   "execution_count": null,
   "metadata": {
    "collapsed": true
   },
   "outputs": [],
   "source": []
  }
 ],
 "metadata": {
  "kernelspec": {
   "display_name": "Python 3",
   "language": "python",
   "name": "python3"
  },
  "language_info": {
   "codemirror_mode": {
    "name": "ipython",
    "version": 3
   },
   "file_extension": ".py",
   "mimetype": "text/x-python",
   "name": "python",
   "nbconvert_exporter": "python",
   "pygments_lexer": "ipython3",
   "version": "3.5.1"
  }
 },
 "nbformat": 4,
 "nbformat_minor": 0
}
