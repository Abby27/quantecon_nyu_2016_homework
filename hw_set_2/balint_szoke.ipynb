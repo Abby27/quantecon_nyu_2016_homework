{
 "cells": [
  {
   "cell_type": "markdown",
   "metadata": {},
   "source": [
    "-------------------------------------------------------------------\n",
    "# Homework set 2 - solution\n",
    "\n",
    " * **Author**: Balint Szoke\n",
    " * **UniID**: bs2574\n",
    "\n",
    "> This notebook contains a class that calculates the equilibrium price and quantity for different demand and supply functions coming from particular parametric families\n",
    "\n",
    "-------------------------------------------------------------------\n"
   ]
  },
  {
   "cell_type": "code",
   "execution_count": 1,
   "metadata": {
    "collapsed": false
   },
   "outputs": [],
   "source": [
    "import numpy as np\n",
    "\n",
    "\n",
    "class equilibrium_price(object):\n",
    "    \"\"\"\n",
    "    This class takes the paramters of the demand and supply functions \n",
    "    and calculates the corresponding equilibrium objects\n",
    "    \"\"\"\n",
    "    \n",
    "    def __init__(self, a, b, epsilon, p_low = 0.1, p_high = 10.0  , maxiter = 30, tol = 1e-6):\n",
    "        self.a, self.b, self.epsilon = a, b, epsilon\n",
    "        self.p_low, self.p_high = 0.1, 10.0\n",
    "        self.maxiter, self.tol = maxiter, tol\n",
    "    \n",
    "    def demand(self, price):\n",
    "        return self.a*(price**(-self.epsilon))\n",
    "\n",
    "    def supply(self, price):\n",
    "        return np.exp(self.b*price) - 1\n",
    "    \n",
    "    def equilibrium(self):\n",
    "        p_low, p_high = self.p_low, self.p_high\n",
    "        maxiter, tol = self.maxiter, self.tol\n",
    "        \n",
    "        for i in range(maxiter):\n",
    "            pcur = (p_low + p_high)/2\n",
    "            yd = self.demand(pcur)\n",
    "            ys = self.supply(pcur)\n",
    "            excesssupply = ys - yd\n",
    "\n",
    "            if excesssupply > 0:\n",
    "                p_high = pcur\n",
    "            else:\n",
    "                p_low = pcur\n",
    "\n",
    "            diff = abs(p_high - p_low)\n",
    "            if diff <= tol:\n",
    "                niter = i\n",
    "                break\n",
    "\n",
    "        pclear = (p_low + p_high)/2\n",
    "        yd = self.demand(pcur)\n",
    "        ys = self.supply(pcur)\n",
    "        excesssupply = ys - yd\n",
    "\n",
    "        return [pclear, niter, yd, ys, excesssupply]\n",
    "    \n",
    "    def print_out(self):\n",
    "        text = \"\"\"a = {:2.1f}, b = {:2.1f}, epsilon = {:2.1f} imply the following equilbirum\n",
    "            price: {:2.2f} and quantity: {:2.2f}  with excess supply: {: 2.2f}\\n \"\"\"\n",
    "        \n",
    "        print(text.format(self.a, self.b, self.epsilon, self.equilibrium()[0],\\\n",
    "                                                        self.equilibrium()[2],\\\n",
    "                                                        self.equilibrium()[4]) )"
   ]
  },
  {
   "cell_type": "code",
   "execution_count": 2,
   "metadata": {
    "collapsed": false
   },
   "outputs": [
    {
     "name": "stdout",
     "output_type": "stream",
     "text": [
      "a = 1.0, b = 0.1, epsilon = 1.0 imply the following equilbirum\n",
      "            price: 2.93 and quantity: 0.34  with excess supply: -0.00\n",
      " \n",
      "a = 2.0, b = 0.1, epsilon = 1.0 imply the following equilbirum\n",
      "            price: 4.03 and quantity: 0.50  with excess supply:  0.00\n",
      " \n",
      "a = 1.0, b = 0.2, epsilon = 1.0 imply the following equilbirum\n",
      "            price: 2.01 and quantity: 0.50  with excess supply: -0.00\n",
      " \n",
      "a = 1.0, b = 0.1, epsilon = 2.0 imply the following equilbirum\n",
      "            price: 2.08 and quantity: 0.23  with excess supply: -0.00\n",
      " \n"
     ]
    }
   ],
   "source": [
    "#---------------------------------------------------------------\n",
    "# Equilibrium objects for alternative parameter values\n",
    "#---------------------------------------------------------------\n",
    "equilibrium_price(1, .1, 1).print_out()\n",
    "equilibrium_price(2, .1, 1).print_out()\n",
    "equilibrium_price(1, .2, 1).print_out()\n",
    "equilibrium_price(1, .1, 2).print_out()"
   ]
  }
 ],
 "metadata": {
  "kernelspec": {
   "display_name": "Python 3",
   "language": "python",
   "name": "python3"
  },
  "language_info": {
   "codemirror_mode": {
    "name": "ipython",
    "version": 3
   },
   "file_extension": ".py",
   "mimetype": "text/x-python",
   "name": "python",
   "nbconvert_exporter": "python",
   "pygments_lexer": "ipython3",
   "version": "3.5.1"
  }
 },
 "nbformat": 4,
 "nbformat_minor": 0
}
