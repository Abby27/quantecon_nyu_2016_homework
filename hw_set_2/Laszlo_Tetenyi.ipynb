{
 "cells": [
  {
   "cell_type": "code",
   "execution_count": 1,
   "metadata": {
    "collapsed": true
   },
   "outputs": [],
   "source": [
    "# Laszlo Tetenyi - NYU - lt1245 - \n",
    "# Find equilibrium using bisection\n",
    "import scipy as sp\n",
    "import numpy as np\n",
    "from scipy.optimize import bisect\n",
    "import matplotlib.pyplot as plt"
   ]
  },
  {
   "cell_type": "code",
   "execution_count": 6,
   "metadata": {
    "collapsed": false
   },
   "outputs": [
    {
     "data": {
      "text/plain": [
       "[2.9334108855344145, 4.029893774711271, 2.0149468873557748, 2.0797854211141553]"
      ]
     },
     "execution_count": 6,
     "metadata": {},
     "output_type": "execute_result"
    }
   ],
   "source": [
    "optprice=[]\n",
    "def supply(price):\n",
    "    return np.exp(b*price)-1\n",
    "def demand(price):\n",
    "    return a*(price**(-epsilon))\n",
    "def main(price):\n",
    "    return supply(price)-demand(price)\n",
    "#Case 1\n",
    "b=0.1\n",
    "a=1.0\n",
    "epsilon=1\n",
    "# Solve graphically\n",
    "\n",
    "pgrid=np.linspace(1,5,100)\n",
    "osgrid=main(pgrid)\n",
    "sgrid=supply(pgrid)\n",
    "dgrid=demand(pgrid)\n",
    "\n",
    "plt.subplot(2,1,1)\n",
    "plt.plot(pgrid,sgrid,pgrid,dgrid)\n",
    "plt.title('Supply and demand')\n",
    "plt.subplot(2,1,2)\n",
    "plt.plot(pgrid,osgrid)\n",
    "plt.title('Equilibrium price map')\n",
    "plt.show()\n",
    "#Now using bisection\n",
    "e=bisect(main,0.1,10)\n",
    "optprice.append(e)\n",
    "#Case 2\n",
    "b=0.1\n",
    "a=2.0\n",
    "epsilon=1\n",
    "e=bisect(main,0.1,10)\n",
    "optprice.append(e)\n",
    "#Case 3\n",
    "b=0.2\n",
    "a=1.0\n",
    "epsilon=1\n",
    "e=bisect(main,0.1,10)\n",
    "optprice.append(e)\n",
    "#Case 4\n",
    "b=0.1\n",
    "a=1.0\n",
    "epsilon=2\n",
    "e=bisect(main,0.1,10)\n",
    "optprice.append(e)\n",
    "# Display optimal price\n",
    "optprice"
   ]
  },
  {
   "cell_type": "code",
   "execution_count": 3,
   "metadata": {
    "collapsed": true
   },
   "outputs": [],
   "source": []
  }
 ],
 "metadata": {
  "kernelspec": {
   "display_name": "Python 3",
   "language": "python",
   "name": "python3"
  },
  "language_info": {
   "codemirror_mode": {
    "name": "ipython",
    "version": 3
   },
   "file_extension": ".py",
   "mimetype": "text/x-python",
   "name": "python",
   "nbconvert_exporter": "python",
   "pygments_lexer": "ipython3",
   "version": "3.5.1"
  }
 },
 "nbformat": 4,
 "nbformat_minor": 0
}
