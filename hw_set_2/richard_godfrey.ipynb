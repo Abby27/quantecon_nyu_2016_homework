{
 "cells": [
  {
   "cell_type": "code",
   "execution_count": 1,
   "metadata": {
    "collapsed": true
   },
   "outputs": [],
   "source": [
    "import math\n",
    "\n",
    "def supply_fn(price, a, b, eps):\n",
    "    ys = math.e**(b*price)-1\n",
    "    return ys\n",
    "\n",
    "def demand_fn(price, a, b, eps):\n",
    "    yd = a*(price**(-eps))\n",
    "    return yd\n",
    "\n",
    "def main(a, b, eps):\n",
    "    \n",
    "    maxiter = 30\n",
    "    toler = 1*10**-6\n",
    "    plow = 0.1\n",
    "    phigh = 10.0\n",
    "    ninter = maxiter\n",
    "    \n",
    "    for i in range(1, maxiter):\n",
    "        pcur = (plow + phigh)/2\n",
    "        yd = demand_fn(pcur, a, b, eps)\n",
    "        ys = supply_fn(pcur, a, b, eps)\n",
    "        excesssupply = yd - ys\n",
    "   \n",
    "        if excesssupply > 0:\n",
    "            phigh = pcur\n",
    "        else:\n",
    "            plow = pcur\n",
    "            \n",
    "        diff = math.fabs(phigh - plow)\n",
    "        \n",
    "        if diff <= toler:\n",
    "            niter = i\n",
    "            break\n",
    "    \n",
    "    pclear = (plow+phigh)/2\n",
    "    yd = demand_fn(pcur, a, b, eps)\n",
    "    ys = supply_fn(pcur, a, b, eps)\n",
    "    excesssupply = yd - ys\n",
    "    \n",
    "    return [niter, pclear, yd, ys, excesssupply]\n",
    "\n",
    "\n"
   ]
  },
  {
   "cell_type": "code",
   "execution_count": 2,
   "metadata": {
    "collapsed": false
   },
   "outputs": [
    {
     "data": {
      "text/plain": [
       "[24,\n",
       " 0.10000029504299164,\n",
       " 49.99970495874936,\n",
       " 0.010050226685814456,\n",
       " 49.98965473206355]"
      ]
     },
     "execution_count": 2,
     "metadata": {},
     "output_type": "execute_result"
    }
   ],
   "source": [
    "main(5,0.1,1)"
   ]
  },
  {
   "cell_type": "code",
   "execution_count": null,
   "metadata": {
    "collapsed": true
   },
   "outputs": [],
   "source": []
  }
 ],
 "metadata": {
  "kernelspec": {
   "display_name": "Python 3",
   "language": "python",
   "name": "python3"
  },
  "language_info": {
   "codemirror_mode": {
    "name": "ipython",
    "version": 3
   },
   "file_extension": ".py",
   "mimetype": "text/x-python",
   "name": "python",
   "nbconvert_exporter": "python",
   "pygments_lexer": "ipython3",
   "version": "3.5.1"
  }
 },
 "nbformat": 4,
 "nbformat_minor": 0
}
