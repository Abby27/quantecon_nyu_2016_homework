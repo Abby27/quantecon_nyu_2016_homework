{
 "cells": [
  {
   "cell_type": "markdown",
   "metadata": {},
   "source": [
    "Victoria Gregory, N14207660 \n",
    "\n",
    "2/14/2016\n",
    "\n",
    "This program computes an equilibrium using bisection for a series of parameter inputs."
   ]
  },
  {
   "cell_type": "code",
   "execution_count": 1,
   "metadata": {
    "collapsed": true
   },
   "outputs": [],
   "source": [
    "import numpy as np\n",
    "\n",
    "# bisection function\n",
    "def bisect(a,b,epsilon):\n",
    "    \n",
    "    # set up some parameters\n",
    "    mxiter = 30\n",
    "    toler = 1.0e-6\n",
    "    plow = 0.1\n",
    "    phigh = 10.0\n",
    "    niter = mxiter\n",
    "    \n",
    "    # demand function\n",
    "    def demand(p):\n",
    "        return a*p**(-epsilon)\n",
    "\n",
    "    # supply function\n",
    "    def supply(p):\n",
    "        return np.exp(b*p) - 1\n",
    "    \n",
    "    for i in range(0,mxiter):\n",
    "        \n",
    "        pcur = (plow + phigh)/2\n",
    "        \n",
    "        # check the excess supply at the new endpoint\n",
    "        yd = demand(pcur)\n",
    "        ys = supply(pcur)\n",
    "        excesssupply = ys - yd\n",
    "        \n",
    "        # update endpoints\n",
    "        if excesssupply > 0:\n",
    "            phigh = pcur\n",
    "        else:\n",
    "            plow = pcur\n",
    "        \n",
    "        # check for convergence\n",
    "        diff = np.abs(phigh - plow)\n",
    "        if diff <= toler:\n",
    "            niter = i\n",
    "            break\n",
    "            \n",
    "    pclear = (plow + phigh)/2\n",
    "    return pclear\n",
    "        "
   ]
  },
  {
   "cell_type": "code",
   "execution_count": 2,
   "metadata": {
    "collapsed": false
   },
   "outputs": [
    {
     "name": "stdout",
     "output_type": "stream",
     "text": [
      "The equilibrium price at a = 1, b = 0.1, epsilon = 1 is 2.9334108501672738\n",
      "The equilibrium price at a = 2, b = 0.1, epsilon = 1 is 4.029893872141837\n",
      "The equilibrium price at a = 1, b = 0.2, epsilon = 1 is 2.0149467378854746\n",
      "The equilibrium price at a = 1, b = 0.1, epsilon = 2 is 2.079785385727882\n"
     ]
    }
   ],
   "source": [
    "# now execute the above function for the given parameters\n",
    "a_vals = np.array([1,2,1,1])\n",
    "b_vals = np.array([0.1,0.1,0.2,0.1])\n",
    "eps_vals = np.array([1,1,1,2])\n",
    "\n",
    "for j in range (0,np.size(a_vals)):\n",
    "    equil_price = bisect(a_vals[j],b_vals[j],eps_vals[j])\n",
    "    s = 'The equilibrium price at a = ' + repr(a_vals[j]) + ', b = ' + format(b_vals[j]) + ', epsilon = ' + repr(eps_vals[j]) + ' is ' + repr(equil_price)\n",
    "    print(s)\n",
    "    "
   ]
  },
  {
   "cell_type": "code",
   "execution_count": null,
   "metadata": {
    "collapsed": true
   },
   "outputs": [],
   "source": []
  }
 ],
 "metadata": {
  "kernelspec": {
   "display_name": "Python 3",
   "language": "python",
   "name": "python3"
  },
  "language_info": {
   "codemirror_mode": {
    "name": "ipython",
    "version": 3
   },
   "file_extension": ".py",
   "mimetype": "text/x-python",
   "name": "python",
   "nbconvert_exporter": "python",
   "pygments_lexer": "ipython3",
   "version": "3.5.1"
  }
 },
 "nbformat": 4,
 "nbformat_minor": 0
}
