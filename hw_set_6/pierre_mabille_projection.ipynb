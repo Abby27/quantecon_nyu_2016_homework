{
 "cells": [
  {
   "cell_type": "markdown",
   "metadata": {},
   "source": [
    "# Homework 6, Exercise 7\n",
    "## Projection of a vector onto the column space of a matrix\n",
    "\n",
    "**Author** Pierre Mabille \n",
    "\n",
    "**NYU ID** N10017621 \n",
    "\n",
    "**Date** March 24, 2016 "
   ]
  },
  {
   "cell_type": "markdown",
   "metadata": {},
   "source": [
    "First define variables."
   ]
  },
  {
   "cell_type": "code",
   "execution_count": 3,
   "metadata": {
    "collapsed": false
   },
   "outputs": [
    {
     "name": "stdout",
     "output_type": "stream",
     "text": [
      "[1\n",
      " 3\n",
      " -3]\n",
      "[1 0\n",
      " 0 -6\n",
      " 2 2]\n"
     ]
    }
   ],
   "source": [
    "y = [1 3 -3]'\n",
    "X = [1 0;\n",
    "0 -6;\n",
    "2 2]\n",
    "\n",
    "println(y)\n",
    "println(X)"
   ]
  },
  {
   "cell_type": "markdown",
   "metadata": {},
   "source": [
    "### 1) Ordinary expression for projection\n",
    "I use the expression $Py=X(X'X)^{-1}X'y$."
   ]
  },
  {
   "cell_type": "code",
   "execution_count": 4,
   "metadata": {
    "collapsed": false
   },
   "outputs": [
    {
     "name": "stdout",
     "output_type": "stream",
     "text": [
      "[-0.5652173913043479\n",
      " 3.2608695652173916\n",
      " -2.217391304347826]\n"
     ]
    }
   ],
   "source": [
    "P = X*inv(X'*X)*X'\n",
    "yhat1 = P*y\n",
    "println(yhat1)"
   ]
  },
  {
   "cell_type": "markdown",
   "metadata": {},
   "source": [
    "### 2) Gram-Schmidt orthogonalization (of the columns of the matrix of explanatory variables)\n",
    "Create a function that implements Gram-Schmidt algorithm and apply it to the matrix $X$. I obtain a matrix $U$ with orthonormal columns that span the same space as the columns of $X$. I calculate the projection as $Py = U(U'U)^{-1}U'y= UU'y$, using $U'U=I$."
   ]
  },
  {
   "cell_type": "code",
   "execution_count": 8,
   "metadata": {
    "collapsed": false
   },
   "outputs": [
    {
     "name": "stdout",
     "output_type": "stream",
     "text": [
      "Number[-0.5652173913043477\n",
      "       3.2608695652173916\n",
      "       -2.2173913043478257]\n"
     ]
    }
   ],
   "source": [
    "function gramschmidt(X::Matrix)\n",
    "    nrows, ncols = size(X)\n",
    "    M = Array(Any,ncols)\n",
    "    for j = 1:ncols\n",
    "        Xtrunc = X[:,1:j]\n",
    "        P = Xtrunc*inv(Xtrunc'*Xtrunc)*Xtrunc'\n",
    "        M[j] = eye(nrows) - P \n",
    "    end\n",
    "    V = Array(Number,nrows,ncols)\n",
    "    U = Array(Number,nrows,ncols)\n",
    "    V[:,1] = eye(nrows)*X[:,1]\n",
    "    U[:,1] = V[:,1]./norm(V[:,1])\n",
    "    for j = 2:ncols\n",
    "        V[:,j] = M[j-1]*X[:,j]\n",
    "        U[:,j] = V[:,j]./norm(V[:,j])\n",
    "    end\n",
    "    return U\n",
    "end\n",
    "\n",
    "U = gramschmidt(X)\n",
    "yhat2 = U*U'*y\n",
    "println(yhat2)"
   ]
  },
  {
   "cell_type": "markdown",
   "metadata": {
    "collapsed": false
   },
   "source": [
    "### 3) QR decomposition\n",
    "\n",
    "Obtain the orthogonal matrix $U$ from Julia's QR decomposition routine. \n",
    "\n",
    "The projection is then $Py = QR \\left((QR)'QR \\right)^{-1}(QR)'y = QR \\left(R'Q'QR \\right)^{-1}R'Q'y = QRR^{-1}(R')^{-1}R'Q'y = QQ'y$, where I used $Q'Q$=I."
   ]
  },
  {
   "cell_type": "code",
   "execution_count": 9,
   "metadata": {
    "collapsed": false
   },
   "outputs": [
    {
     "name": "stdout",
     "output_type": "stream",
     "text": [
      "[-0.5652173913043473\n",
      " 3.2608695652173907\n",
      " -2.2173913043478253]\n"
     ]
    }
   ],
   "source": [
    "Q, R = qr(X)\n",
    "yhat3 = Q*Q'*y\n",
    "println(yhat3)"
   ]
  },
  {
   "cell_type": "code",
   "execution_count": null,
   "metadata": {
    "collapsed": false
   },
   "outputs": [],
   "source": []
  },
  {
   "cell_type": "code",
   "execution_count": null,
   "metadata": {
    "collapsed": true
   },
   "outputs": [],
   "source": []
  }
 ],
 "metadata": {
  "kernelspec": {
   "display_name": "Julia 0.4.3",
   "language": "julia",
   "name": "julia-0.4"
  },
  "language_info": {
   "file_extension": ".jl",
   "mimetype": "application/julia",
   "name": "julia",
   "version": "0.4.3"
  }
 },
 "nbformat": 4,
 "nbformat_minor": 0
}
