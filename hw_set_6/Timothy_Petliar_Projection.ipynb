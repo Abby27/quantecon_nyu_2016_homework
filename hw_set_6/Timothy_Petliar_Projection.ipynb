{
 "cells": [
  {
   "cell_type": "markdown",
   "metadata": {},
   "source": [
    "# Projection by Three Different Methods\n"
   ]
  },
  {
   "cell_type": "markdown",
   "metadata": {},
   "source": [
    "## Timothy Petliar"
   ]
  },
  {
   "cell_type": "code",
   "execution_count": 1,
   "metadata": {
    "collapsed": true
   },
   "outputs": [],
   "source": [
    "import numpy as np\n",
    "X=np.matrix('1 0; 0 -6; 2 2')\n",
    "y=np.matrix('1;3;-3')\n"
   ]
  },
  {
   "cell_type": "markdown",
   "metadata": {},
   "source": [
    "First, I import the required libaries and the data\n"
   ]
  },
  {
   "cell_type": "code",
   "execution_count": 4,
   "metadata": {
    "collapsed": false
   },
   "outputs": [
    {
     "data": {
      "text/plain": [
       "matrix([[-0.56521739],\n",
       "        [ 3.26086957],\n",
       "        [-2.2173913 ]])"
      ]
     },
     "execution_count": 4,
     "metadata": {},
     "output_type": "execute_result"
    }
   ],
   "source": [
    "def ordinary_expression_proj(space, vector):\n",
    "    X=space\n",
    "    y=vector\n",
    "    X_tran=np.transpose(X)\n",
    "    X_tran_X_inv=np.linalg.inv(np.dot(X_tran,X)) # (X'X)^-1\n",
    "    betahat=np.dot(np.dot(X_tran_X_inv,X_tran),y) #(X'X)^-1 X' y\n",
    "    y_hat=np.dot(X, betahat)      #y_hat=X * beta_hat\n",
    "    return y_hat\n",
    "ordinary_expression_proj(X,y)"
   ]
  },
  {
   "cell_type": "markdown",
   "metadata": {},
   "source": [
    "This function simply computes the projection using the matrix expression. "
   ]
  },
  {
   "cell_type": "code",
   "execution_count": 5,
   "metadata": {
    "collapsed": false
   },
   "outputs": [
    {
     "data": {
      "text/plain": [
       "matrix([[-0.56521739],\n",
       "        [ 3.26086957],\n",
       "        [-2.2173913 ]])"
      ]
     },
     "execution_count": 5,
     "metadata": {},
     "output_type": "execute_result"
    }
   ],
   "source": [
    "def QR_decomp_proj(space, vector):\n",
    "    X=space \n",
    "    y=vector\n",
    "    Q, R = np.linalg.qr(X) #QR decomposition tool form Scipy\n",
    "    y_hat=np.dot(np.dot(Q, Q.T),y) #y_hat=QRR^-1Q'=QQ'\n",
    "    \n",
    "    return y_hat\n",
    "QR_decomp_proj(X, y)"
   ]
  },
  {
   "cell_type": "markdown",
   "metadata": {},
   "source": [
    "This function used the QR decomposition method from Scipy."
   ]
  },
  {
   "cell_type": "code",
   "execution_count": null,
   "metadata": {
    "collapsed": true
   },
   "outputs": [],
   "source": [
    "def gram_schmidt(space, vector):\n",
    "    X=space\n",
    "    print(X)\n",
    "    y=vector\n",
    "    number_of_steps=X.shape[1]\n",
    "    ortho_basis=[]\n",
    "    u=X[:,1]\n",
    "   \n",
    "    \n",
    "    dim=(X.shape[0],1)\n",
    "    sum_proj=np.zeros(3)\n",
    "    \n",
    "    for step in range(1, 2):\n",
    "     \n",
    "        \n",
    "        raw_vector=X[:,step]\n",
    "        print(raw_vector)\n",
    "        print(np.vdot(raw_vector, u))"
   ]
  },
  {
   "cell_type": "markdown",
   "metadata": {},
   "source": [
    "I was unable to working code. The method I wanted to implement would starting by taking the first colum of X,\n",
    "then use the Gram-Schmidt formula with inner products. Raw_Vector was to be each columnm, and sum_proj would conain the projections for the step of the compuation The orthogonal vector should then be raw_vector-sum_proj."
   ]
  },
  {
   "cell_type": "code",
   "execution_count": null,
   "metadata": {
    "collapsed": true
   },
   "outputs": [],
   "source": []
  }
 ],
 "metadata": {
  "kernelspec": {
   "display_name": "Python 3",
   "language": "python",
   "name": "python3"
  },
  "language_info": {
   "codemirror_mode": {
    "name": "ipython",
    "version": 3
   },
   "file_extension": ".py",
   "mimetype": "text/x-python",
   "name": "python",
   "nbconvert_exporter": "python",
   "pygments_lexer": "ipython3",
   "version": "3.5.1"
  }
 },
 "nbformat": 4,
 "nbformat_minor": 0
}
