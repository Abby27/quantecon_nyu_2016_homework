{
 "cells": [
  {
   "cell_type": "markdown",
   "metadata": {},
   "source": [
    "-------------------------------------------------------------------\n",
    "# Homework set 6 - Exercise 7\n",
    "\n",
    " * **Author**: Balint Szoke\n",
    " * **UniID**: bs2574\n",
    "\n",
    "> This notebook represents three different ways of projecting $\\mathbf{y}$ onto the column sapce of $\\mathbf{X}$\n",
    "\n",
    "-------------------------------------------------------------------\n"
   ]
  },
  {
   "cell_type": "code",
   "execution_count": 1,
   "metadata": {
    "collapsed": true
   },
   "outputs": [],
   "source": [
    "import numpy as np\n",
    "from scipy.linalg import qr"
   ]
  },
  {
   "cell_type": "code",
   "execution_count": 2,
   "metadata": {
    "collapsed": true
   },
   "outputs": [],
   "source": [
    "y = np.array([1., 3., -3.])\n",
    "X = np.array([[1.,  0.], \n",
    "              [0., -6.],\n",
    "              [2.,  2.]])"
   ]
  },
  {
   "cell_type": "markdown",
   "metadata": {},
   "source": [
    "## (1) Use the ordinary expression for the projection"
   ]
  },
  {
   "cell_type": "code",
   "execution_count": 3,
   "metadata": {
    "collapsed": false
   },
   "outputs": [
    {
     "name": "stdout",
     "output_type": "stream",
     "text": [
      "Projected y:\n",
      "[-0.56521739  3.26086957 -2.2173913 ]\n"
     ]
    }
   ],
   "source": [
    "P = X @ np.linalg.inv(X.T @ X) @ X.T\n",
    "\n",
    "print(\"Projected y:\")\n",
    "print(P @ y)"
   ]
  },
  {
   "cell_type": "markdown",
   "metadata": {},
   "source": [
    "## (2) Gram-Schmidt algorithm"
   ]
  },
  {
   "cell_type": "markdown",
   "metadata": {},
   "source": [
    "Obtain the matrix $U$, whose columns are the orthonoraml basis for the space spanned by col(X)"
   ]
  },
  {
   "cell_type": "code",
   "execution_count": 4,
   "metadata": {
    "collapsed": false
   },
   "outputs": [
    {
     "name": "stdout",
     "output_type": "stream",
     "text": [
      "Projected y:\n",
      "[-0.56521739  3.26086957 -2.2173913 ]\n"
     ]
    }
   ],
   "source": [
    "n, k = X.shape\n",
    "I_n = np.identity(n)\n",
    "U = np.zeros_like(X)\n",
    "\n",
    "for i, x_i in enumerate(X.T):\n",
    "    X_i = X[:, :i]                                          # when i=0, it is an empty array \n",
    "    M_i = I_n - X_i @ np.linalg.inv(X_i.T @ X_i) @ X_i.T    # when i=0, it is the identity \n",
    "    v_i = M_i @ x_i\n",
    "    U[:, i] = v_i / np.linalg.norm(v_i, ord = 2)\n",
    "\n",
    "print(\"Projected y:\")\n",
    "print(U @ U.T @ y)"
   ]
  },
  {
   "cell_type": "markdown",
   "metadata": {},
   "source": [
    "## (3) Use built-in QR routine to find $U$"
   ]
  },
  {
   "cell_type": "code",
   "execution_count": 5,
   "metadata": {
    "collapsed": false
   },
   "outputs": [
    {
     "name": "stdout",
     "output_type": "stream",
     "text": [
      "Projected y:\n",
      "[-0.56521739  3.26086957 -2.2173913 ]\n"
     ]
    }
   ],
   "source": [
    "U, R = qr(X, mode = 'economic')\n",
    "\n",
    "print(\"Projected y:\")\n",
    "print(U @ U.T @ y)"
   ]
  }
 ],
 "metadata": {
  "kernelspec": {
   "display_name": "Python 3",
   "language": "python",
   "name": "python3"
  },
  "language_info": {
   "codemirror_mode": {
    "name": "ipython",
    "version": 3
   },
   "file_extension": ".py",
   "mimetype": "text/x-python",
   "name": "python",
   "nbconvert_exporter": "python",
   "pygments_lexer": "ipython3",
   "version": "3.5.1"
  }
 },
 "nbformat": 4,
 "nbformat_minor": 0
}
