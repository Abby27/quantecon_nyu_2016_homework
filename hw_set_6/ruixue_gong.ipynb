{
 "cells": [
  {
   "cell_type": "markdown",
   "metadata": {},
   "source": [
    "## Exercise 7\n",
    "\n",
    "**Ruixue Gong, **\n",
    "**N17593858**\n"
   ]
  },
  {
   "cell_type": "markdown",
   "metadata": {},
   "source": [
    "**Description:**\n",
    "\n",
    "In this exercise, your job is to project y onto the column space\n",
    "of X in three different ways, where \n",
    "$$y=\\begin{bmatrix}\n",
    "1\\\\3\\\\-3\\end{bmatrix}, \\quad X=\\begin{bmatrix}1 & 0 \\\\ 0& -6\\\\ 2 & 2\\end{bmatrix}$$"
   ]
  },
  {
   "cell_type": "markdown",
   "metadata": {},
   "source": [
    "**1st Task**: use the ordinary expression for the projection. That is \n",
    "$$\\mathbf{P} \\mathbf{y}=\\mathbf{X}(\\mathbf{X}'\\mathbf{X})^{-1}\\mathbf{X}'\\mathbf{y}$$"
   ]
  },
  {
   "cell_type": "code",
   "execution_count": 2,
   "metadata": {
    "collapsed": true
   },
   "outputs": [],
   "source": [
    "import numpy as np\n",
    "from scipy import linalg"
   ]
  },
  {
   "cell_type": "code",
   "execution_count": 3,
   "metadata": {
    "collapsed": false
   },
   "outputs": [
    {
     "name": "stdout",
     "output_type": "stream",
     "text": [
      "The projection of y on X using ordinary expression is denoted by Py, and Py = [-0.56521739  3.26086957 -2.2173913 ]\n"
     ]
    }
   ],
   "source": [
    "#Calculate projection of y on space X by ordinary expression\n",
    "X = np.array([[1,0], [0, -6], [2, 2]])\n",
    "y = np.array([1,3,-3])\n",
    "Py = X @  np.linalg.inv(X.transpose() @ X) @ X.transpose() @ y\n",
    "print(\"The projection of y on X using ordinary expression is denoted by Py, and Py =\", Py)"
   ]
  },
  {
   "cell_type": "markdown",
   "metadata": {},
   "source": [
    "**2nd Task**: implement your own version of Gram–Schmidt, based of the algorithm given in the lecture. Use it to convert X to U, a matrix with orthonormal columns and the same column space as X. Now calculate the projection as $Py = UU' y$."
   ]
  },
  {
   "cell_type": "markdown",
   "metadata": {},
   "source": [
    "Recall Gram-Schmidt theorem, we know that for each linearly independent set $\\{ x_1 ,\\dots, x_k \\} \\subseteq R_n$ ,\n",
    "there exists an orthonormal set $\\{ u_1 , \\dots , u_k \\}$ with\n",
    "span $\\{ x_1 , \\dots , x_i \\}$ = span $\\{ u_1 , \\dots , u_i \\}$\n",
    "for\n",
    "$i = 1, \\dots, k$.\n",
    "\n",
    "\n",
    "Construction uses the Gram-Schmidt orthogonalization\n",
    "procedure: For $i = 1, \\dots , k$, set\n",
    "1. $S_i : = span\\{x_1 , \\dots , x_i \\}$ and $M_i:= \\text{proj }S_i \\perp$\n",
    "2. $v_i : = M_{i-1} \\cdot x_i$ where $M_0$ is the identity mapping\n",
    "3. $u_i : = v_i / || v i ||$"
   ]
  },
  {
   "cell_type": "markdown",
   "metadata": {},
   "source": [
    "Therefore, I span $S_1,S_2$ as follows. $x_1$ spans $S_1$ space such that $S_1$ is a space with 1 dimension, and $x_1, x_2$ are the bases of $S_2$ space, since $x_1$ and $x_2$ are linearly independent. \n",
    "\n",
    "Thus I let $v_1=x_1(x_1'x_1)^{-1} x_1'x_2$, $v_1$ is the projection of $x_2$ on $S_1$ space. Then let $v_2= (I- x_1(x_1'x_1)^{-1} x_1') x_2$, where $v_2$ is orthogonal to $S_1$ space and to $v_1$ as well. "
   ]
  },
  {
   "cell_type": "code",
   "execution_count": 4,
   "metadata": {
    "collapsed": false
   },
   "outputs": [
    {
     "name": "stdout",
     "output_type": "stream",
     "text": [
      "The projection of y on X using Gram-Schimidt is denoted by Py2, and Py2= [-0.56521739  3.26086957 -2.2173913 ]\n"
     ]
    }
   ],
   "source": [
    "#Extract x1,x2 from matrix X\n",
    "X1 = np.asarray(X[:, 0])\n",
    "X2 = np.asarray(X[:, 1])\n",
    "\n",
    "#Generate an identity matrix\n",
    "I = np.array([[1,0,0],[0,1,0],[0,0,1]])\n",
    "\n",
    "#v1 is the projection of X1 on subspace S1, and v2 is orthogonal to v1\n",
    "P1 = np.outer(X1 * (1 / (X1 @ X1)), X1)\n",
    "v1 = P1 @ X2\n",
    "v2 = (I - P1) @ X2\n",
    "\n",
    "# normalize v1 and v2 to get u1 and u2 respectively\n",
    "u1 = v1 / np.sqrt(v1 @ v1)\n",
    "u2 = v2 / np.sqrt(v2 @ v2)\n",
    "\n",
    "#Construct matrix U=[u1, u2]\n",
    "U = np.ones((3,2))\n",
    "\n",
    "U[:, 0] = u1\n",
    "U[:, 1] = u2\n",
    "\n",
    "Py2 = U @ U.transpose() @ y\n",
    "\n",
    "print(\"The projection of y on X using Gram-Schimidt is denoted by Py2, and Py2=\",Py2)"
   ]
  },
  {
   "cell_type": "markdown",
   "metadata": {},
   "source": [
    "**3rd Task**: use the same expression $Py = UU' y$, but\n",
    "this time obtain U from the QR decomposition routine in either SciPy or\n",
    "Julia."
   ]
  },
  {
   "cell_type": "markdown",
   "metadata": {},
   "source": [
    "$Py= X\\hat{\\beta} = U U' y$, where $X= UR$. U is a $n\\times k$ matrix with orthonormal columns, and R is a $k\\times k$ upper triangular and nonsingular matrix. U and R are obtained by QR-decomposition.\n",
    "\n"
   ]
  },
  {
   "cell_type": "code",
   "execution_count": 12,
   "metadata": {
    "collapsed": false,
    "scrolled": true
   },
   "outputs": [
    {
     "name": "stdout",
     "output_type": "stream",
     "text": [
      "The projection of y on X using QR decompostion is denoted by Py3, and Py3= [-0.56521739  3.26086957 -2.2173913 ]\n"
     ]
    }
   ],
   "source": [
    "#Get QR decomposition of matrix X, such that X=UR\n",
    "U, R = linalg.qr(X, mode=\"economic\")\n",
    "\n",
    "#Calculate y= UU'y\n",
    "Py3 = U @ U.transpose() @ y\n",
    "\n",
    "print(\"The projection of y on X using QR decompostion is denoted by Py3, and Py3=\",Py3)"
   ]
  },
  {
   "cell_type": "markdown",
   "metadata": {
    "collapsed": true
   },
   "source": [
    "**Conclusion**: there different ways (Ordinary Least Squares, Gram-Schmidt and QR decomposition) generate same projection of vector y on space X"
   ]
  }
 ],
 "metadata": {
  "kernelspec": {
   "display_name": "Python 3",
   "language": "python",
   "name": "python3"
  },
  "language_info": {
   "codemirror_mode": {
    "name": "ipython",
    "version": 3
   },
   "file_extension": ".py",
   "mimetype": "text/x-python",
   "name": "python",
   "nbconvert_exporter": "python",
   "pygments_lexer": "ipython3",
   "version": "3.5.1"
  }
 },
 "nbformat": 4,
 "nbformat_minor": 0
}
