{
 "cells": [
  {
   "cell_type": "markdown",
   "metadata": {},
   "source": [
    "Carlos Lizama  \n",
    "N17866309"
   ]
  },
  {
   "cell_type": "markdown",
   "metadata": {},
   "source": [
    "### Exercise 7\n",
    "\n",
    "The objective of this exercise is to proyect the vector $\\mathbf y$ onto the column space of $\\mathbf X$.\n",
    "\n",
    "First, define the vector $\\mathbf y$ and the matrix $\\mathbf X$"
   ]
  },
  {
   "cell_type": "code",
   "execution_count": 1,
   "metadata": {
    "collapsed": false
   },
   "outputs": [
    {
     "data": {
      "text/plain": [
       "3x2 Array{Int64,2}:\n",
       " 1   0\n",
       " 0  -6\n",
       " 2   2"
      ]
     },
     "execution_count": 1,
     "metadata": {},
     "output_type": "execute_result"
    }
   ],
   "source": [
    "y = [1, 3, -3]\n",
    "X = [1 0; 0 -6; 2 2]"
   ]
  },
  {
   "cell_type": "markdown",
   "metadata": {},
   "source": [
    "The first way is by using the projection matrix:"
   ]
  },
  {
   "cell_type": "code",
   "execution_count": 2,
   "metadata": {
    "collapsed": false
   },
   "outputs": [
    {
     "data": {
      "text/plain": [
       "3-element Array{Float64,1}:\n",
       " -0.565217\n",
       "  3.26087 \n",
       " -2.21739 "
      ]
     },
     "execution_count": 2,
     "metadata": {},
     "output_type": "execute_result"
    }
   ],
   "source": [
    "P = X*inv(X'*X)*X'\n",
    "Py1 = P*y"
   ]
  },
  {
   "cell_type": "markdown",
   "metadata": {},
   "source": [
    "Now I implement the Gram-Schmidt method:"
   ]
  },
  {
   "cell_type": "code",
   "execution_count": 3,
   "metadata": {
    "collapsed": false
   },
   "outputs": [
    {
     "data": {
      "text/plain": [
       "GramSchmidt (generic function with 1 method)"
      ]
     },
     "execution_count": 3,
     "metadata": {},
     "output_type": "execute_result"
    }
   ],
   "source": [
    "\"\"\"\n",
    "This function receives a matrix X and returns a matrix U with orthonormal columns which generate the same space as X\n",
    "\"\"\"\n",
    "function GramSchmidt(X)\n",
    "    n_rows = size(X,1)\n",
    "    n_columns = size(X,2)\n",
    "    U = zeros(size(X))\n",
    "    \n",
    "    v1 = X[:,1]\n",
    "    u1 = v1/norm(v1)\n",
    "    U[:,1] = u1\n",
    "    \n",
    "    for i in 2:n_columns\n",
    "        A = X[:,1:i-1]\n",
    "        M = eye(n_rows)-A*inv(A'*A)*A'\n",
    "        vi = M*X[:,i]     # projection of the current column onto the orthogonal space spanned by the previos vectors\n",
    "        ui = vi/norm(vi)\n",
    "        U[:,i] = ui\n",
    "    end\n",
    "        \n",
    "    return U\n",
    "    \n",
    "end\n",
    "        "
   ]
  },
  {
   "cell_type": "code",
   "execution_count": 4,
   "metadata": {
    "collapsed": false
   },
   "outputs": [
    {
     "data": {
      "text/plain": [
       "3-element Array{Float64,1}:\n",
       " -0.565217\n",
       "  3.26087 \n",
       " -2.21739 "
      ]
     },
     "execution_count": 4,
     "metadata": {},
     "output_type": "execute_result"
    }
   ],
   "source": [
    "U = GramSchmidt(X)\n",
    "Py2 = U*U'*y"
   ]
  },
  {
   "cell_type": "markdown",
   "metadata": {},
   "source": [
    "Finally, I obtain the matrix $\\mathbf U$ by using the QR decompsiition routine in Julia"
   ]
  },
  {
   "cell_type": "code",
   "execution_count": 5,
   "metadata": {
    "collapsed": false
   },
   "outputs": [
    {
     "data": {
      "text/plain": [
       "3-element Array{Float64,1}:\n",
       " -0.565217\n",
       "  3.26087 \n",
       " -2.21739 "
      ]
     },
     "execution_count": 5,
     "metadata": {},
     "output_type": "execute_result"
    }
   ],
   "source": [
    "U,R = qr(X)\n",
    "Py3 = U*U'*y"
   ]
  }
 ],
 "metadata": {
  "kernelspec": {
   "display_name": "Julia 0.4.3",
   "language": "julia",
   "name": "julia-0.4"
  },
  "language_info": {
   "file_extension": ".jl",
   "mimetype": "application/julia",
   "name": "julia",
   "version": "0.4.3"
  }
 },
 "nbformat": 4,
 "nbformat_minor": 0
}
