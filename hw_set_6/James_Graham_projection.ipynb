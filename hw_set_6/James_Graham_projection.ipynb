{
 "cells": [
  {
   "cell_type": "markdown",
   "metadata": {},
   "source": [
    "# Homework 6: projections\n",
    "\n",
    "This notebook projects a vector $y$ onto the column space of $X$ using three different procedures: ordinary projection, Gram-Schmidt orthogonalization and projection, and QR decompositon. \n",
    "\n",
    "Begin by importing the required libraries. "
   ]
  },
  {
   "cell_type": "code",
   "execution_count": 1,
   "metadata": {
    "collapsed": true
   },
   "outputs": [],
   "source": [
    "import numpy as np\n",
    "from numpy.linalg import inv\n",
    "from numpy.linalg import qr\n",
    "from scipy.linalg import orth\n",
    "from numpy.linalg import norm"
   ]
  },
  {
   "cell_type": "markdown",
   "metadata": {},
   "source": [
    "Next, we create the data vectors $y$ and $X$:\n"
   ]
  },
  {
   "cell_type": "code",
   "execution_count": 2,
   "metadata": {
    "collapsed": false
   },
   "outputs": [],
   "source": [
    "y = np.array([1,3,-3])\n",
    "y.shape = 3, 1\n",
    "X = np.array([[1,0], [2,0], [-6, 2]])"
   ]
  },
  {
   "cell_type": "markdown",
   "metadata": {},
   "source": [
    "### Ordinary Projection\n",
    "\n",
    "Next, create a function that computes a projection matrix $P = X(X'X)^{-1} X'$. This can then be re-used later:"
   ]
  },
  {
   "cell_type": "code",
   "execution_count": 3,
   "metadata": {
    "collapsed": false
   },
   "outputs": [],
   "source": [
    "def projection(X):\n",
    "    XT = np.transpose(X)\n",
    "    XTX = XT@X\n",
    "    XTXinv = inv(XTX)\n",
    "    P = X@XTXinv@XT\n",
    "    return P"
   ]
  },
  {
   "cell_type": "markdown",
   "metadata": {},
   "source": [
    "Now compute $Py$ using our data matrix, $X$:"
   ]
  },
  {
   "cell_type": "code",
   "execution_count": 4,
   "metadata": {
    "collapsed": false
   },
   "outputs": [
    {
     "name": "stdout",
     "output_type": "stream",
     "text": [
      "[[ 1.4]\n",
      " [ 2.8]\n",
      " [-3. ]]\n"
     ]
    }
   ],
   "source": [
    "P = projection(X)\n",
    "Py = P@y\n",
    "\n",
    "print(Py)"
   ]
  },
  {
   "cell_type": "markdown",
   "metadata": {},
   "source": [
    "### Gram-Schmidt orthogonalization and projection\n",
    "\n",
    "Now note that the columns of $X$ are linearly independent, so we may use the Gram-Schmidt orthogonalization algorithm. The following code implements the algorithm via sequential construction of orthonomal vectors by projecting the columns of $X$ onto its orthogonal complement.  "
   ]
  },
  {
   "cell_type": "code",
   "execution_count": null,
   "metadata": {
    "collapsed": true
   },
   "outputs": [],
   "source": [
    "Xhi  = X.shape[0]\n",
    "Xlen = X.shape[1]\n",
    "\n",
    "M    = np.identity(Xhi)\n",
    "U    = np.zeros([Xhi,Xlen])\n",
    "\n",
    "for i in range(Xlen):\n",
    "    v      = M@X[:,i]\n",
    "    vnorm  = norm(v)\n",
    "    U[:,i] = v/vnorm\n",
    "    Xtmp = X[:,:i+1]\n",
    "    P = projection(Xtmp)\n",
    "    M = np.identity(Xhi) - P"
   ]
  },
  {
   "cell_type": "markdown",
   "metadata": {},
   "source": [
    "Finally, compute the projection $Py = UU'y$, where $U$ is obtained from the Gram-Schmidt orthogonalization above. "
   ]
  },
  {
   "cell_type": "code",
   "execution_count": 34,
   "metadata": {
    "collapsed": false
   },
   "outputs": [
    {
     "name": "stdout",
     "output_type": "stream",
     "text": [
      "[[ 1.4]\n",
      " [ 2.8]\n",
      " [-3. ]]\n"
     ]
    }
   ],
   "source": [
    "UT = np.transpose(U)\n",
    "Py = U@UT@y\n",
    "\n",
    "print(Py)"
   ]
  },
  {
   "cell_type": "markdown",
   "metadata": {},
   "source": [
    "### QR decomposition and projection\n",
    "\n",
    "Finally, we construct the projection using the QR decomposition"
   ]
  },
  {
   "cell_type": "code",
   "execution_count": 29,
   "metadata": {
    "collapsed": false
   },
   "outputs": [
    {
     "name": "stdout",
     "output_type": "stream",
     "text": [
      "[[ 1.4]\n",
      " [ 2.8]\n",
      " [-3. ]]\n"
     ]
    }
   ],
   "source": [
    "Q, R = qr(X)\n",
    "QT = np.transpose(Q)\n",
    "QQT = Q@QT\n",
    "Py_qr = QQT@y\n",
    "\n",
    "print(Py_qr)"
   ]
  },
  {
   "cell_type": "markdown",
   "metadata": {},
   "source": [
    "Using the QR decomposition, we have exactly the same fitted value vector, $\\hat{y}$, yet again. \n",
    "\n",
    "Thus, we see that the ordinary orthogonal projection method, the Gram-Schmidt algorithm, and the QR decomposition all produce the same orthogonal projection: $Py = [1.4, 2.8, -3.0]'$.   "
   ]
  },
  {
   "cell_type": "code",
   "execution_count": null,
   "metadata": {
    "collapsed": true
   },
   "outputs": [],
   "source": []
  }
 ],
 "metadata": {
  "kernelspec": {
   "display_name": "Python 3",
   "language": "python",
   "name": "python3"
  },
  "language_info": {
   "codemirror_mode": {
    "name": "ipython",
    "version": 3
   },
   "file_extension": ".py",
   "mimetype": "text/x-python",
   "name": "python",
   "nbconvert_exporter": "python",
   "pygments_lexer": "ipython3",
   "version": "3.5.1"
  }
 },
 "nbformat": 4,
 "nbformat_minor": 0
}
