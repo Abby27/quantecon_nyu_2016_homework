{
 "cells": [
  {
   "cell_type": "markdown",
   "metadata": {},
   "source": [
    "## Ildebrando Magnani\n",
    "\n",
    "N16654444\n",
    "\n",
    "Homework 6\n",
    "\n",
    "Computational Excercise 7"
   ]
  },
  {
   "cell_type": "markdown",
   "metadata": {},
   "source": [
    "Part 1: Project a vector y into the column space of a matrix X using the regular expression for\n",
    "projections:"
   ]
  },
  {
   "cell_type": "code",
   "execution_count": 2,
   "metadata": {
    "collapsed": false
   },
   "outputs": [
    {
     "name": "stdout",
     "output_type": "stream",
     "text": [
      "[[-0.56521739]\n",
      " [ 3.26086957]\n",
      " [-2.2173913 ]] Projection of y onto column space of X\n"
     ]
    }
   ],
   "source": [
    "import numpy as np\n",
    "\n",
    "y = np.array([1, 3, -3])\n",
    "\n",
    "X = np.array([[1,  0],\n",
    "              [0, -6],\n",
    "              [2,  2]])\n",
    "\n",
    "P_y = X @ np.linalg.inv(np.transpose(X) @ X) @ np.transpose(X) @ y\n",
    "\n",
    "print(P_y.reshape(3,1), 'Projection of y onto column space of X')\n"
   ]
  },
  {
   "cell_type": "markdown",
   "metadata": {},
   "source": [
    "\n",
    "\n",
    "\n",
    "\n",
    "\n",
    "\n",
    "Part 2: Project a vector y into the column space of a matrix X using Gram-Schmidt process:"
   ]
  },
  {
   "cell_type": "code",
   "execution_count": 3,
   "metadata": {
    "collapsed": false
   },
   "outputs": [
    {
     "name": "stdout",
     "output_type": "stream",
     "text": [
      "[[ 0.4472136  -0.13187609]\n",
      " [ 0.         -0.98907071]\n",
      " [ 0.89442719  0.06593805]] Orthonormal Basis\n",
      "[[-0.56521739]\n",
      " [ 3.26086957]\n",
      " [-2.2173913 ]] Projection of y onto column space of X\n"
     ]
    }
   ],
   "source": [
    "y = np.array([1, 3, -3])\n",
    "\n",
    "X = np.array([[1,  0],\n",
    "              [0, -6],\n",
    "              [2,  2]])\n",
    "\n",
    "number_of_cols = len(X[1,:])\n",
    "\n",
    "\n",
    "def proj_y_onto_X(matrix):\n",
    "    for col in range(number_of_cols):\n",
    "        if col == 0:\n",
    "            M = np.identity(len(X[:,0]))\n",
    "            v_1 = M @ X[:,0:1]\n",
    "            u_1 = v_1 / np.sqrt(np.transpose(v_1) @ v_1)\n",
    "            Ort_basis = u_1   \n",
    "        else:\n",
    "            Spn = X[:,0:col]\n",
    "            P = Spn @ np.linalg.inv(np.transpose(Spn) @ Spn) @ np.transpose(Spn)\n",
    "            M = np.identity(len(X[:,0])) - P\n",
    "            v_i = M @ X[:,col:col+1]\n",
    "            u_i = v_i / np.sqrt(np.transpose(v_i) @ v_i)\n",
    "            Ort_basis = np.hstack((Ort_basis, u_i))\n",
    "\n",
    "    P_y = Ort_basis @ np.transpose(Ort_basis) @ y\n",
    "    return Ort_basis, P_y.reshape(len(X[:,0]),1)\n",
    "\n",
    "Orthonormal_Basis, Proj_y = proj_y_onto_X(X)\n",
    "\n",
    "print(Orthonormal_Basis, 'Orthonormal Basis')\n",
    "print(Proj_y, 'Projection of y onto column space of X')\n",
    "    "
   ]
  },
  {
   "cell_type": "markdown",
   "metadata": {},
   "source": [
    "\n",
    "\n",
    "\n",
    "\n",
    "\n",
    "Part 3: Project a vector y into the column space of a matrix X using Q-R factorization:"
   ]
  },
  {
   "cell_type": "code",
   "execution_count": 4,
   "metadata": {
    "collapsed": false
   },
   "outputs": [
    {
     "name": "stdout",
     "output_type": "stream",
     "text": [
      "[[-0.4472136  -0.13187609]\n",
      " [-0.         -0.98907071]\n",
      " [-0.89442719  0.06593805]] Orthonormal Basis\n",
      "[[-0.56521739]\n",
      " [ 3.26086957]\n",
      " [-2.2173913 ]] Projection of y onto column space of X\n"
     ]
    }
   ],
   "source": [
    "y = np.array([1, 3, -3])\n",
    "\n",
    "X = np.array([[1,  0],\n",
    "              [0, -6],\n",
    "              [2,  2]])\n",
    "\n",
    "q, r = np.linalg.qr(X)\n",
    "P_y = q @ np.transpose(q) @ y\n",
    "\n",
    "print(q, 'Orthonormal Basis')\n",
    "print(P_y.reshape(3,1), 'Projection of y onto column space of X')"
   ]
  },
  {
   "cell_type": "markdown",
   "metadata": {},
   "source": [
    "We see that the three different methods all produce the same result for the projection of y onto the column space of X, as expected."
   ]
  }
 ],
 "metadata": {
  "kernelspec": {
   "display_name": "Python 3",
   "language": "python",
   "name": "python3"
  },
  "language_info": {
   "codemirror_mode": {
    "name": "ipython",
    "version": 3
   },
   "file_extension": ".py",
   "mimetype": "text/x-python",
   "name": "python",
   "nbconvert_exporter": "python",
   "pygments_lexer": "ipython3",
   "version": "3.5.1"
  }
 },
 "nbformat": 4,
 "nbformat_minor": 0
}
