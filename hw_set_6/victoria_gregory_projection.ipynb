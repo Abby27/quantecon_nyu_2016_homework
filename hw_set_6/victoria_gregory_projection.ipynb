{
 "cells": [
  {
   "cell_type": "markdown",
   "metadata": {},
   "source": [
    "## Problem Set 6: Computational Exercise\n",
    "\n",
    "**Victoria Gregory, N14207660**\n",
    "\n",
    "3/15/2016"
   ]
  },
  {
   "cell_type": "markdown",
   "metadata": {},
   "source": [
    "In this homework, we are going to project a vector $y$ onto the column space of matrix $X$ in Julia with three different methods. Let's first set up our vectors."
   ]
  },
  {
   "cell_type": "code",
   "execution_count": 1,
   "metadata": {
    "collapsed": true
   },
   "outputs": [],
   "source": [
    "y = [1; 3; -3];\n",
    "X = [1 0; 0 -6; 2 2];"
   ]
  },
  {
   "cell_type": "markdown",
   "metadata": {},
   "source": [
    "---\n",
    "**Part 1**: Using the familiar formula\n",
    "$$Py = X(X'X)^{-1}X'y$$"
   ]
  },
  {
   "cell_type": "code",
   "execution_count": 3,
   "metadata": {
    "collapsed": false
   },
   "outputs": [
    {
     "data": {
      "text/plain": [
       "3-element Array{Float64,1}:\n",
       " -0.565217\n",
       "  3.26087 \n",
       " -2.21739 "
      ]
     },
     "execution_count": 3,
     "metadata": {},
     "output_type": "execute_result"
    }
   ],
   "source": [
    "P = X*(X'*X)^(-1)*X';\n",
    "proj1 = P*y"
   ]
  },
  {
   "cell_type": "markdown",
   "metadata": {},
   "source": [
    "---\n",
    "**Part 2**: Gram-Schmidt orthogonalization\n",
    "\n",
    "First, we need to construct $U$, the matrix with orthonormal columns that has the same column space as $X$. I follow the procedure from the notes:"
   ]
  },
  {
   "cell_type": "code",
   "execution_count": 6,
   "metadata": {
    "collapsed": true
   },
   "outputs": [],
   "source": [
    "U = zeros(size(X))\n",
    "for i=1:size(X,2)\n",
    "    xi = X[:,i]\n",
    "    if i==1\n",
    "        M = eye(size(X,1))\n",
    "    else\n",
    "        Si = X[:,1:i-1]\n",
    "        P = Si*(Si'*Si)^(-1)*Si'\n",
    "        M = eye(size(X,1)) - P\n",
    "    end\n",
    "    vi = M*xi\n",
    "    ui = vi/norm(vi)\n",
    "    U[:,i] = ui\n",
    "end"
   ]
  },
  {
   "cell_type": "markdown",
   "metadata": {},
   "source": [
    "Once we have $U$, all we need to do is use the formula: $Py = UU'y$."
   ]
  },
  {
   "cell_type": "code",
   "execution_count": 7,
   "metadata": {
    "collapsed": false
   },
   "outputs": [
    {
     "data": {
      "text/plain": [
       "3-element Array{Float64,1}:\n",
       " -0.565217\n",
       "  3.26087 \n",
       " -2.21739 "
      ]
     },
     "execution_count": 7,
     "metadata": {},
     "output_type": "execute_result"
    }
   ],
   "source": [
    "proj2 = U*U'*y"
   ]
  },
  {
   "cell_type": "markdown",
   "metadata": {},
   "source": [
    "We get the same answer as in Part 1."
   ]
  },
  {
   "cell_type": "markdown",
   "metadata": {},
   "source": [
    "---\n",
    "**Part 3**: QR decomposition\n",
    "\n",
    "I used Julia's built-in routine for the QR decomposition."
   ]
  },
  {
   "cell_type": "code",
   "execution_count": 16,
   "metadata": {
    "collapsed": false
   },
   "outputs": [
    {
     "data": {
      "text/plain": [
       "3-element Array{Float64,1}:\n",
       " -0.565217\n",
       "  3.26087 \n",
       " -2.21739 "
      ]
     },
     "execution_count": 16,
     "metadata": {},
     "output_type": "execute_result"
    }
   ],
   "source": [
    "F = qrfact(X);\n",
    "R = full(F[:R]);\n",
    "Q = full(F[:Q]);\n",
    "proj3 = X*R^(-1)*Q'*y "
   ]
  },
  {
   "cell_type": "markdown",
   "metadata": {},
   "source": [
    "Again, I get the same answer as Parts 1 and 2!"
   ]
  }
 ],
 "metadata": {
  "kernelspec": {
   "display_name": "Julia 0.4.3",
   "language": "julia",
   "name": "julia-0.4"
  },
  "language_info": {
   "file_extension": ".jl",
   "mimetype": "application/julia",
   "name": "julia",
   "version": "0.4.3"
  }
 },
 "nbformat": 4,
 "nbformat_minor": 0
}
