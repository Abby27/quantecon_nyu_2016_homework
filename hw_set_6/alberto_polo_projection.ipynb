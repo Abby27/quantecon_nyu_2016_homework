{
 "cells": [
  {
   "cell_type": "markdown",
   "metadata": {},
   "source": [
    "**HOMEWORK 6 - Part 3**\n",
    "\n",
    "**Author:** Alberto Polo\n",
    "    \n",
    "**NYUID:** N19683411\n",
    "    \n",
    "*Description:* Project a vector onto a linear subspace using i) ordinary projection, ii) Gram-Schmidt, iii) QR decomposition"
   ]
  },
  {
   "cell_type": "markdown",
   "metadata": {},
   "source": [
    "First I define the vector $y$ and matrix $X$"
   ]
  },
  {
   "cell_type": "code",
   "execution_count": 1,
   "metadata": {
    "collapsed": false
   },
   "outputs": [],
   "source": [
    "y = [1 3 -3]'\n",
    "X = [1 0; 0 -6; 2 2];"
   ]
  },
  {
   "cell_type": "markdown",
   "metadata": {},
   "source": [
    "I also define a function that constructs projection matrixes given an array"
   ]
  },
  {
   "cell_type": "code",
   "execution_count": 2,
   "metadata": {
    "collapsed": false
   },
   "outputs": [
    {
     "data": {
      "text/plain": [
       "P (generic function with 1 method)"
      ]
     },
     "execution_count": 2,
     "metadata": {},
     "output_type": "execute_result"
    }
   ],
   "source": [
    "P(arr) = arr * ((arr' * arr) \\ arr')"
   ]
  },
  {
   "cell_type": "markdown",
   "metadata": {},
   "source": [
    "** Ordinary projection**"
   ]
  },
  {
   "cell_type": "code",
   "execution_count": 3,
   "metadata": {
    "collapsed": false
   },
   "outputs": [
    {
     "data": {
      "text/plain": [
       "3x1 Array{Float64,2}:\n",
       " -0.565217\n",
       "  3.26087 \n",
       " -2.21739 "
      ]
     },
     "execution_count": 3,
     "metadata": {},
     "output_type": "execute_result"
    }
   ],
   "source": [
    "yhat_ord = P(X) * y"
   ]
  },
  {
   "cell_type": "markdown",
   "metadata": {},
   "source": [
    "**Gram-Schmidt**"
   ]
  },
  {
   "cell_type": "markdown",
   "metadata": {},
   "source": [
    "The first step is constructing the orthonomal matrix U. The following loop implements the recursive algorithm."
   ]
  },
  {
   "cell_type": "code",
   "execution_count": 4,
   "metadata": {
    "collapsed": false
   },
   "outputs": [],
   "source": [
    "M = 1\n",
    "U = Array(Float64, 3, 2)\n",
    "\n",
    "for i in 1:size(X, 2)\n",
    "    x = X[:, i]\n",
    "    v = M * x\n",
    "    u = v / norm(v)\n",
    "    M = eye(length(x)) - P(X[:, 1:i])\n",
    "    U[:, i] = u\n",
    "end"
   ]
  },
  {
   "cell_type": "markdown",
   "metadata": {},
   "source": [
    "With the orthonormal matrix at hand, the projection is calculated as follows:"
   ]
  },
  {
   "cell_type": "code",
   "execution_count": 5,
   "metadata": {
    "collapsed": false
   },
   "outputs": [
    {
     "data": {
      "text/plain": [
       "3x1 Array{Float64,2}:\n",
       " -0.565217\n",
       "  3.26087 \n",
       " -2.21739 "
      ]
     },
     "execution_count": 5,
     "metadata": {},
     "output_type": "execute_result"
    }
   ],
   "source": [
    "yhat_gs = U * U' * y"
   ]
  },
  {
   "cell_type": "markdown",
   "metadata": {},
   "source": [
    "**QR decomposition**"
   ]
  },
  {
   "cell_type": "markdown",
   "metadata": {
    "collapsed": true
   },
   "source": [
    "Here the first step is QR-decomposing the matrix X:"
   ]
  },
  {
   "cell_type": "code",
   "execution_count": 6,
   "metadata": {
    "collapsed": false
   },
   "outputs": [
    {
     "data": {
      "text/plain": [
       "(\n",
       "3x2 Array{Float64,2}:\n",
       " -0.447214  -0.131876\n",
       "  0.0       -0.989071\n",
       " -0.894427   0.065938,\n",
       "\n",
       "2x2 Array{Float64,2}:\n",
       " -2.23607  -1.78885\n",
       "  0.0       6.0663 )"
      ]
     },
     "execution_count": 6,
     "metadata": {},
     "output_type": "execute_result"
    }
   ],
   "source": [
    "Q, R = qr(X)"
   ]
  },
  {
   "cell_type": "markdown",
   "metadata": {},
   "source": [
    "With QR decomposition $Q$ is the orthonormal matrix that we want in order to project $y$ onto the column space of $X$. Thus"
   ]
  },
  {
   "cell_type": "code",
   "execution_count": 7,
   "metadata": {
    "collapsed": false
   },
   "outputs": [
    {
     "data": {
      "text/plain": [
       "3x1 Array{Float64,2}:\n",
       " -0.565217\n",
       "  3.26087 \n",
       " -2.21739 "
      ]
     },
     "execution_count": 7,
     "metadata": {},
     "output_type": "execute_result"
    }
   ],
   "source": [
    "yhat_qr = Q * Q' * y"
   ]
  },
  {
   "cell_type": "markdown",
   "metadata": {},
   "source": [
    "*Conclusion*"
   ]
  },
  {
   "cell_type": "markdown",
   "metadata": {},
   "source": [
    "The final step is verifying that we obtain the same projection with all three methods, which turns out to be true!"
   ]
  },
  {
   "cell_type": "code",
   "execution_count": 8,
   "metadata": {
    "collapsed": false
   },
   "outputs": [
    {
     "data": {
      "text/plain": [
       "4.440892098500626e-16"
      ]
     },
     "execution_count": 8,
     "metadata": {},
     "output_type": "execute_result"
    }
   ],
   "source": [
    "# compare ordinary and Gram-Schmidt projections\n",
    "maxabs(yhat_ord - yhat_gs)"
   ]
  },
  {
   "cell_type": "code",
   "execution_count": 9,
   "metadata": {
    "collapsed": false
   },
   "outputs": [
    {
     "data": {
      "text/plain": [
       "8.881784197001252e-16"
      ]
     },
     "execution_count": 9,
     "metadata": {},
     "output_type": "execute_result"
    }
   ],
   "source": [
    "# compare Gram-Schmidt and QR projections\n",
    "maxabs(yhat_gs - yhat_qr)"
   ]
  }
 ],
 "metadata": {
  "kernelspec": {
   "display_name": "Julia 0.4.3-pre",
   "language": "julia",
   "name": "julia-0.4"
  },
  "language_info": {
   "file_extension": ".jl",
   "mimetype": "application/julia",
   "name": "julia",
   "version": "0.4.4"
  }
 },
 "nbformat": 4,
 "nbformat_minor": 0
}
