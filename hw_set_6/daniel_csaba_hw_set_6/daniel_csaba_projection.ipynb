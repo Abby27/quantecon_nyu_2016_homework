{
 "cells": [
  {
   "cell_type": "markdown",
   "metadata": {},
   "source": [
    "## Comp Econ Homework Set 6\n",
    "\n",
    "Daniel Csaba\n",
    "\n",
    "UnivID: dc2730\n",
    "\n",
    "The task is to project **y** to the collumn space of **X** in three different ways.\n",
    "\n",
    "### 1. Orthogonal Projection "
   ]
  },
  {
   "cell_type": "code",
   "execution_count": 1,
   "metadata": {
    "collapsed": true
   },
   "outputs": [],
   "source": [
    "import numpy as np\n",
    "from scipy.linalg import qr"
   ]
  },
  {
   "cell_type": "markdown",
   "metadata": {},
   "source": [
    "Define the vector **y** and matrix **X**. "
   ]
  },
  {
   "cell_type": "code",
   "execution_count": 68,
   "metadata": {
    "collapsed": false
   },
   "outputs": [],
   "source": [
    "y = np.array([1, 3, -3])\n",
    "X = np.array([[1, 0, 2], [0, -6, 2]]).T"
   ]
  },
  {
   "cell_type": "markdown",
   "metadata": {},
   "source": [
    "The orthogonal projection is defined as\n",
    "\n",
    "$\\mathbf{P}y = \\mathbf{X}(\\mathbf{X'}\\mathbf{X})^{-1}\\mathbf{X'}y$"
   ]
  },
  {
   "cell_type": "code",
   "execution_count": 53,
   "metadata": {
    "collapsed": false
   },
   "outputs": [
    {
     "name": "stdout",
     "output_type": "stream",
     "text": [
      "[-0.56521739  3.26086957 -2.2173913 ]\n"
     ]
    }
   ],
   "source": [
    "Py = X @ np.linalg.inv(X.T @ X) @ X.T @ y\n",
    "print(Py)"
   ]
  },
  {
   "cell_type": "markdown",
   "metadata": {},
   "source": [
    "### 2. Gram-Schimdt decomposition\n",
    "\n",
    "A procedure to obtain the Gram-Schmidt decomposition---following the lecture notes---is given by:\n",
    "\n",
    "In the column space of $\\mathbf{X}$, span$\\{x_1, ..., x_k\\}$\n",
    "\n",
    "for $i$ in $\\{1, \\ldots, k\\}$:\n",
    "\n",
    "1. Take the annihilator of $S_i =$ span$\\{x_1, ..., x_i\\}$ given by $\\mathbf{M}_i :=$ proj$S_i^{\\perp}$ \n",
    "2. Project the current column $x_i$ to $S_{i-1}^{\\perp}$, i.e. $v_i = \\mathbf{M}_{i-1}x_i$\n",
    "3. Make the length of the projection unity $u_i = v_i/||v_i||$"
   ]
  },
  {
   "cell_type": "code",
   "execution_count": 55,
   "metadata": {
    "collapsed": false
   },
   "outputs": [],
   "source": [
    "U = np.ones(X.shape)\n",
    "for index, row in enumerate(X.T):\n",
    "    Z = X[:,:index]\n",
    "    M = np.eye(len(row)) - Z @ np.linalg.inv(Z.T @ Z) @ Z.T\n",
    "    v = M @ row\n",
    "    U[:,index] = v / np.sqrt(v @ v)"
   ]
  },
  {
   "cell_type": "markdown",
   "metadata": {},
   "source": [
    "The projection to the orthonormal basis obtained by the Gram-Schmidt construction is given by "
   ]
  },
  {
   "cell_type": "code",
   "execution_count": 57,
   "metadata": {
    "collapsed": false
   },
   "outputs": [
    {
     "name": "stdout",
     "output_type": "stream",
     "text": [
      "[-0.56521739  3.26086957 -2.2173913 ]\n"
     ]
    }
   ],
   "source": [
    "print((U @ U.T @ y))"
   ]
  },
  {
   "cell_type": "markdown",
   "metadata": {},
   "source": [
    "### 3. QR decomposition"
   ]
  },
  {
   "cell_type": "code",
   "execution_count": 84,
   "metadata": {
    "collapsed": true
   },
   "outputs": [],
   "source": [
    "Q, R = qr(X, mode='economic') # Use economic mode to get back size Q = (n*k) R = (k*k), when X = (n*k)"
   ]
  },
  {
   "cell_type": "code",
   "execution_count": 85,
   "metadata": {
    "collapsed": false
   },
   "outputs": [
    {
     "name": "stdout",
     "output_type": "stream",
     "text": [
      "[-0.56521739  3.26086957 -2.2173913 ]\n"
     ]
    }
   ],
   "source": [
    "print(Q @ Q.T @ y)"
   ]
  }
 ],
 "metadata": {
  "kernelspec": {
   "display_name": "Python 3",
   "language": "python",
   "name": "python3"
  },
  "language_info": {
   "codemirror_mode": {
    "name": "ipython",
    "version": 3
   },
   "file_extension": ".py",
   "mimetype": "text/x-python",
   "name": "python",
   "nbconvert_exporter": "python",
   "pygments_lexer": "ipython3",
   "version": "3.5.1"
  }
 },
 "nbformat": 4,
 "nbformat_minor": 0
}
