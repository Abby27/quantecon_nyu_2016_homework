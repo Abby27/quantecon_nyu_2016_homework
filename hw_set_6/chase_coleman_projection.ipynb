{
 "cells": [
  {
   "cell_type": "markdown",
   "metadata": {},
   "source": [
    "# Homework 6 Projection\n",
    "\n",
    "**Author**: Chase Coleman\n",
    "\n",
    "**NYUID**: N10879183\n",
    "\n",
    "**Date**: 19 March 2016"
   ]
  },
  {
   "cell_type": "markdown",
   "metadata": {},
   "source": [
    "## Exercise 7:\n",
    "\n",
    "In this exercise, your job is to project $y$ onto the column space of $X$ in three different ways.\n",
    "\n",
    "First, use the ordinary expression for the projection. That is\n",
    "\n",
    "$$Py = X(X'X)^{-1} X'y$$\n",
    "\n",
    "Next, implement your own version of Gram-Schmidt, based on the algorithm given in the lecture. Use it to convert $X$ to $U$, a matrix with orthonormal columns and the same column space as $X$. Now calculate the projection as \n",
    "\n",
    "$$Py = UU'y$$\n",
    "\n",
    "Finally, use the same expression\n",
    "$$Py = UU'y$$\n",
    "but this time obtain $U$ from the QR decomposition routine in either SciPy or Julia.\n",
    "\n",
    "Test your code with \n",
    "\n",
    "$$y = \\begin{pmatrix} 1 \\\\ 3 \\\\ -3 \\end{pmatrix}$$\n",
    "\n",
    "and\n",
    "\n",
    "$$X = \\begin{pmatrix} 1 & 0 \\\\ 0 & -6 \\\\ 2 & 2 \\end{pmatrix}$$\n",
    "\n",
    "You should get the same vector for the projection in each case. Submit this exercise in a separate notebook, with file name `firstname_lastname_projection.ipynb`."
   ]
  },
  {
   "cell_type": "markdown",
   "metadata": {},
   "source": [
    "## Solution"
   ]
  },
  {
   "cell_type": "code",
   "execution_count": 1,
   "metadata": {
    "collapsed": false
   },
   "outputs": [],
   "source": [
    "import matplotlib.pyplot as plt\n",
    "import numpy as np\n",
    "import scipy.linalg as la\n",
    "from mpl_toolkits.mplot3d import axes3d\n",
    "\n",
    "%matplotlib inline\n",
    "np.set_printoptions(precision=4, suppress=True)"
   ]
  },
  {
   "cell_type": "code",
   "execution_count": 2,
   "metadata": {
    "collapsed": true
   },
   "outputs": [],
   "source": [
    "y = np.array([1.0, 3.0, -3.0])\n",
    "X = np.array([[1.0, 0.0], [0.0, -6.0], [2.0, 2.0]])"
   ]
  },
  {
   "cell_type": "markdown",
   "metadata": {},
   "source": [
    "### Compute Expression Directly\n",
    "\n",
    "In the function below, we will compute the projection as naively as possible including the use of a numerical inverse."
   ]
  },
  {
   "cell_type": "code",
   "execution_count": 3,
   "metadata": {
    "collapsed": true
   },
   "outputs": [],
   "source": [
    "def project_inv(X, y):\n",
    "    \"\"\"\n",
    "    Maps a vector y into column space of X\n",
    "    \n",
    "    Parameters\n",
    "    ----------\n",
    "    X : Arraylike(Float64, ndim=2)\n",
    "        Projecting onto span(X)\n",
    "    y : Arraylike(Float64, ndim=1)\n",
    "        Want to projecting this vector into span(X)\n",
    "    \n",
    "    Returns\n",
    "    -------\n",
    "    yhat : Arraylike(Float64, ndim=1)\n",
    "        Projection of y onto span(X)\n",
    "        \n",
    "    Note: Uses a matrix inverse.\n",
    "    \"\"\"\n",
    "    # Projection matrix\n",
    "    P = X@la.inv(X.T@X)@X.T\n",
    "    \n",
    "    # Projection of y into span(X)\n",
    "    yhat = P@y\n",
    "    \n",
    "    return yhat"
   ]
  },
  {
   "cell_type": "markdown",
   "metadata": {},
   "source": [
    "Below we compute $\\hat{y}$ for the direct computation"
   ]
  },
  {
   "cell_type": "code",
   "execution_count": 4,
   "metadata": {
    "collapsed": false
   },
   "outputs": [
    {
     "data": {
      "text/plain": [
       "array([-0.5652,  3.2609, -2.2174])"
      ]
     },
     "execution_count": 4,
     "metadata": {},
     "output_type": "execute_result"
    }
   ],
   "source": [
    "project_inv(X, y)"
   ]
  },
  {
   "cell_type": "markdown",
   "metadata": {},
   "source": [
    "### Gram-Schmidt\n",
    "\n",
    "Here we will compute the projection by using our own implementation of Gram-Schmidt."
   ]
  },
  {
   "cell_type": "code",
   "execution_count": 5,
   "metadata": {
    "collapsed": false
   },
   "outputs": [],
   "source": [
    "def gramschmidt(X):\n",
    "    \"\"\"\n",
    "    Applies Gram-Schmidt to generate a orthonormal matrix \n",
    "    with same column space as X\n",
    "    \n",
    "    Parameters\n",
    "    ----------\n",
    "    X : Arraylike(Float64, ndim=2)\n",
    "        Will orthonormalize this matrix\n",
    "        \n",
    "    Returns\n",
    "    -------\n",
    "    U : Arraylike(Float64, ndim=2)\n",
    "        Orthonormal matrix with same column\n",
    "        space as X\n",
    "    \"\"\"\n",
    "    # Get sizes of X\n",
    "    ndim, nvec = np.atleast_2d(X).shape\n",
    "    \n",
    "    # Allocate an array to fill with orthonormal matrix\n",
    "    U = np.empty((ndim, nvec))\n",
    "    \n",
    "    # First element of U is a normalized element of X\n",
    "    U[:, 0] = X[:, 0] / la.norm(X[:, 0])\n",
    "    \n",
    "    for i in range(1, nvec):\n",
    "        # Inputs for step by step projection\n",
    "        inX = U[:, :i].reshape(ndim, i)\n",
    "        inY = X[:, i]\n",
    "        \n",
    "        # Fill i+1 element by using Gram-Schmidt\n",
    "        # Note: My = y - Py << Use this below\n",
    "        MY = inY - inX@inX.T@inY\n",
    "        U[:, i] = MY / la.norm(MY)\n",
    "    \n",
    "    return U\n",
    "\n",
    "\n",
    "def project_gs(X, y):\n",
    "    \"\"\"\n",
    "    Maps a vector y into column space of X\n",
    "    \n",
    "    Parameters\n",
    "    ----------\n",
    "    X : Arraylike(Float64, ndim=2)\n",
    "        Projecting onto span(X)\n",
    "    y : Arraylike(Float64, ndim=1)\n",
    "        Want to projecting this vector into span(X)\n",
    "    \n",
    "    Returns\n",
    "    -------\n",
    "    yhat : Arraylike(Float64, ndim=1)\n",
    "        Projection of y onto span(X)\n",
    "        \n",
    "    Note: Uses a Gram-Schmidt.\n",
    "    \"\"\"\n",
    "    # Orthonormalize X using Gram-Schmidt\n",
    "    U = gramschmidt(X)\n",
    "    \n",
    "    # Do projection\n",
    "    yhat = U@U.T@y\n",
    "    \n",
    "    return yhat\n",
    "\n",
    "\n",
    "def project_gs_blas(X, y):\n",
    "    \"\"\"\n",
    "    Maps a vector y into column space of X\n",
    "    \n",
    "    Parameters\n",
    "    ----------\n",
    "    X : Arraylike(Float64, ndim=2)\n",
    "        Projecting onto span(X)\n",
    "    y : Arraylike(Float64, ndim=1)\n",
    "        Want to projecting this vector into span(X)\n",
    "    \n",
    "    Returns\n",
    "    -------\n",
    "    yhat : Arraylike(Float64, ndim=1)\n",
    "        Projection of y onto span(X)\n",
    "        \n",
    "    Note: Uses a Gram-Schmidt from scipy to give it\n",
    "    a fair chance at timings below\n",
    "    \"\"\"\n",
    "    U = la.orth(X)\n",
    "    yhat = U@U.T@y\n",
    "    return yhat\n"
   ]
  },
  {
   "cell_type": "markdown",
   "metadata": {},
   "source": [
    "Computing the projection via Gram-Schmidt gives us the same thing"
   ]
  },
  {
   "cell_type": "code",
   "execution_count": 6,
   "metadata": {
    "collapsed": false
   },
   "outputs": [
    {
     "data": {
      "text/plain": [
       "array([-0.5652,  3.2609, -2.2174])"
      ]
     },
     "execution_count": 6,
     "metadata": {},
     "output_type": "execute_result"
    }
   ],
   "source": [
    "project_gs(X, y)"
   ]
  },
  {
   "cell_type": "markdown",
   "metadata": {},
   "source": [
    "### QR Decomposition\n",
    "\n",
    "We can also compute this projection by using the orthonormality of the $Q$ matrix in the QR decomposition."
   ]
  },
  {
   "cell_type": "code",
   "execution_count": 7,
   "metadata": {
    "collapsed": true
   },
   "outputs": [],
   "source": [
    "def project_qr(X, y):\n",
    "    \"\"\"\n",
    "    Maps a vector y into column space of X\n",
    "    \n",
    "    Parameters\n",
    "    ----------\n",
    "    X : Arraylike(Float64, ndim=2)\n",
    "        Projecting onto span(X)\n",
    "    y : Arraylike(Float64, ndim=1)\n",
    "        Want to projecting this vector into span(X)\n",
    "    \n",
    "    Returns\n",
    "    -------\n",
    "    yhat : Arraylike(Float64, ndim=1)\n",
    "        Projection of y onto span(X)\n",
    "        \n",
    "    Note: `scipy.linalg.qr` to get the QR decomp and\n",
    "    need the `mode=economic` decomposition to get\n",
    "    the right matrices\n",
    "    \"\"\"\n",
    "    # QR decomposition\n",
    "    Q, R = la.qr(X, mode='economic')\n",
    "    \n",
    "    # Get projection of y onto X\n",
    "    yhat = Q@Q.T@y\n",
    "    \n",
    "    return yhat\n",
    "    "
   ]
  },
  {
   "cell_type": "markdown",
   "metadata": {},
   "source": [
    "Computing the projection via QR decomposition also matches our previous two methods."
   ]
  },
  {
   "cell_type": "code",
   "execution_count": 8,
   "metadata": {
    "collapsed": false
   },
   "outputs": [
    {
     "data": {
      "text/plain": [
       "array([-0.5652,  3.2609, -2.2174])"
      ]
     },
     "execution_count": 8,
     "metadata": {},
     "output_type": "execute_result"
    }
   ],
   "source": [
    "project_qr(X, y)"
   ]
  },
  {
   "cell_type": "markdown",
   "metadata": {},
   "source": [
    "### Timing\n",
    "\n",
    "Below we can run a small horse race among the methods. To make the operations a bit less trivial, we can make the $X$ matrix and $y$ vector a bit bigger."
   ]
  },
  {
   "cell_type": "code",
   "execution_count": 9,
   "metadata": {
    "collapsed": true
   },
   "outputs": [],
   "source": [
    "X = np.random.randn(250, 100)\n",
    "y = np.random.randn(250)"
   ]
  },
  {
   "cell_type": "code",
   "execution_count": 10,
   "metadata": {
    "collapsed": false
   },
   "outputs": [
    {
     "name": "stdout",
     "output_type": "stream",
     "text": [
      "The slowest run took 4.99 times longer than the fastest. This could mean that an intermediate result is being cached.\n",
      "1000 loops, best of 3: 640 µs per loop\n"
     ]
    }
   ],
   "source": [
    "%timeit project_inv(X, y)"
   ]
  },
  {
   "cell_type": "code",
   "execution_count": 11,
   "metadata": {
    "collapsed": false
   },
   "outputs": [
    {
     "name": "stdout",
     "output_type": "stream",
     "text": [
      "The slowest run took 35.99 times longer than the fastest. This could mean that an intermediate result is being cached.\n",
      "100 loops, best of 3: 3.55 ms per loop\n"
     ]
    }
   ],
   "source": [
    "%timeit project_gs_blas(X, y)"
   ]
  },
  {
   "cell_type": "code",
   "execution_count": 12,
   "metadata": {
    "collapsed": false
   },
   "outputs": [
    {
     "name": "stdout",
     "output_type": "stream",
     "text": [
      "1000 loops, best of 3: 1.17 ms per loop\n"
     ]
    }
   ],
   "source": [
    "%timeit project_qr(X, y)"
   ]
  },
  {
   "cell_type": "markdown",
   "metadata": {},
   "source": [
    "It turns out the inverse method is the fastest, though because of its need to take an inverse it is the least numerically stable."
   ]
  },
  {
   "cell_type": "code",
   "execution_count": null,
   "metadata": {
    "collapsed": true
   },
   "outputs": [],
   "source": []
  }
 ],
 "metadata": {
  "kernelspec": {
   "display_name": "Python 3",
   "language": "python",
   "name": "python3"
  },
  "language_info": {
   "codemirror_mode": {
    "name": "ipython",
    "version": 3
   },
   "file_extension": ".py",
   "mimetype": "text/x-python",
   "name": "python",
   "nbconvert_exporter": "python",
   "pygments_lexer": "ipython3",
   "version": "3.5.1"
  }
 },
 "nbformat": 4,
 "nbformat_minor": 0
}
