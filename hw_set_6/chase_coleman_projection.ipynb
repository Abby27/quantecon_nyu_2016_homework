{
 "cells": [
  {
   "cell_type": "markdown",
   "metadata": {},
   "source": [
    "# Homework 6 Projection\n",
    "\n",
    "**Author**: Chase Coleman\n",
    "\n",
    "**NYUID**: N10879183\n",
    "\n",
    "**Date**: 19 March 2016"
   ]
  },
  {
   "cell_type": "markdown",
   "metadata": {},
   "source": [
    "## Exercise 7:\n",
    "\n",
    "In this exercise, your job is to project $y$ onto the column space of $X$ in three different ways.\n",
    "\n",
    "First, use the ordinary expression for the projection. That is\n",
    "\n",
    "$$Py = X(X'X)^{-1} X'y$$\n",
    "\n",
    "Next, implement your own version of Gram-Schmidt, based on the algorithm given in the lecture. Use it to convert $X$ to $U$, a matrix with orthonormal columns and the same column space as $X$. Now calculate the projection as \n",
    "\n",
    "$$Py = UU'y$$\n",
    "\n",
    "Finally, use the same expression\n",
    "$$Py = UU'y$$\n",
    "but this time obtain $U$ from the QR decomposition routine in either SciPy or Julia.\n",
    "\n",
    "Test your code with \n",
    "\n",
    "$$y = \\begin{pmatrix} 1 \\\\ 3 \\\\ -3 \\end{pmatrix}$$\n",
    "\n",
    "and\n",
    "\n",
    "$$X = \\begin{pmatrix} 1 & 0 \\\\ 0 & -6 \\\\ 2 & 2 \\end{pmatrix}$$\n",
    "\n",
    "You should get the same vector for the projection in each case. Submit this exercise in a separate notebook, with file name `firstname_lastname_projection.ipynb`."
   ]
  },
  {
   "cell_type": "markdown",
   "metadata": {},
   "source": [
    "## Solution"
   ]
  },
  {
   "cell_type": "code",
   "execution_count": 2,
   "metadata": {
    "collapsed": false
   },
   "outputs": [],
   "source": [
    "import matplotlib.pyplot as plt\n",
    "import numpy as np\n",
    "import scipy.linalg as la\n",
    "\n",
    "%matplotlib inline\n",
    "np.set_printoptions(precision=4, suppress=True)"
   ]
  },
  {
   "cell_type": "markdown",
   "metadata": {},
   "source": [
    "### Compute Expression Directly\n",
    "\n",
    "In the function below, we will compute the projection as naively as possible including the use of a numerical inverse."
   ]
  },
  {
   "cell_type": "code",
   "execution_count": null,
   "metadata": {
    "collapsed": true
   },
   "outputs": [],
   "source": [
    "def project_inv(X, y):\n",
    "    \"\"\"\n",
    "    Maps a vector y into column space of X\n",
    "    \n",
    "    Parameters\n",
    "    ----------\n",
    "    X : Arraylike(Float64, ndim=2)\n",
    "        Projecting onto span(X)\n",
    "    y : Arraylike(Float64, ndim=1)\n",
    "        Want to projecting this vector into span(X)\n",
    "    \n",
    "    Returns\n",
    "    -------\n",
    "    yhat : Arraylike(Float64, ndim=1)\n",
    "        Projection of y onto span(X)\n",
    "        \n",
    "    Note: Uses a matrix inverse.\n",
    "    \"\"\"\n",
    "    P = X@la.inv(X.T@X)@X.T"
   ]
  }
 ],
 "metadata": {
  "kernelspec": {
   "display_name": "Python 3",
   "language": "python",
   "name": "python3"
  },
  "language_info": {
   "codemirror_mode": {
    "name": "ipython",
    "version": 3
   },
   "file_extension": ".py",
   "mimetype": "text/x-python",
   "name": "python",
   "nbconvert_exporter": "python",
   "pygments_lexer": "ipython3",
   "version": "3.5.1"
  }
 },
 "nbformat": 4,
 "nbformat_minor": 0
}
