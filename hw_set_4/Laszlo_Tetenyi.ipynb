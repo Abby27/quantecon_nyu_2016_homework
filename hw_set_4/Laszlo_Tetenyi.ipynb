{
 "cells": [
  {
   "cell_type": "markdown",
   "metadata": {},
   "source": [
    "## Homework 4\n",
    "\n",
    "Laszlo Tetenyi"
   ]
  },
  {
   "cell_type": "code",
   "execution_count": 1,
   "metadata": {
    "collapsed": false
   },
   "outputs": [],
   "source": [
    "#Packages\n",
    "%matplotlib inline \n",
    "import numpy as np\n",
    "from numba import jit\n",
    "import matplotlib.pyplot as plt"
   ]
  },
  {
   "cell_type": "code",
   "execution_count": 2,
   "metadata": {
    "collapsed": false
   },
   "outputs": [],
   "source": [
    "# Initialization - needed for the plots\n",
    "n_max=500 #The maximum number of length of x_t\n",
    "n_break=10 # Breakpoints for simulation and estimation"
   ]
  },
  {
   "cell_type": "code",
   "execution_count": 3,
   "metadata": {
    "collapsed": false
   },
   "outputs": [],
   "source": [
    "#Attempt 1 - avoid matrix inversion\n",
    "def AR1bias(alpha):\n",
    "    #Initialization\n",
    "    sigma=1.0\n",
    "    mu=0.0\n",
    "    beta=0.0\n",
    "    simusize=10000\n",
    "    # Draw the shocks and fix them for n_max\n",
    "    Eps=sigma*np.random.standard_normal((simusize,n_max))+mu\n",
    "    X=np.empty((simusize,n_max+1))\n",
    "    # Fill the first row with the stationary X\n",
    "    X[:,0]=np.ones((simusize)) * (beta/(1-alpha))\n",
    "    #Instead of doing OLS after getting the data, better to use summing in the for-loop as we can vectorize\n",
    "    x_mean=np.empty((n_break,simusize))\n",
    "    x_prevmean=np.empty((n_break,simusize))\n",
    "    x_cov=np.empty((n_break,simusize))\n",
    "    x_var=np.empty((n_break,simusize))\n",
    "    alpha_simu=np.empty((n_break,simusize))\n",
    "    alpha_avg=np.empty((n_break,1))\n",
    "    for i in range(n_max):\n",
    "        X[:,i+1]=alpha*X[:,i] + beta + Eps[:,i]\n",
    "        #if (i % (n_max/n_break) ==(n_max/n_break-1)): # the for loop is faster - this might depend on n_break\n",
    "            #t=int((i-(n_max/n_break-1))/((n_max/n_break)))\n",
    "            #x_mean[t,:]=np.mean(X[:,1:(i+1)],1)\n",
    "            #x_prevmean[t,:] =np.mean(X[:,0:i],1)\n",
    "            #x_cov[t,:]=np.sum(np.multiply((X[:,1:(i+1)].transpose()-x_mean[t,:].transpose()).transpose(),(X[:,0:(i)].transpose()-x_prevmean[t,:].transpose()).transpose()),1)\n",
    "            #x_var[t,:]=np.sum(np.multiply((X[:,0:(i)].transpose()-x_prevmean[t,:].transpose()).transpose(),(X[:,0:(i)].transpose()-x_prevmean[t,:].transpose()).transpose()),1)\n",
    "            #alpha_simu[t,:] = np.multiply(x_cov[t,:], 1/x_var[t,:])\n",
    "            #alpha_avg[t]= np.mean(alpha_simu[t,:])\n",
    "    for t in range(n_break):\n",
    "        i=t*(50)+50\n",
    "        x_mean[t,:]=np.mean(X[:,1:(i+1)],1)\n",
    "        x_prevmean[t,:] =np.mean(X[:,0:i],1)\n",
    "        x_cov[t,:]=np.sum(np.multiply((X[:,1:(i+1)].transpose()-x_mean[t,:].transpose()).transpose(),(X[:,0:(i)].transpose()-x_prevmean[t,:].transpose()).transpose()),1)\n",
    "        x_var[t,:]=np.sum(np.multiply((X[:,0:(i)].transpose()-x_prevmean[t,:].transpose()).transpose(),(X[:,0:(i)].transpose()-x_prevmean[t,:].transpose()).transpose()),1)\n",
    "        alpha_simu[t,:] = np.multiply(x_cov[t,:], 1/x_var[t,:])\n",
    "        alpha_avg[t]= np.mean(alpha_simu[t,:])\n",
    "    return alpha_avg-alpha"
   ]
  },
  {
   "cell_type": "code",
   "execution_count": 4,
   "metadata": {
    "collapsed": false
   },
   "outputs": [
    {
     "name": "stdout",
     "output_type": "stream",
     "text": [
      "1 loops, best of 3: 3.56 s per loop\n"
     ]
    }
   ],
   "source": [
    "timeit AR1bias(0.5)"
   ]
  },
  {
   "cell_type": "code",
   "execution_count": 5,
   "metadata": {
    "collapsed": false
   },
   "outputs": [],
   "source": [
    "AR1bias_numba=jit(AR1bias)"
   ]
  },
  {
   "cell_type": "code",
   "execution_count": 6,
   "metadata": {
    "collapsed": false
   },
   "outputs": [
    {
     "name": "stdout",
     "output_type": "stream",
     "text": [
      "The slowest run took 5.22 times longer than the fastest. This could mean that an intermediate result is being cached \n",
      "1 loops, best of 3: 2.7 s per loop\n"
     ]
    }
   ],
   "source": [
    "timeit AR1bias_numba(0.5) # Jitting doesnt help - cython? I am using numpy too much"
   ]
  },
  {
   "cell_type": "code",
   "execution_count": 7,
   "metadata": {
    "collapsed": false
   },
   "outputs": [
    {
     "data": {
      "image/png": "[encoded data removed]",
      "text/plain": [
       "<matplotlib.figure.Figure at 0x7ff52241bcf8>"
      ]
     },
     "metadata": {},
     "output_type": "display_data"
    }
   ],
   "source": [
    "alpha_grid=np.linspace(0.5,0.9,5)\n",
    "n_grid=np.linspace(n_max/n_break,n_max,n_break)\n",
    "for i in range(alpha_grid.size):\n",
    "    #string= 'alpha= %s' %alpha_grid[i]\n",
    "    plot=plt.plot(n_grid,AR1bias(alpha_grid[i]),label=r'$\\alpha= %s$' %alpha_grid[i])\n",
    "    plt.legend(loc=4)\n",
    "    #plt.legend(plot,r'$\\alpha=$')\n",
    "plt.xlabel('Sample size')\n",
    "plt.ylabel('Bias')\n",
    "plt.title('Downward bias of OLS in AR(1)', fontsize=20)\n",
    "plt.show()\n",
    "#Bias increases with the AR coefficient"
   ]
  },
  {
   "cell_type": "code",
   "execution_count": 8,
   "metadata": {
    "collapsed": false
   },
   "outputs": [],
   "source": [
    "#Attempt 2 - avoid summing\n",
    "def AR1bias_reg(alpha):\n",
    "    #Initialization\n",
    "    sigma=1.0\n",
    "    mu=0.0\n",
    "    beta=0.0\n",
    "    simusize=1000\n",
    "    from scipy.stats import linregress\n",
    "    # Draw the shocks and fix them for n_max\n",
    "    Eps=sigma*np.random.standard_normal((simusize,n_max))+mu\n",
    "    X=np.empty((simusize,n_max+1))\n",
    "    # Fill the first row with the stationary X\n",
    "    X[:,0]=np.ones((simusize)) * (beta/(1-alpha))\n",
    "    alpha_simu=np.empty((n_break,simusize))\n",
    "    alpha_avg=np.empty((n_break,1))\n",
    "    for i in range(n_max):\n",
    "        X[:,i+1]=alpha*X[:,i] + beta + Eps[:,i]\n",
    "        if (i % (n_max/n_break) ==(n_max/n_break-1)):\n",
    "            t=int((i-(n_max/n_break-1))/((n_max/n_break)))\n",
    "            for j in range(simusize):\n",
    "                slope, intercept, r_value, p_value, std_err = linregress(X[j,0:i],X[j,1:(i+1)])\n",
    "                alpha_simu[t,j] = slope\n",
    "            alpha_avg[t]= np.mean(alpha_simu[t,:])\n",
    "    return alpha_avg-alpha"
   ]
  },
  {
   "cell_type": "code",
   "execution_count": 9,
   "metadata": {
    "collapsed": false
   },
   "outputs": [
    {
     "name": "stdout",
     "output_type": "stream",
     "text": [
      "1 loops, best of 3: 22 s per loop\n"
     ]
    }
   ],
   "source": [
    "timeit AR1bias_reg(0.5) # It is superslow for even 1000 simulations - attempt 1 is faster"
   ]
  },
  {
   "cell_type": "code",
   "execution_count": null,
   "metadata": {
    "collapsed": false
   },
   "outputs": [],
   "source": []
  },
  {
   "cell_type": "code",
   "execution_count": null,
   "metadata": {
    "collapsed": false
   },
   "outputs": [],
   "source": []
  },
  {
   "cell_type": "code",
   "execution_count": null,
   "metadata": {
    "collapsed": true
   },
   "outputs": [],
   "source": []
  },
  {
   "cell_type": "code",
   "execution_count": null,
   "metadata": {
    "collapsed": true
   },
   "outputs": [],
   "source": []
  },
  {
   "cell_type": "code",
   "execution_count": null,
   "metadata": {
    "collapsed": true
   },
   "outputs": [],
   "source": []
  }
 ],
 "metadata": {
  "kernelspec": {
   "display_name": "Python 3",
   "language": "python",
   "name": "python3"
  },
  "language_info": {
   "codemirror_mode": {
    "name": "ipython",
    "version": 3
   },
   "file_extension": ".py",
   "mimetype": "text/x-python",
   "name": "python",
   "nbconvert_exporter": "python",
   "pygments_lexer": "ipython3",
   "version": "3.5.1"
  }
 },
 "nbformat": 4,
 "nbformat_minor": 0
}
