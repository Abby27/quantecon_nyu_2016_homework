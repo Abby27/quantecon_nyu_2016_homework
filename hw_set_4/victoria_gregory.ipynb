{
 "cells": [
  {
   "cell_type": "markdown",
   "metadata": {},
   "source": [
    "## Problem Set 4: Bias of an AR(1) Process\n",
    "\n",
    "Victoria Gregory, N14207660\n",
    "\n",
    "3/2/2016\n",
    "\n",
    "*Plots the bias of an AR(1) process for a given set of coefficients and sample sizes.*"
   ]
  },
  {
   "cell_type": "markdown",
   "metadata": {},
   "source": [
    "First, I'm going to import all the packages I'll need."
   ]
  },
  {
   "cell_type": "code",
   "execution_count": 12,
   "metadata": {
    "collapsed": true
   },
   "outputs": [],
   "source": [
    "import numpy as np\n",
    "from numpy.linalg import inv\n",
    "from numba import jit\n",
    "import timeit\n",
    "import matplotlib.pyplot as plt\n",
    "%matplotlib inline"
   ]
  },
  {
   "cell_type": "markdown",
   "metadata": {},
   "source": [
    "Below, I'm writing a function that will draw an AR(1) process with the given parameters and sample size."
   ]
  },
  {
   "cell_type": "code",
   "execution_count": 28,
   "metadata": {
    "collapsed": true
   },
   "outputs": [],
   "source": [
    "@jit\n",
    "def AR1_sim(alpha,beta,n,randomvec):\n",
    "    x = np.empty(n)\n",
    "    x[0] = beta/(1-alpha)\n",
    "    for i in range(1,n):\n",
    "        x[i] = beta + alpha*x[i-1] + randomvec[i-1]\n",
    "    return x"
   ]
  },
  {
   "cell_type": "markdown",
   "metadata": {},
   "source": [
    "The function below simply computes a mean of a vector. I wrote this myself because I'll be computing the sample mean to run the regressions in the next function, and it's faster than doing `np.mean`."
   ]
  },
  {
   "cell_type": "code",
   "execution_count": 41,
   "metadata": {
    "collapsed": true
   },
   "outputs": [],
   "source": [
    "@jit\n",
    "def my_mean(vec):\n",
    "    mysum = 0\n",
    "    for i in range(0,np.size(vec)):\n",
    "        mysum = vec[i] + mysum\n",
    "    m = mysum/np.size(vec)\n",
    "    return m"
   ]
  },
  {
   "cell_type": "markdown",
   "metadata": {},
   "source": [
    "The next function will find the bias of an AR(1). It calls `AR1_sim` `Nsim` times, estimates the parameters of the process, and computes the bias as $\\mathbb{E}[\\hat{\\alpha}] - \\alpha$. To estimate $\\alpha$, I used a running sum to compute variances and covariances, because `jit` is designed to speed these up."
   ]
  },
  {
   "cell_type": "code",
   "execution_count": 55,
   "metadata": {
    "collapsed": true
   },
   "outputs": [],
   "source": [
    "@jit\n",
    "def bias_AR1(alpha,beta,n,Nsim):\n",
    "    estimates = np.empty(Nsim)\n",
    "    randommat = np.random.randn(n,Nsim)\n",
    "    for b in range(0,Nsim):\n",
    "        randomvec = randommat[:,b]\n",
    "        AR1 = AR1_sim(alpha,beta,n,randomvec)\n",
    "        covsum = 0\n",
    "        varsum = 0\n",
    "        ARmean = my_mean(AR1)\n",
    "        for t in range(0,n-1):\n",
    "            covterm = (AR1[t] - ARmean)*(AR1[t+1] - ARmean)\n",
    "            varterm = (AR1[t] - ARmean)**2\n",
    "            covsum = covterm + covsum\n",
    "            varsum = varterm + varsum\n",
    "        estimates[b] = covsum/varsum\n",
    "    bias = np.mean(estimates) - alpha\n",
    "    return bias"
   ]
  },
  {
   "cell_type": "markdown",
   "metadata": {},
   "source": [
    "Now I'm setting up vectors for the $\\alpha$ values and sample sizes I want to evaluate the bias for."
   ]
  },
  {
   "cell_type": "code",
   "execution_count": 43,
   "metadata": {
    "collapsed": true
   },
   "outputs": [],
   "source": [
    "alphas = [0.5, 0.6, 0.7, 0.8, 0.9]\n",
    "ns = np.linspace(50,500,10)\n",
    "Nsim = 10000\n",
    "biases = np.empty([len(alphas),np.size(ns)]) "
   ]
  },
  {
   "cell_type": "markdown",
   "metadata": {},
   "source": [
    "For each one of these, I'm calling `bias_AR1` and saving the output for plotting later. This takes a little bit under 3 minutes to run."
   ]
  },
  {
   "cell_type": "code",
   "execution_count": 53,
   "metadata": {
    "collapsed": false
   },
   "outputs": [
    {
     "name": "stdout",
     "output_type": "stream",
     "text": [
      "166.52538680699945\n"
     ]
    }
   ],
   "source": [
    "start_time = timeit.default_timer()\n",
    "for n in range(0,np.size(ns)):\n",
    "    for a in range(0,len(alphas)): \n",
    "        biases[a,n] = bias_AR1(alphas[a],1,int(ns[n]),Nsim)\n",
    "elapsed = timeit.default_timer() - start_time\n",
    "print(elapsed)"
   ]
  },
  {
   "cell_type": "code",
   "execution_count": 52,
   "metadata": {
    "collapsed": false,
    "scrolled": true
   },
   "outputs": [
    {
     "data": {
      "image/png": "[encoded data removed]",
      "text/plain": [
       "<matplotlib.figure.Figure at 0x7f43be426cf8>"
      ]
     },
     "metadata": {},
     "output_type": "display_data"
    }
   ],
   "source": [
    "fig, ax = plt.subplots()\n",
    "for a in range(0,len(alphas)):\n",
    "    current_label = r'$\\alpha = {0:.1f}$'.format(alphas[a])\n",
    "    ax.plot(ns, biases[a,:], linewidth=2, label=current_label)\n",
    "ax.legend(loc='lower right')\n",
    "ax.set_xlabel('sample size')\n",
    "ax.set_ylabel('bias')\n",
    "plt.show()"
   ]
  },
  {
   "cell_type": "markdown",
   "metadata": {},
   "source": [
    "The bias is more pronounced for smaller sample sizes and larger $\\alpha$'s."
   ]
  }
 ],
 "metadata": {
  "kernelspec": {
   "display_name": "Python 3",
   "language": "python",
   "name": "python3"
  },
  "language_info": {
   "codemirror_mode": {
    "name": "ipython",
    "version": 3
   },
   "file_extension": ".py",
   "mimetype": "text/x-python",
   "name": "python",
   "nbconvert_exporter": "python",
   "pygments_lexer": "ipython3",
   "version": "3.5.1"
  }
 },
 "nbformat": 4,
 "nbformat_minor": 0
}
