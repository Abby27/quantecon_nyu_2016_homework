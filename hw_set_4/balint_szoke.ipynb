{
 "cells": [
  {
   "cell_type": "markdown",
   "metadata": {},
   "source": [
    "-------------------------------------------------------------------\n",
    "# Homework set 4 - solution\n",
    "\n",
    " * **Author**: Balint Szoke\n",
    " * **UniID**: bs2574\n",
    "\n",
    "> This notebook shows downward bias in the OLS estimate of the correlation \n",
    "coefficient in an AR(1) regression. In addition, it demonstrates the power of `numba` in making loops run faster\n",
    "\n",
    "-------------------------------------------------------------------\n"
   ]
  },
  {
   "cell_type": "code",
   "execution_count": 31,
   "metadata": {
    "collapsed": false
   },
   "outputs": [],
   "source": [
    "%matplotlib inline\n",
    "import numpy as np\n",
    "import scipy as sp\n",
    "import seaborn as sb\n",
    "import scipy.stats as stats\n",
    "import matplotlib.pyplot as plt\n",
    "from numba import jit"
   ]
  },
  {
   "cell_type": "markdown",
   "metadata": {},
   "source": [
    "## (1) Downward bias in the OLS estimate of the correlation coefficient in AR(1)\n",
    "\n",
    "Consider the simple AR(1) process\n",
    "\n",
    "$$X_{t+1} = \\beta + \\alpha X_{t} + \\sigma W_{t+1}\\hspace{1cm}W_{t+1}\\sim\\mathcal{N}(0,1)$$\n",
    "\n",
    "and use OLS to estimate the parameter $\\alpha$ from a given sample size $N$"
   ]
  },
  {
   "cell_type": "markdown",
   "metadata": {},
   "source": [
    "In order to calculate the bias, we have to simulate a lot. Becuase this part is the slowest, it makes sense to write a separate function for this task that we can later pass on to numba. "
   ]
  },
  {
   "cell_type": "code",
   "execution_count": 32,
   "metadata": {
    "collapsed": true
   },
   "outputs": [],
   "source": [
    "def sample_path(alpha, beta, sigma, N, x0=None):\n",
    "    '''\n",
    "    Simulates the sample path for X of length N+1 starting from a specified initial value OR if x0 \n",
    "    is None, it initializes the path with a draw from the stationary distribution of X. \n",
    "    \n",
    "    Arguments\n",
    "    -----------------\n",
    "        alpha (Float) : slope coefficient \n",
    "        beta (Float)  : intercept term\n",
    "        sigma (Float) : standard deviation of the error\n",
    "        N (Int)       : length of the sample path without x0\n",
    "        x0 (Float)    : initial value of X\n",
    "    \n",
    "    Return:\n",
    "    -----------------\n",
    "        x_path (Numpy Array) : simulated path\n",
    "        \n",
    "    '''\n",
    "    if x0 == None:\n",
    "        # Draw the initial value from the stationary distribution\n",
    "        mean_erg = beta / (1 - alpha)\n",
    "        stdev_erg = sigma/np.sqrt(1-alpha**2) \n",
    "        x0 = np.random.normal(mean_erg, stdev_erg)\n",
    "    \n",
    "    # Memory:\n",
    "    x_path = np.empty(N+1)\n",
    "    x_path[0] = x0\n",
    "    w_path = np.random.normal(0, 1, N)\n",
    "    \n",
    "    for t in range(N):\n",
    "        x_path[t + 1] = beta + alpha*x_path[t] + sigma*w_path[t]\n",
    "    \n",
    "    return x_path "
   ]
  },
  {
   "cell_type": "markdown",
   "metadata": {},
   "source": [
    "As an OLS estimator I use the built-in function `linregress` (part of `scipy.stats`):"
   ]
  },
  {
   "cell_type": "code",
   "execution_count": 33,
   "metadata": {
    "collapsed": true
   },
   "outputs": [],
   "source": [
    "def ols_estimate(x_path):\n",
    "    '''\n",
    "    This function takes the sample path for X and calculates the OLS estimate for the correlation coefficient\n",
    "    for the AR(1) model. It requires scipy.stats \n",
    "    '''\n",
    "    # Define the left (y=X_{t+1})  and right hand side variables (x = X_t) \n",
    "    y, x = x_path[1:], x_path[:-1]\n",
    "    \n",
    "    # Fit the model \n",
    "    alpha_hat, beta_hat, R2, p, se = stats.linregress(x, y)\n",
    "    \n",
    "    return alpha_hat"
   ]
  },
  {
   "cell_type": "markdown",
   "metadata": {},
   "source": [
    "Approximate the bias, which is defined as\n",
    "\n",
    "$$ \\mathbb{E}[\\hat{\\alpha}_N] - \\alpha$$\n",
    "\n",
    "where $\\hat{\\alpha}_N$ denotes the OLS estimate for the autoregressive coefficient for a sample size $N$. Downward bias means $ \\mathbb{E}[\\hat{\\alpha}_N] < \\alpha$, i.e. we expect this number to be negative."
   ]
  },
  {
   "cell_type": "code",
   "execution_count": 34,
   "metadata": {
    "collapsed": true
   },
   "outputs": [],
   "source": [
    "def bias(M, alpha, beta, sigma, N):\n",
    "    '''\n",
    "    This function approximates the bias by drawing M simulations \n",
    "    for a given set of parameters (alpha, beta, sigma) and for a given sample size N\n",
    "    It is meant to be fast (even without numba)\n",
    "    '''\n",
    "    \n",
    "    alpha_hats = np.asarray([ ols_estimate(sample_path(alpha, beta, sigma, N)) for i in range(M) ])\n",
    "    \n",
    "    return alpha_hats.mean() - alpha "
   ]
  },
  {
   "cell_type": "markdown",
   "metadata": {},
   "source": [
    "Let's study how fast are these so far"
   ]
  },
  {
   "cell_type": "code",
   "execution_count": 40,
   "metadata": {
    "collapsed": false
   },
   "outputs": [
    {
     "name": "stdout",
     "output_type": "stream",
     "text": [
      "The slowest run took 5.36 times longer than the fastest. This could mean that an intermediate result is being cached.\n",
      "1000 loops, best of 3: 265 µs per loop\n",
      "10000 loops, best of 3: 148 µs per loop\n",
      "1 loop, best of 3: 9.48 s per loop\n"
     ]
    }
   ],
   "source": [
    "N, M = 500, 20000                # largest sample size and a relatively large number to get good approx\n",
    "xx = sample_path(.5, 1., 1., N)  # sample path to test ols_estimate \n",
    "\n",
    "sp_won = %timeit -o sample_path(.5, 1., 1., N)\n",
    "ols_won = %timeit -o ols_estimate(xx)\n",
    "bias_won = %timeit -o bias(M, .5, 1., 1., N)"
   ]
  },
  {
   "cell_type": "markdown",
   "metadata": {},
   "source": [
    "## (2) Use `numba` to make things faster"
   ]
  },
  {
   "cell_type": "markdown",
   "metadata": {},
   "source": [
    "Let's make some magic with a few lines"
   ]
  },
  {
   "cell_type": "code",
   "execution_count": 41,
   "metadata": {
    "collapsed": false
   },
   "outputs": [],
   "source": [
    "sample_path_numba = jit(sample_path)\n",
    "ols_estimate_numba = jit(ols_estimate)    # I would be REALLY surprised if numba could speed this up\n",
    "\n",
    "@jit\n",
    "def bias_numba(M, alpha, beta, sigma, N):\n",
    "    summ = np.zeros(M)\n",
    "    for i in range(M):\n",
    "        summ[i] = ols_estimate_numba(sample_path_numba(alpha, beta, sigma, N))\n",
    "    alpha_hats = np.asarray(summ)\n",
    "    \n",
    "    return alpha_hats[1:].mean() - alpha "
   ]
  },
  {
   "cell_type": "code",
   "execution_count": 42,
   "metadata": {
    "collapsed": false
   },
   "outputs": [
    {
     "name": "stdout",
     "output_type": "stream",
     "text": [
      "The slowest run took 7595.39 times longer than the fastest. This could mean that an intermediate result is being cached.\n",
      "1 loop, best of 3: 33.3 µs per loop\n",
      "The slowest run took 517.20 times longer than the fastest. This could mean that an intermediate result is being cached.\n",
      "10000 loops, best of 3: 152 µs per loop\n",
      "1 loop, best of 3: 4.21 s per loop\n"
     ]
    }
   ],
   "source": [
    "sp_wn = %timeit -o sample_path_numba(.5, 1., 1., N)\n",
    "ols_wn = %timeit -o ols_estimate_numba(xx)\n",
    "bias_wn = %timeit -o bias_numba(M, .5, 1., 1., N)"
   ]
  },
  {
   "cell_type": "code",
   "execution_count": 43,
   "metadata": {
    "collapsed": false
   },
   "outputs": [
    {
     "name": "stdout",
     "output_type": "stream",
     "text": [
      "Comparison    |  No numba  |  numba    | Relative\n",
      "-------------------------------------------------\n",
      "sample_path   |  0.265 ms  | 0.033 ms  |   8.0\n",
      "ols_estimate  |  0.148 ms  | 0.152 ms  |   1.0\n",
      "bias          |  9.484  s  | 4.210  s  |   2.3\n"
     ]
    }
   ],
   "source": [
    "print('{0:13s} |  {1:7s}  | {2:7s}   | {3:7s}'.format(\"Comparison\", \"No numba\", \" numba\", \"Relative\"))\n",
    "print('-------------------------------------------------')\n",
    "print('{0:13s} |  {1:1.3f} ms  | {2:1.3f} ms  |   {3:2.1f}'.format(\"sample_path\", 1e3*sp_won.best, 1e3*sp_wn.best,\\\n",
    "                                                              sp_won.best/sp_wn.best))\n",
    "print('{0:13s} |  {1:1.3f} ms  | {2:1.3f} ms  |   {3:2.1f}'.format(\"ols_estimate\", 1e3*ols_won.best, 1e3*ols_wn.best,\\\n",
    "                                                              ols_won.best/ols_wn.best))\n",
    "print('{0:13s} |  {1:2.3f}  s  | {2:2.3f}  s  |   {3:2.1f}'.format(\"bias\", bias_won.best, bias_wn.best,\\\n",
    "                                                              bias_won.best/bias_wn.best ))"
   ]
  },
  {
   "cell_type": "markdown",
   "metadata": {},
   "source": [
    "## (3) Learning about the bias"
   ]
  },
  {
   "cell_type": "markdown",
   "metadata": {},
   "source": [
    "Investigate the properties of the estimator by plotting the bias for different sample sizes and different (true) `alpha` values."
   ]
  },
  {
   "cell_type": "code",
   "execution_count": 39,
   "metadata": {
    "collapsed": false
   },
   "outputs": [
    {
     "data": {
      "image/png": "[encoded data removed]",
      "text/plain": [
       "<matplotlib.figure.Figure at 0x7f991df11588>"
      ]
     },
     "metadata": {},
     "output_type": "display_data"
    }
   ],
   "source": [
    "alphas = [.5, .6, .7, .8, .9]                 # possible alphas\n",
    "sample_sizes = np.arange(50, 550, 50)     # possible sample sizes\n",
    "\n",
    "fig, ax = plt.subplots( figsize = (12, 7))\n",
    "for a in alphas:    \n",
    "    ax.plot(sample_sizes, [bias_numba(M, a, 1., 1., N) for N in sample_sizes], label = r'$\\alpha = {:1.1f}$'.format(a))\n",
    "ax.legend(loc='best', fontsize = 16)\n",
    "ax.set_ylabel('bias', fontsize = 16)\n",
    "ax.set_xlabel('sample size', fontsize = 16)\n",
    "plt.show()"
   ]
  },
  {
   "cell_type": "markdown",
   "metadata": {},
   "source": [
    "**Main lessons:**\n",
    "\n",
    "- Not surprisingly, the approximate bias decreases with the sample size for any given $\\alpha$, because the OLS estimator is consistent, hence the LLN must kick in (sooner or later). \n",
    "\n",
    "- On top of this, we can see that for any given sample size $N$, the (absolute value of) approximate bias increases as the true value of $\\alpha$ is getting closer to $1$. Essentially, in the formula for the OLS estimator $\\alpha$ multipies the covariance between $X_t$ and $W_{t+1}$ and this covariance is non-zero in the AR(1) model (this is exactly where the bias comes from).   \n"
   ]
  }
 ],
 "metadata": {
  "kernelspec": {
   "display_name": "Python 3",
   "language": "python",
   "name": "python3"
  },
  "language_info": {
   "codemirror_mode": {
    "name": "ipython",
    "version": 3
   },
   "file_extension": ".py",
   "mimetype": "text/x-python",
   "name": "python",
   "nbconvert_exporter": "python",
   "pygments_lexer": "ipython3",
   "version": "3.5.0"
  }
 },
 "nbformat": 4,
 "nbformat_minor": 0
}
