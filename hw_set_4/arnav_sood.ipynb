{
 "cells": [
  {
   "cell_type": "code",
   "execution_count": 7,
   "metadata": {
    "collapsed": true
   },
   "outputs": [],
   "source": [
    "# Vanilla Python version. Before optimizing, get a vanilla code set in Python.\n",
    "\n",
    "# The optimization path will probably look something like this:\n",
    "'''\n",
    "    - Write vanilla Python code.\n",
    "            - Wall Time: 2m41s\n",
    "    - Make easy Python improvements (e.g, @jit, numbafy)\n",
    "            - @jit: Wall Time: 17.9s\n",
    "            - @jit on Mac (no VM): 11.3s\n",
    "            - add numpy: 2s?\n",
    "            - remove print: like 5s?\n",
    "    - Make harder Python improvements (not sure what they are a priori)\n",
    "    - Write code in C if it makes sense\n",
    "    - Figure out what PEP8 is, and make sure I'm using it\n",
    "'''\n",
    "\n",
    "# Throw in numba jit compile.\n",
    "from numba import jit\n",
    "\n",
    "# Add more numpy stuff.\n",
    "import numpy as np\n",
    "\n",
    "# Setup variables.\n",
    "alphas = np.arange(0.5,1,0.1)\n",
    "ns = np.arange(50,550,50)\n",
    "\n",
    "# Define a function to take an (alpha, n, beta) tuple, and return the bias for the estimate.\n",
    "\n",
    "# Store this as a lambda function so it can compile the operation once. (?)\n",
    "estimate = lambda sumx, sumy, sumxsq, sumxy, n : (sumxy - (n-1)*(sumx/(n-1))*(sumy/(n-1)))/(sumxsq - (n-1)*math.pow((sumx/(n-1)),2));\n",
    "\n",
    "@jit\n",
    "def bias(alpha, n, beta):\n",
    "        sumx = 0\n",
    "        sumy = 0\n",
    "        sumxy = 0\n",
    "        sumxsq = 0\n",
    "        x = rand()*100\n",
    "        for i in range(n):\n",
    "            sumx += x\n",
    "            sumxsq += math.pow(x,2)\n",
    "            y = beta + alpha*x + rand()\n",
    "            sumxy += x*y\n",
    "            sumy += y\n",
    "            x = y\n",
    "        val = estimate(sumx, sumy, sumxsq, sumxy, n) - alpha\n",
    "        return val\n",
    "\n",
    "# Define a function to take an (alpha, n, beta) tuple, estimate 10,000 times, and then average to get the expected bias.\n",
    "from numpy.random import normal as rand\n",
    "import math\n",
    "\n",
    "@jit\n",
    "def calcbias(alpha, n, beta):\n",
    "    biases = np.zeros(10000)\n",
    "    for i in range(10000):\n",
    "        biases[i] = bias(alpha,n,beta)\n",
    "    avg = np.mean(biases)\n",
    "    return avg\n",
    "\n",
    "# Define a function to call the above on the right sets of params, and return the biases.\n",
    "@jit\n",
    "def main():\n",
    "    results = np.zeros(50)\n",
    "    for i in range(5):\n",
    "        for j in range(10):\n",
    "            results[10*i+j] = calcbias(alphas[i],ns[j],1)\n",
    "    return results\n",
    "    print(results)"
   ]
  },
  {
   "cell_type": "code",
   "execution_count": 8,
   "metadata": {
    "collapsed": false
   },
   "outputs": [
    {
     "name": "stdout",
     "output_type": "stream",
     "text": [
      "CPU times: user 11.5 s, sys: 54.8 ms, total: 11.5 s\n",
      "Wall time: 11.6 s\n"
     ]
    },
    {
     "data": {
      "text/plain": [
       "array([-0.00786783, -0.00505544, -0.0039289 , -0.0036889 , -0.00292907,\n",
       "       -0.00212471, -0.00231391, -0.00216181, -0.00214432, -0.00173809,\n",
       "       -0.00878167, -0.0054512 , -0.00422871, -0.00331306, -0.00340195,\n",
       "       -0.00306514, -0.00210149, -0.00235711, -0.0023369 , -0.0019553 ,\n",
       "       -0.01028647, -0.00637818, -0.00500796, -0.00405891, -0.00316635,\n",
       "       -0.00338665, -0.00317961, -0.00267724, -0.00244083, -0.00202057,\n",
       "       -0.01437032, -0.00775237, -0.00525223, -0.00445739, -0.00386865,\n",
       "       -0.00330584, -0.0030391 , -0.00298755, -0.00278921, -0.00267807,\n",
       "       -0.06853   , -0.01269166, -0.00680428, -0.00559531, -0.00442615,\n",
       "       -0.00416332, -0.00360956, -0.00330238, -0.00285154, -0.00307589])"
      ]
     },
     "execution_count": 8,
     "metadata": {},
     "output_type": "execute_result"
    }
   ],
   "source": [
    "%time main()"
   ]
  },
  {
   "cell_type": "code",
   "execution_count": null,
   "metadata": {
    "collapsed": true
   },
   "outputs": [],
   "source": []
  }
 ],
 "metadata": {
  "kernelspec": {
   "display_name": "Python 3",
   "language": "python",
   "name": "python3"
  },
  "language_info": {
   "codemirror_mode": {
    "name": "ipython",
    "version": 3
   },
   "file_extension": ".py",
   "mimetype": "text/x-python",
   "name": "python",
   "nbconvert_exporter": "python",
   "pygments_lexer": "ipython3",
   "version": "3.5.1"
  }
 },
 "nbformat": 4,
 "nbformat_minor": 0
}
