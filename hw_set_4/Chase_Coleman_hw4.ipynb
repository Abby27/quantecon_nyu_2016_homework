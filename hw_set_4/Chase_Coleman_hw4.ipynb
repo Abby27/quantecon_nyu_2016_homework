{
 "cells": [
  {
   "cell_type": "markdown",
   "metadata": {},
   "source": [
    "# Comp Econ Homework Set 4\n",
    "\n",
    "**Author**: Chase Coleman\n",
    "\n",
    "**NYU ID**: N10879183\n",
    "\n",
    "**Due Date**: 4 March 2016"
   ]
  },
  {
   "cell_type": "code",
   "execution_count": 1,
   "metadata": {
    "collapsed": true
   },
   "outputs": [],
   "source": [
    "import numpy as np\n",
    "np.set_printoptions(suppress=True, precision=4)"
   ]
  },
  {
   "cell_type": "markdown",
   "metadata": {},
   "source": [
    "## Question\n",
    "\n",
    "Recall HW set 1, where you showed the downward bias in the OLS estimate of $\\alpha$ in the AR(1) process\n",
    "\n",
    "$$X_{t+1} = \\alpha X_{t} + \\beta + \\sigma W_{t+1}, \\; \\{W_t\\} \\sim N(0, 1)$$\n",
    "\n",
    "Repeat this now in python using some of the tools from the scientific libraries. Set $\\alpha = 0.5$ and compute an estimate of the bias for sample sizes $n = 50, 100, 150, \\dots, 500$. Plot with $n$ on the horizontal axis and bias on the vertical axis.\n",
    "\n",
    "Repeat (on the same figure) with $\\alpha = 0.6, 0.7, 0.8, 0.9$.\n",
    "\n",
    "Include your code in a Jupyter notebook that displays the resulting figure in the browser. Your notebook should not have external dependencies."
   ]
  },
  {
   "cell_type": "markdown",
   "metadata": {},
   "source": [
    "## Answer\n",
    "\n",
    "Since this is simply a one dimensional regression. We will use a special formula that will allow us to compute the slope coefficient on the fly. In particular, for a one dimensional regression we know:\n",
    "\n",
    "$$\\hat{\\alpha} = \\frac{\\sum_i x_i y_i - E[x] E[y]}{\\sum x_i^2 - n E[x]^2}$$\n",
    "\n",
    "Using this formula will allow us to get the regression coefficient without allocating memory for the simulation which for a large enough $T$ will make a difference.\n",
    "\n",
    "We set the parameter values below and use them for the rest of the code"
   ]
  },
  {
   "cell_type": "code",
   "execution_count": 2,
   "metadata": {
    "collapsed": false
   },
   "outputs": [],
   "source": [
    "alphavals = np.array([0.6, 0.7, 0.8, 0.9])\n",
    "Tvals = np.arange(50, 550, 50)\n",
    "beta, sig, N = 0.0, 0.1, 10000"
   ]
  },
  {
   "cell_type": "markdown",
   "metadata": {},
   "source": [
    "In order to maximize performance, we will take advantage of two packages found in Python:\n",
    "\n",
    "* `numba`\n",
    "* `multiprocessing`\n",
    "\n",
    "We will try to isolate the benefits of each of the tools we use from these packages by writing and racing a few version of our code. We will write\n",
    "\n",
    "1. vanilla python implementation (single-core)\n",
    "2. vanilla python implementation (multi-core via `multiprocessing`)\n",
    "3. `numba`-ized python implementation (single-core)\n",
    "4. `numba`-ized python implementation (multi-core via `numba`)\n",
    "5. `numba`-ized python implementation (multi-core via `multiprocessing`)\n",
    "\n",
    "I could have written additional versions of the code with `cython`, but ran out of time."
   ]
  },
  {
   "cell_type": "markdown",
   "metadata": {},
   "source": [
    "### (1) Vanilla Python Implementation (single-core)\n",
    "\n",
    "The first function we will write is `single_estimate_1` which simulates a single history of the AR(1) process and returns the estimated coefficient.\n",
    "\n",
    "**Note:** If I really wanted to run this as fast as possible, I would vectorize `single_estimate_1`/`compute_bias_1` using `numpy` and do all `N` at once for each `T`. Come back if I feel like it."
   ]
  },
  {
   "cell_type": "code",
   "execution_count": 3,
   "metadata": {
    "collapsed": true
   },
   "outputs": [],
   "source": [
    "def single_estimate_1(alpha, beta, sigma, T, seed=42):\n",
    "    # Set seed\n",
    "    np.random.seed(seed)\n",
    "    \n",
    "    # Variable that will be simulated\n",
    "    x = 0.0\n",
    "    y = 0.0\n",
    "    \n",
    "    # Create variables for computing coeff\n",
    "    xi_yi= 0.0  # xi*yi\n",
    "    xi2 = 0.0  # x^2\n",
    "    nE_x = 0.0  # E[x]\n",
    "    nE_y = 0.0  # E[y]\n",
    "    \n",
    "    # Go through simulation\n",
    "    for t in range(T):\n",
    "        # One step of AR(1)\n",
    "        x = beta + alpha*y + sigma*np.random.randn()\n",
    "        \n",
    "        # Add to all our variables of interest\n",
    "        xi_yi += x*y\n",
    "        xi2 += x*x\n",
    "        nE_x += x\n",
    "        nE_y += y\n",
    "        \n",
    "        # Update y\n",
    "        y = x\n",
    "    \n",
    "    # Use the specific formula that gives us the slope for 1 dim regression\n",
    "    # alphahat = \\frac{\\sum (xi yi) - E[x] E[y]}{\\sum xi^2 - 1/n E[x]^2}\n",
    "    bias = (xi_yi - (1/T)*nE_x*nE_y) / (xi2 - (1/T)*nE_x**2) - alpha\n",
    "    \n",
    "    return bias"
   ]
  },
  {
   "cell_type": "markdown",
   "metadata": {},
   "source": [
    "Next, we write two functions `compute_bias_1` and `compute_bias_allT_1`.\n",
    "\n",
    "* `compute_bias_1` will compute the bias `N` times using `single_estimate_1` and returns the average bias. We are appealing to law of large numbers and claiming our estimate of the bias is converging to the true bias as `N` goes to infinity.\n",
    "* `compute_bias_allT_1` will compute the bias `N` times for each value of `T` that it is given."
   ]
  },
  {
   "cell_type": "code",
   "execution_count": 4,
   "metadata": {
    "collapsed": true
   },
   "outputs": [],
   "source": [
    "def compute_bias_1(alpha, beta, sig, T, N):\n",
    "    # Place holder to put each element of bias\n",
    "    bias_i = 0.0\n",
    "    \n",
    "    for i in range(N):\n",
    "        bias_i += single_estimate_1(alpha, beta, sig, T, seed=i)\n",
    "        \n",
    "    return bias_i/N\n",
    "\n",
    "def compute_bias_allT_1(alpha, beta, sig, Tvals, N):\n",
    "    # Place holder for each bias\n",
    "    nT = len(Tvals)\n",
    "    biasT = np.empty(nT)\n",
    "    \n",
    "    for i in range(nT):\n",
    "        biasT[i] = compute_bias_1(alpha, beta, sig, Tvals[i], N)\n",
    "    \n",
    "    return biasT"
   ]
  },
  {
   "cell_type": "markdown",
   "metadata": {},
   "source": [
    "We can write `vanilla_python_single` to iterate over each value of $\\alpha$ that we would like to perform this operation for."
   ]
  },
  {
   "cell_type": "code",
   "execution_count": 5,
   "metadata": {
    "collapsed": true
   },
   "outputs": [],
   "source": [
    "def vanilla_python_single(alphavals, beta, sig, Tvals, N):\n",
    "    # Place holders\n",
    "    nalpha = len(alphavals)\n",
    "    nT = len(Tvals)\n",
    "    biases = np.empty((nalpha, nT))\n",
    "    \n",
    "    for i in range(nalpha):\n",
    "        calp = alphavals[i]\n",
    "        biases[i, :] = compute_bias_allT_1(calp, beta, sig, Tvals, N)\n",
    "    \n",
    "    return biases"
   ]
  },
  {
   "cell_type": "code",
   "execution_count": 6,
   "metadata": {
    "collapsed": false
   },
   "outputs": [
    {
     "name": "stdout",
     "output_type": "stream",
     "text": [
      "1 loop, best of 1: 1min 25s per loop\n"
     ]
    }
   ],
   "source": [
    "time1 = %timeit -r 1 -n 1 -o vanilla_python_single(alphavals, beta, sig, Tvals, N)"
   ]
  },
  {
   "cell_type": "markdown",
   "metadata": {},
   "source": [
    "### (2) Vanilla Python Implementation (multi-core)\n",
    "\n",
    "We can re-use most of the functions we wrote for our single-core vanilla Python implementation. We will choose to parallelize over `T` -- We could have chosen other levels of parallelization.\n",
    "\n",
    "We will only need to rewrite the `compute_bias_allT` function and the function which calls it. We will need to import `multiprocessing` and `repeat` from itertools"
   ]
  },
  {
   "cell_type": "code",
   "execution_count": 7,
   "metadata": {
    "collapsed": true
   },
   "outputs": [],
   "source": [
    "from itertools import repeat\n",
    "import multiprocessing as mp\n",
    "\n",
    "\n",
    "def compute_bias_allT_2(alpha, beta, sig, Tvals, N):\n",
    "    # Need to repeat args that are scalars for starmap\n",
    "    repargs = zip(repeat(alpha), repeat(beta),\n",
    "                  repeat(sig), Tvals, repeat(N))\n",
    "    \n",
    "    # Create a Pool with 5 processes and run\n",
    "    with mp.Pool(processes=5) as pool:\n",
    "        biases = pool.starmap(compute_bias_1, repargs, chunksize=1)\n",
    "        \n",
    "    return np.array(biases)"
   ]
  },
  {
   "cell_type": "markdown",
   "metadata": {},
   "source": [
    "We can now write a function which calls `compute_bias_allT_2` for each value of $\\alpha$ just as we did previously."
   ]
  },
  {
   "cell_type": "code",
   "execution_count": 8,
   "metadata": {
    "collapsed": true
   },
   "outputs": [],
   "source": [
    "def vanilla_python_multi(alphavals, beta, sig, Tvals, N):\n",
    "    # Place holders\n",
    "    nalpha = len(alphavals)\n",
    "    nT = len(Tvals)\n",
    "    biases = np.empty((nalpha, nT))\n",
    "    \n",
    "    for i in range(nalpha):\n",
    "        calp = alphavals[i]\n",
    "        biases[i, :] = compute_bias_allT_2(calp, beta, sig, Tvals, N)\n",
    "    \n",
    "    return biases"
   ]
  },
  {
   "cell_type": "code",
   "execution_count": 9,
   "metadata": {
    "collapsed": false
   },
   "outputs": [
    {
     "name": "stdout",
     "output_type": "stream",
     "text": [
      "1 loop, best of 1: 26.8 s per loop\n"
     ]
    }
   ],
   "source": [
    "time2 = %timeit -r 1 -n 1 -o vanilla_python_multi(alphavals, beta, sig, Tvals, N)"
   ]
  },
  {
   "cell_type": "markdown",
   "metadata": {},
   "source": [
    "### (3) Numba-ized Python (single-core)\n",
    "\n",
    "Again, much of the work has been for us here in the previous version. We will just in time compile (jit) our `single_estimate_1` function and then rewrite (and jit) the other related functions.\n",
    "\n",
    "We include the `nopython=True` specification in our `jit` command to ensure that the compiler never needs to reach into object mode (as opposed to compiled mode) -- `numba` tries to stay in compiled mode by default, but this option throws an error if it is unable to compile."
   ]
  },
  {
   "cell_type": "code",
   "execution_count": 10,
   "metadata": {
    "collapsed": false
   },
   "outputs": [],
   "source": [
    "from numba import jit, vectorize, float64, int64\n",
    "\n",
    "\n",
    "# Use python version to get a JITed version\n",
    "single_estimate_3 = jit(single_estimate_1, nopython=True)\n",
    "\n",
    "\n",
    "@jit(nopython=True)\n",
    "def compute_bias_3(alpha, beta, sig, T, N):\n",
    "    # Place holder to put each element of bias\n",
    "    bias_i = 0.0\n",
    "    \n",
    "    for i in range(N):\n",
    "        bias_i += single_estimate_3(alpha, beta, sig, T, i)\n",
    "        \n",
    "    return bias_i/N\n",
    "\n",
    "\n",
    "@jit(nopython=True)\n",
    "def compute_bias_allT_3(alpha, beta, sig, Tvals, N):\n",
    "    # Place holder for each bias\n",
    "    nT = len(Tvals)\n",
    "    biasT = np.empty(nT)\n",
    "    \n",
    "    for i in range(nT):\n",
    "        biasT[i] = compute_bias_3(alpha, beta, sig, Tvals[i], N)\n",
    "\n",
    "    return biasT\n",
    "\n",
    "\n",
    "def numba_python_single(alphavals, beta, sig, Tvals, N):\n",
    "    # Place holders\n",
    "    nalpha = len(alphavals)\n",
    "    nT = len(Tvals)\n",
    "    biases = np.empty((nalpha, nT))\n",
    "    \n",
    "    for i in range(nalpha):\n",
    "        calp = alphavals[i]\n",
    "        biases[i, :] = compute_bias_allT_3(calp, beta, sig, Tvals, N)\n",
    "    \n",
    "    return biases"
   ]
  },
  {
   "cell_type": "code",
   "execution_count": 11,
   "metadata": {
    "collapsed": false
   },
   "outputs": [
    {
     "name": "stdout",
     "output_type": "stream",
     "text": [
      "1 loop, best of 3: 4.49 s per loop\n"
     ]
    }
   ],
   "source": [
    "time3 = %timeit -o numba_python_single(alphavals, beta, sig, Tvals, N)"
   ]
  },
  {
   "cell_type": "markdown",
   "metadata": {},
   "source": [
    "### (4) Numba-ized Python (multi-core via numba)\n",
    "\n",
    "`numba` can just in time compile functions in several ways. One way it is allowed to do so is by using the `vectorize` function.\n",
    "\n",
    "`vectorize` creates a `ufunc` (a function which can be called on a scalar or an array). Additionally, `vectorize` will allow us to set `target=parallel` which will allow multiple processors to boot up. We are required to be specific about what types of arguments will come into vectorize.\n",
    "\n",
    "**Note:** Something is going wrong when switching from `target=cpu` to `target=parallel`. It is failing to use right seeds and is repeating instead. Look into this (Doing same amount of work... Just not doing the right work). Don't use to compute actual bias"
   ]
  },
  {
   "cell_type": "code",
   "execution_count": 12,
   "metadata": {
    "collapsed": false
   },
   "outputs": [],
   "source": [
    "# Use python version to get a JITed version\n",
    "single_estimate_4 = jit(single_estimate_1, nopython=True)\n",
    "\n",
    "# This is a vectorized function so we can give it multiple\n",
    "# values of T\n",
    "@vectorize(['float64(float64, float64, float64, int64, int64)'],\n",
    "           nopython=True, target='parallel')\n",
    "def compute_bias_4(alpha, beta, sig, T, N):\n",
    "    # Place holder to put each element of bias\n",
    "    bias_i = 0.0\n",
    "    \n",
    "    for i in range(N):\n",
    "        bias_i += single_estimate_4(alpha, beta, sig, T, i)\n",
    "        \n",
    "    return bias_i/N\n",
    "\n",
    "\n",
    "def numba_python_multinumba(alphavals, beta, sig, Tvals, N):\n",
    "    # Place holders\n",
    "    nalpha = len(alphavals)\n",
    "    nT = len(Tvals)\n",
    "    biases = np.empty((nalpha, nT))\n",
    "    \n",
    "    for i in range(nalpha):\n",
    "        calp = alphavals[i]\n",
    "        biases[i, :] = compute_bias_4(calp, beta, sig, Tvals, N)\n",
    "\n",
    "    return biases"
   ]
  },
  {
   "cell_type": "code",
   "execution_count": 13,
   "metadata": {
    "collapsed": false
   },
   "outputs": [
    {
     "name": "stdout",
     "output_type": "stream",
     "text": [
      "1 loop, best of 3: 3.35 s per loop\n"
     ]
    }
   ],
   "source": [
    "time4 = %timeit -o numba_python_multinumba(alphavals, beta, sig, Tvals, N)"
   ]
  },
  {
   "cell_type": "markdown",
   "metadata": {},
   "source": [
    "### (5) Numba-ized Python (multi-core via multiprocessing)\n",
    "\n",
    "We will now use `multiprocessing` to farm off some of our jit-ted computations to various processors. The parallel piece of the code will look very similar to the vanilla python with multiple cores."
   ]
  },
  {
   "cell_type": "code",
   "execution_count": 14,
   "metadata": {
    "collapsed": true
   },
   "outputs": [],
   "source": [
    "# Use python version to get a JITed version\n",
    "single_estimate_5 = jit(single_estimate_1, nopython=True)\n",
    "\n",
    "\n",
    "@jit(nopython=True)\n",
    "def compute_bias_5(alpha, beta, sig, T, N):\n",
    "    # Place holder to put each element of bias\n",
    "    bias_i = 0.0\n",
    "    \n",
    "    for i in range(N):\n",
    "        bias_i += single_estimate_5(alpha, beta, sig, T, i)\n",
    "        \n",
    "    return bias_i/N\n",
    "\n",
    "\n",
    "def compute_bias_allT_5(alpha, beta, sig, Tvals, N):\n",
    "    # Need to repeat args that are scalars for starmap\n",
    "    repargs = zip(repeat(alpha), repeat(beta),\n",
    "                  repeat(sig), Tvals, repeat(N))\n",
    "    \n",
    "    # Create a Pool with 5 processes and run\n",
    "    with mp.Pool(processes=5) as pool:\n",
    "        biasT = pool.starmap(compute_bias_5, repargs, chunksize=2)\n",
    "\n",
    "    return np.array(biasT)\n",
    "\n",
    "\n",
    "def numba_python_multimp(alphavals, beta, sig, Tvals, N):\n",
    "    # Place holders\n",
    "    nalpha = len(alphavals)\n",
    "    nT = len(Tvals)\n",
    "    biases = np.empty((nalpha, nT))\n",
    "    \n",
    "    for i in range(nalpha):\n",
    "        calp = alphavals[i]\n",
    "        biases[i, :] = compute_bias_allT_5(calp, beta, sig, Tvals, N)\n",
    "    \n",
    "    return biases"
   ]
  },
  {
   "cell_type": "code",
   "execution_count": 15,
   "metadata": {
    "collapsed": false
   },
   "outputs": [
    {
     "name": "stdout",
     "output_type": "stream",
     "text": [
      "1 loop, best of 3: 2.67 s per loop\n"
     ]
    }
   ],
   "source": [
    "time5 = %timeit -o numba_python_multimp(alphavals, beta, sig, Tvals, N)"
   ]
  },
  {
   "cell_type": "code",
   "execution_count": 16,
   "metadata": {
    "collapsed": true
   },
   "outputs": [],
   "source": [
    "import matplotlib.pyplot as plt\n",
    "import pandas as pd\n",
    "import seaborn as sns\n",
    "\n",
    "%matplotlib inline"
   ]
  },
  {
   "cell_type": "markdown",
   "metadata": {},
   "source": [
    "### Display Timings"
   ]
  },
  {
   "cell_type": "code",
   "execution_count": 17,
   "metadata": {
    "collapsed": false
   },
   "outputs": [
    {
     "name": "stdout",
     "output_type": "stream",
     "text": [
      "                                   Time\n",
      "Vanilla Python                85.217555\n",
      "Multiprocessing Python        26.838526\n",
      "Numba Python                   4.490973\n",
      "Numba Vectorize Python         3.347666\n",
      "Numba Multiprocessing Python   2.672677\n"
     ]
    }
   ],
   "source": [
    "times = [time1, time2, time3, time4, time5]\n",
    "method = [\"Vanilla Python\", \"Multiprocessing Python\",\n",
    "          \"Numba Python\", \"Numba Vectorize Python\",\n",
    "         \"Numba Multiprocessing Python\"]\n",
    "df = pd.DataFrame(np.array([x.best for x in times]),\n",
    "                  index=method, columns=[\"Time\"])\n",
    "\n",
    "print(df)"
   ]
  },
  {
   "cell_type": "markdown",
   "metadata": {},
   "source": [
    "\n",
    "## Plot Bias"
   ]
  },
  {
   "cell_type": "code",
   "execution_count": 18,
   "metadata": {
    "collapsed": false
   },
   "outputs": [],
   "source": [
    "def create_downward_bias_plot(alphavals, beta, sig, Tvals, N):\n",
    "    # Get bias\n",
    "    bias = numba_python_multimp(alphavals, beta, sig, Tvals, N)\n",
    "\n",
    "    # Create subplot\n",
    "    fig, ax = plt.subplots(figsize=(12, 8))\n",
    "\n",
    "    # Plot biases\n",
    "    ax.plot(Tvals, bias.T)\n",
    "\n",
    "    ax.legend(alphavals, loc=2)\n",
    "    ax.set_xlabel(\"Time\")\n",
    "    ax.set_ylabel(r\"$E[\\hat{\\alpha}] - \\alpha$\")\n",
    "    ax.set_title(\"Downward Bias in AR(1) Coefficient\")\n",
    "    \n",
    "    return fig"
   ]
  },
  {
   "cell_type": "code",
   "execution_count": 19,
   "metadata": {
    "collapsed": false
   },
   "outputs": [
    {
     "data": {
      "image/png": "[encoded data removed]",
      "text/plain": [
       "<matplotlib.figure.Figure at 0x7fcf79566208>"
      ]
     },
     "metadata": {},
     "output_type": "display_data"
    }
   ],
   "source": [
    "f = create_downward_bias_plot(alphavals, beta, sig, Tvals, N)"
   ]
  },
  {
   "cell_type": "markdown",
   "metadata": {},
   "source": [
    "Notice that the biases moves toward 0 as we move time towards infinity. This is because of the consistency properties of OLS for the AR(1).\n",
    "\n",
    "Additionally, one could note that the bias is more pronounced the more persistent the process is."
   ]
  }
 ],
 "metadata": {
  "kernelspec": {
   "display_name": "Python 3",
   "language": "python",
   "name": "python3"
  },
  "language_info": {
   "codemirror_mode": {
    "name": "ipython",
    "version": 3
   },
   "file_extension": ".py",
   "mimetype": "text/x-python",
   "name": "python",
   "nbconvert_exporter": "python",
   "pygments_lexer": "ipython3",
   "version": "3.5.1"
  }
 },
 "nbformat": 4,
 "nbformat_minor": 0
}
