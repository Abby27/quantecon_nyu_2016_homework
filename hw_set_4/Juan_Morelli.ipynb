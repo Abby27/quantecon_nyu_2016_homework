{
 "cells": [
  {
   "cell_type": "markdown",
   "metadata": {},
   "source": [
    "## Problem Set #4 NYU\n",
    "Juan Martin Morelli\n",
    "N12699038"
   ]
  },
  {
   "cell_type": "code",
   "execution_count": 3,
   "metadata": {
    "collapsed": true
   },
   "outputs": [],
   "source": [
    "from numba import jit\n",
    "import numpy as np\n",
    "from numpy.linalg import inv\n",
    "import matplotlib.pyplot as plt"
   ]
  },
  {
   "cell_type": "code",
   "execution_count": 20,
   "metadata": {
    "collapsed": false
   },
   "outputs": [],
   "source": [
    "# In the following block I will define the functions for generating the AR1 data,\n",
    "# estimating the AR process and simulating.\n",
    "# After each definition I call for the numba version.\n",
    "\n",
    "\n",
    "# Define the AR1 data generating function\n",
    "def gen_ar1(N,params):\n",
    "    # order of params: alpha, beta, sigma\n",
    "    # beta is the constant, alpha is the AR coefficient, sigma is the s.d.\n",
    "    alpha = params[0]\n",
    "    beta  = params[1]\n",
    "    sigma = params[2]\n",
    "    x = np.zeros(N)\n",
    "    for i in range(N-1):\n",
    "        x[i+1] = beta + alpha*x[i] + sigma*np.random.randn()\n",
    "    \n",
    "    return x\n",
    "\n",
    "gen_ar1_numba = jit(gen_ar1)  \n",
    "\n",
    "\n",
    "# Define the AR1 estimating function\n",
    "def est_ar1(N,data):\n",
    "    intercept = np.ones(N-1)\n",
    "    b2 = data[0:-1]\n",
    "    xx = np.concatenate((intercept, b2))\n",
    "    XT = xx.reshape(2,N-1)\n",
    "    X = XT.T\n",
    "    Y = data[1:N]\n",
    "    bhat = np.dot(inv(np.dot(XT,X)),(np.dot(XT,Y)))\n",
    "    \n",
    "    return bhat\n",
    "\n",
    "est_ar1_numba = jit(est_ar1)\n",
    "\n",
    "\n",
    "# Define the simulation function\n",
    "def simul(N,params,S_N):\n",
    "    bet_hat = 0.0\n",
    "    for i in range(S_N):\n",
    "        data = gen_ar1_numba(N,params)\n",
    "        bhat = est_ar1_numba(N,data)\n",
    "        bet_hat += bhat[1]\n",
    "    \n",
    "    bhat_avg = bet_hat/S_N\n",
    "    \n",
    "    return bhat_avg\n",
    "    \n",
    "simul_numba = jit(simul)\n"
   ]
  },
  {
   "cell_type": "code",
   "execution_count": 24,
   "metadata": {
    "collapsed": false
   },
   "outputs": [
    {
     "data": {
      "image/png": "[encoded data removed]",
      "text/plain": [
       "<matplotlib.figure.Figure at 0x10f91eb70>"
      ]
     },
     "metadata": {},
     "output_type": "display_data"
    },
    {
     "name": "stdout",
     "output_type": "stream",
     "text": [
      "CPU times: user 12.2 s, sys: 52 ms, total: 12.2 s\n",
      "Wall time: 12.2 s\n"
     ]
    }
   ],
   "source": [
    "%%time\n",
    "\n",
    "%matplotlib inline\n",
    "# Second block. Now I define the vectors for alphas and samples sizes.\n",
    "# Then I call for each alpha and sample size the simulation function.\n",
    "alphas = np.array([0.6, 0.7, 0.8, 0.9])\n",
    "N_nums = np.arange(50,500,100)\n",
    "\n",
    "bias = np.zeros(((len(N_nums)),len(alphas)))\n",
    "S_N = 10000 # number of simulations\n",
    "\n",
    "for a_i in range(len(alphas)):\n",
    "    alpha = alphas[a_i]\n",
    "    # does not work if you put [alpha, 0.0, 0.3]   \n",
    "    params = (alpha, 0.0, 0.3)\n",
    "    for N_i in range(len(N_nums)):\n",
    "        N = N_nums[N_i]\n",
    "        bsim = simul_numba(N,params,S_N)\n",
    "        bias[N_i,a_i] = bsim - alpha\n",
    "\n",
    "# Now I plot\n",
    "fig, ax = plt.subplots()\n",
    "for a_i in range(len(alphas)):\n",
    "    current_label = r'$\\alpha = {0:.1f}$'.format(alphas[a_i])\n",
    "    ax.plot(N_nums, bias[:,a_i], linewidth=2, alpha=0.6, label=current_label)\n",
    "ax.legend(loc='lower right')\n",
    "plt.show()"
   ]
  },
  {
   "cell_type": "code",
   "execution_count": null,
   "metadata": {
    "collapsed": true
   },
   "outputs": [],
   "source": [
    "# The %time command gave:\n",
    "# CPU times: user 3 µs, sys: 0 ns, total: 3 µs\n",
    "# Wall time: 5.01 µs\n",
    "\n",
    "# All in all it took approx 10 seconds.\n",
    "# I got the same plot as in the assignment."
   ]
  }
 ],
 "metadata": {
  "kernelspec": {
   "display_name": "Python 3",
   "language": "python",
   "name": "python3"
  },
  "language_info": {
   "codemirror_mode": {
    "name": "ipython",
    "version": 3
   },
   "file_extension": ".py",
   "mimetype": "text/x-python",
   "name": "python",
   "nbconvert_exporter": "python",
   "pygments_lexer": "ipython3",
   "version": "3.5.1"
  }
 },
 "nbformat": 4,
 "nbformat_minor": 0
}
